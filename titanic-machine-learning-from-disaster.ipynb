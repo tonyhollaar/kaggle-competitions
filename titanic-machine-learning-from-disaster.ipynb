{
 "cells": [
  {
   "cell_type": "markdown",
   "id": "11ec7b25",
   "metadata": {
    "papermill": {
     "duration": 0.009866,
     "end_time": "2023-01-15T04:55:56.450987",
     "exception": false,
     "start_time": "2023-01-15T04:55:56.441121",
     "status": "completed"
    },
    "tags": []
   },
   "source": [
    "# <b> Titanic Machine Learning from Disaster </b>\n",
    "- source: https://www.kaggle.com/competitions/titanic/overview"
   ]
  },
  {
   "cell_type": "markdown",
   "id": "78a09a8d",
   "metadata": {
    "papermill": {
     "duration": 0.008372,
     "end_time": "2023-01-15T04:55:56.468153",
     "exception": false,
     "start_time": "2023-01-15T04:55:56.459781",
     "status": "completed"
    },
    "tags": []
   },
   "source": [
    "## <b> History </b>\n",
    "\"Titanic, launched on May 31, 1911, and set sail on its maiden voyage from Southampton on April 10, 1912, with 2,240 passengers and crew on board. On April 15, 1912, after striking an iceberg, Titanic broke apart and sank to the bottom of the ocean, taking with it the lives of more than 1,500 passengers and crew.\"\n",
    "- source: https://www.noaa.gov/gc-international-section/rms-titanic-history-and-significance"
   ]
  },
  {
   "cell_type": "markdown",
   "id": "415d20b6",
   "metadata": {
    "papermill": {
     "duration": 0.009559,
     "end_time": "2023-01-15T04:55:56.486424",
     "exception": false,
     "start_time": "2023-01-15T04:55:56.476865",
     "status": "completed"
    },
    "tags": []
   },
   "source": [
    "## 1.0 Data Dictionary\n",
    "- source: https://www.kaggle.com/competitions/titanic/data"
   ]
  },
  {
   "cell_type": "markdown",
   "id": "7e6a9be4",
   "metadata": {
    "execution": {
     "iopub.execute_input": "2023-01-13T23:17:11.991018Z",
     "iopub.status.busy": "2023-01-13T23:17:11.990385Z",
     "iopub.status.idle": "2023-01-13T23:17:12.007400Z",
     "shell.execute_reply": "2023-01-13T23:17:12.005463Z",
     "shell.execute_reply.started": "2023-01-13T23:17:11.990955Z"
    },
    "papermill": {
     "duration": 0.008321,
     "end_time": "2023-01-15T04:55:56.503372",
     "exception": false,
     "start_time": "2023-01-15T04:55:56.495051",
     "status": "completed"
    },
    "tags": []
   },
   "source": [
    "| Variable | Definition                                  | Key                                            |\n",
    "| -------- | ------------------------------------------- | ---------------------------------------------- |\n",
    "| survival | Survival                                    | 0 = No, 1 = Yes                                |\n",
    "| pclass   | Ticket class                                | 1 = 1st, 2 = 2nd, 3 = 3rd                      |\n",
    "| sex      | Sex                                         |                                                |\n",
    "| Age      | Age in years                                |                                                |\n",
    "| sibsp    | \\# of siblings / spouses aboard the Titanic |                                                |\n",
    "| parch    | \\# of parents / children aboard the Titanic |                                                |\n",
    "| ticket   | Ticket number                               |                                                |\n",
    "| fare     | Passenger fare                              |                                                |\n",
    "| cabin    | Cabin number                                |                                                |\n",
    "| embarked | Port of Embarkation                         | C = Cherbourg, Q = Queenstown, S = Southampton |"
   ]
  },
  {
   "cell_type": "markdown",
   "id": "9c58fddb",
   "metadata": {
    "execution": {
     "iopub.execute_input": "2023-01-13T23:17:07.419015Z",
     "iopub.status.busy": "2023-01-13T23:17:07.418521Z",
     "iopub.status.idle": "2023-01-13T23:17:07.431755Z",
     "shell.execute_reply": "2023-01-13T23:17:07.430256Z",
     "shell.execute_reply.started": "2023-01-13T23:17:07.418964Z"
    },
    "papermill": {
     "duration": 0.008643,
     "end_time": "2023-01-15T04:55:56.520620",
     "exception": false,
     "start_time": "2023-01-15T04:55:56.511977",
     "status": "completed"
    },
    "tags": []
   },
   "source": [
    "<b> Variable Notes </b>\n",
    "\n",
    "- <b> pclass </b>: A proxy for socio-economic status (SES)\n",
    "   * 1st = Upper\n",
    "   * 2nd = Middle\n",
    "   * 3rd = Lower\n",
    "   \n",
    "- <b> age </b>: Age is fractional if less than 1. If the age is estimated, is it in the form of xx.5\n",
    "\n",
    "- <b> sibsp </b>: The dataset defines family relations in this way...\n",
    "- <b> Sibling </b> = brother, sister, stepbrother, stepsister\n",
    "- <b> Spouse </b> = husband, wife (mistresses and fiancés were ignored)\n",
    "\n",
    "- <b> parch </b>: The dataset defines family relations in this way...\n",
    "- <b> Parent </b> = mother, father\n",
    "- <b> Child </b> = daughter, son, stepdaughter, stepson\n",
    "- Some children travelled only with a nanny, therefore parch=0 for them."
   ]
  },
  {
   "cell_type": "markdown",
   "id": "f5c20e6b",
   "metadata": {
    "papermill": {
     "duration": 0.00857,
     "end_time": "2023-01-15T04:55:56.538183",
     "exception": false,
     "start_time": "2023-01-15T04:55:56.529613",
     "status": "completed"
    },
    "tags": []
   },
   "source": [
    "## 1.1 Load Packages"
   ]
  },
  {
   "cell_type": "code",
   "execution_count": 1,
   "id": "e4759722",
   "metadata": {
    "_cell_guid": "b1076dfc-b9ad-4769-8c92-a6c4dae69d19",
    "_uuid": "8f2839f25d086af736a60e9eeb907d3b93b6e0e5",
    "execution": {
     "iopub.execute_input": "2023-01-15T04:55:56.558507Z",
     "iopub.status.busy": "2023-01-15T04:55:56.557246Z",
     "iopub.status.idle": "2023-01-15T04:55:56.569681Z",
     "shell.execute_reply": "2023-01-15T04:55:56.568969Z"
    },
    "papermill": {
     "duration": 0.025031,
     "end_time": "2023-01-15T04:55:56.572086",
     "exception": false,
     "start_time": "2023-01-15T04:55:56.547055",
     "status": "completed"
    },
    "tags": []
   },
   "outputs": [
    {
     "name": "stdout",
     "output_type": "stream",
     "text": [
      "/kaggle/input/titanic/train.csv\n",
      "/kaggle/input/titanic/test.csv\n",
      "/kaggle/input/titanic/gender_submission.csv\n"
     ]
    }
   ],
   "source": [
    "# This Python 3 environment comes with many helpful analytics libraries installed\n",
    "# It is defined by the kaggle/python Docker image: https://github.com/kaggle/docker-python\n",
    "# For example, here's several helpful packages to load\n",
    "import numpy as np # linear algebra\n",
    "import pandas as pd # data processing, CSV file I/O (e.g. pd.read_csv)\n",
    "\n",
    "# Input data files are available in the read-only \"../input/\" directory\n",
    "# For example, running this (by clicking run or pressing Shift+Enter) will list all files under the input directory\n",
    "import os\n",
    "for dirname, _, filenames in os.walk('/kaggle/input'):\n",
    "    for filename in filenames:\n",
    "        print(os.path.join(dirname, filename))\n",
    "\n",
    "# You can write up to 20GB to the current directory (/kaggle/working/) that gets preserved as output when you create a version using \"Save & Run All\" \n",
    "# You can also write temporary files to /kaggle/temp/, but they won't be saved outside of the current session"
   ]
  },
  {
   "cell_type": "code",
   "execution_count": 2,
   "id": "53d7adda",
   "metadata": {
    "execution": {
     "iopub.execute_input": "2023-01-15T04:55:56.592513Z",
     "iopub.status.busy": "2023-01-15T04:55:56.591937Z",
     "iopub.status.idle": "2023-01-15T04:55:57.690331Z",
     "shell.execute_reply": "2023-01-15T04:55:57.688811Z"
    },
    "papermill": {
     "duration": 1.111741,
     "end_time": "2023-01-15T04:55:57.693358",
     "exception": false,
     "start_time": "2023-01-15T04:55:56.581617",
     "status": "completed"
    },
    "tags": []
   },
   "outputs": [],
   "source": [
    "import matplotlib.pyplot as plt # visualizations/graphs\n",
    "from sklearn.model_selection import GridSearchCV\n",
    "from sklearn.ensemble import RandomForestClassifier"
   ]
  },
  {
   "cell_type": "markdown",
   "id": "67728764",
   "metadata": {
    "papermill": {
     "duration": 0.008493,
     "end_time": "2023-01-15T04:55:57.711166",
     "exception": false,
     "start_time": "2023-01-15T04:55:57.702673",
     "status": "completed"
    },
    "tags": []
   },
   "source": [
    "## 1.2 Load Data"
   ]
  },
  {
   "cell_type": "code",
   "execution_count": 3,
   "id": "6c5184d9",
   "metadata": {
    "execution": {
     "iopub.execute_input": "2023-01-15T04:55:57.730895Z",
     "iopub.status.busy": "2023-01-15T04:55:57.730259Z",
     "iopub.status.idle": "2023-01-15T04:55:57.770324Z",
     "shell.execute_reply": "2023-01-15T04:55:57.769378Z"
    },
    "papermill": {
     "duration": 0.052685,
     "end_time": "2023-01-15T04:55:57.772688",
     "exception": false,
     "start_time": "2023-01-15T04:55:57.720003",
     "status": "completed"
    },
    "tags": []
   },
   "outputs": [],
   "source": [
    "# load training dataset\n",
    "train_data = pd.read_csv(\"/kaggle/input/titanic/train.csv\")\n",
    "# load test dataset\n",
    "test_data = pd.read_csv(\"/kaggle/input/titanic/test.csv\")\n",
    "total_data = pd.concat([train_data, test_data], axis=0, sort=False,  ignore_index=True)"
   ]
  },
  {
   "cell_type": "markdown",
   "id": "b2083c46",
   "metadata": {
    "papermill": {
     "duration": 0.008453,
     "end_time": "2023-01-15T04:55:57.790600",
     "exception": false,
     "start_time": "2023-01-15T04:55:57.782147",
     "status": "completed"
    },
    "tags": []
   },
   "source": [
    "## 1.3 EDA - Exploratory Data Analysis"
   ]
  },
  {
   "cell_type": "markdown",
   "id": "a3ad0793",
   "metadata": {
    "papermill": {
     "duration": 0.008288,
     "end_time": "2023-01-15T04:55:57.807564",
     "exception": false,
     "start_time": "2023-01-15T04:55:57.799276",
     "status": "completed"
    },
    "tags": []
   },
   "source": [
    "### Check data - train_data / test_data / total_data"
   ]
  },
  {
   "cell_type": "code",
   "execution_count": 4,
   "id": "6ad95abb",
   "metadata": {
    "execution": {
     "iopub.execute_input": "2023-01-15T04:55:57.826588Z",
     "iopub.status.busy": "2023-01-15T04:55:57.826102Z",
     "iopub.status.idle": "2023-01-15T04:55:57.845300Z",
     "shell.execute_reply": "2023-01-15T04:55:57.844241Z"
    },
    "papermill": {
     "duration": 0.030895,
     "end_time": "2023-01-15T04:55:57.847167",
     "exception": false,
     "start_time": "2023-01-15T04:55:57.816272",
     "status": "completed"
    },
    "tags": []
   },
   "outputs": [
    {
     "data": {
      "text/html": [
       "<div>\n",
       "<style scoped>\n",
       "    .dataframe tbody tr th:only-of-type {\n",
       "        vertical-align: middle;\n",
       "    }\n",
       "\n",
       "    .dataframe tbody tr th {\n",
       "        vertical-align: top;\n",
       "    }\n",
       "\n",
       "    .dataframe thead th {\n",
       "        text-align: right;\n",
       "    }\n",
       "</style>\n",
       "<table border=\"1\" class=\"dataframe\">\n",
       "  <thead>\n",
       "    <tr style=\"text-align: right;\">\n",
       "      <th></th>\n",
       "      <th>PassengerId</th>\n",
       "      <th>Survived</th>\n",
       "      <th>Pclass</th>\n",
       "      <th>Name</th>\n",
       "      <th>Sex</th>\n",
       "      <th>Age</th>\n",
       "      <th>SibSp</th>\n",
       "      <th>Parch</th>\n",
       "      <th>Ticket</th>\n",
       "      <th>Fare</th>\n",
       "      <th>Cabin</th>\n",
       "      <th>Embarked</th>\n",
       "    </tr>\n",
       "  </thead>\n",
       "  <tbody>\n",
       "    <tr>\n",
       "      <th>0</th>\n",
       "      <td>1</td>\n",
       "      <td>0</td>\n",
       "      <td>3</td>\n",
       "      <td>Braund, Mr. Owen Harris</td>\n",
       "      <td>male</td>\n",
       "      <td>22.0</td>\n",
       "      <td>1</td>\n",
       "      <td>0</td>\n",
       "      <td>A/5 21171</td>\n",
       "      <td>7.25</td>\n",
       "      <td>NaN</td>\n",
       "      <td>S</td>\n",
       "    </tr>\n",
       "  </tbody>\n",
       "</table>\n",
       "</div>"
      ],
      "text/plain": [
       "   PassengerId  Survived  Pclass                     Name   Sex   Age  SibSp  \\\n",
       "0            1         0       3  Braund, Mr. Owen Harris  male  22.0      1   \n",
       "\n",
       "   Parch     Ticket  Fare Cabin Embarked  \n",
       "0      0  A/5 21171  7.25   NaN        S  "
      ]
     },
     "execution_count": 4,
     "metadata": {},
     "output_type": "execute_result"
    }
   ],
   "source": [
    "train_data.head(1)"
   ]
  },
  {
   "cell_type": "code",
   "execution_count": 5,
   "id": "196710cf",
   "metadata": {
    "execution": {
     "iopub.execute_input": "2023-01-15T04:55:57.866451Z",
     "iopub.status.busy": "2023-01-15T04:55:57.866130Z",
     "iopub.status.idle": "2023-01-15T04:55:57.879573Z",
     "shell.execute_reply": "2023-01-15T04:55:57.878579Z"
    },
    "papermill": {
     "duration": 0.025037,
     "end_time": "2023-01-15T04:55:57.881281",
     "exception": false,
     "start_time": "2023-01-15T04:55:57.856244",
     "status": "completed"
    },
    "tags": []
   },
   "outputs": [
    {
     "data": {
      "text/html": [
       "<div>\n",
       "<style scoped>\n",
       "    .dataframe tbody tr th:only-of-type {\n",
       "        vertical-align: middle;\n",
       "    }\n",
       "\n",
       "    .dataframe tbody tr th {\n",
       "        vertical-align: top;\n",
       "    }\n",
       "\n",
       "    .dataframe thead th {\n",
       "        text-align: right;\n",
       "    }\n",
       "</style>\n",
       "<table border=\"1\" class=\"dataframe\">\n",
       "  <thead>\n",
       "    <tr style=\"text-align: right;\">\n",
       "      <th></th>\n",
       "      <th>PassengerId</th>\n",
       "      <th>Pclass</th>\n",
       "      <th>Name</th>\n",
       "      <th>Sex</th>\n",
       "      <th>Age</th>\n",
       "      <th>SibSp</th>\n",
       "      <th>Parch</th>\n",
       "      <th>Ticket</th>\n",
       "      <th>Fare</th>\n",
       "      <th>Cabin</th>\n",
       "      <th>Embarked</th>\n",
       "    </tr>\n",
       "  </thead>\n",
       "  <tbody>\n",
       "    <tr>\n",
       "      <th>0</th>\n",
       "      <td>892</td>\n",
       "      <td>3</td>\n",
       "      <td>Kelly, Mr. James</td>\n",
       "      <td>male</td>\n",
       "      <td>34.5</td>\n",
       "      <td>0</td>\n",
       "      <td>0</td>\n",
       "      <td>330911</td>\n",
       "      <td>7.8292</td>\n",
       "      <td>NaN</td>\n",
       "      <td>Q</td>\n",
       "    </tr>\n",
       "  </tbody>\n",
       "</table>\n",
       "</div>"
      ],
      "text/plain": [
       "   PassengerId  Pclass              Name   Sex   Age  SibSp  Parch  Ticket  \\\n",
       "0          892       3  Kelly, Mr. James  male  34.5      0      0  330911   \n",
       "\n",
       "     Fare Cabin Embarked  \n",
       "0  7.8292   NaN        Q  "
      ]
     },
     "execution_count": 5,
     "metadata": {},
     "output_type": "execute_result"
    }
   ],
   "source": [
    "test_data.head(1)"
   ]
  },
  {
   "cell_type": "code",
   "execution_count": 6,
   "id": "2d88368a",
   "metadata": {
    "execution": {
     "iopub.execute_input": "2023-01-15T04:55:57.901083Z",
     "iopub.status.busy": "2023-01-15T04:55:57.900599Z",
     "iopub.status.idle": "2023-01-15T04:55:57.915080Z",
     "shell.execute_reply": "2023-01-15T04:55:57.914129Z"
    },
    "papermill": {
     "duration": 0.02634,
     "end_time": "2023-01-15T04:55:57.916736",
     "exception": false,
     "start_time": "2023-01-15T04:55:57.890396",
     "status": "completed"
    },
    "tags": []
   },
   "outputs": [
    {
     "data": {
      "text/html": [
       "<div>\n",
       "<style scoped>\n",
       "    .dataframe tbody tr th:only-of-type {\n",
       "        vertical-align: middle;\n",
       "    }\n",
       "\n",
       "    .dataframe tbody tr th {\n",
       "        vertical-align: top;\n",
       "    }\n",
       "\n",
       "    .dataframe thead th {\n",
       "        text-align: right;\n",
       "    }\n",
       "</style>\n",
       "<table border=\"1\" class=\"dataframe\">\n",
       "  <thead>\n",
       "    <tr style=\"text-align: right;\">\n",
       "      <th></th>\n",
       "      <th>PassengerId</th>\n",
       "      <th>Survived</th>\n",
       "      <th>Pclass</th>\n",
       "      <th>Name</th>\n",
       "      <th>Sex</th>\n",
       "      <th>Age</th>\n",
       "      <th>SibSp</th>\n",
       "      <th>Parch</th>\n",
       "      <th>Ticket</th>\n",
       "      <th>Fare</th>\n",
       "      <th>Cabin</th>\n",
       "      <th>Embarked</th>\n",
       "    </tr>\n",
       "  </thead>\n",
       "  <tbody>\n",
       "    <tr>\n",
       "      <th>1308</th>\n",
       "      <td>1309</td>\n",
       "      <td>NaN</td>\n",
       "      <td>3</td>\n",
       "      <td>Peter, Master. Michael J</td>\n",
       "      <td>male</td>\n",
       "      <td>NaN</td>\n",
       "      <td>1</td>\n",
       "      <td>1</td>\n",
       "      <td>2668</td>\n",
       "      <td>22.3583</td>\n",
       "      <td>NaN</td>\n",
       "      <td>C</td>\n",
       "    </tr>\n",
       "  </tbody>\n",
       "</table>\n",
       "</div>"
      ],
      "text/plain": [
       "      PassengerId  Survived  Pclass                      Name   Sex  Age  \\\n",
       "1308         1309       NaN       3  Peter, Master. Michael J  male  NaN   \n",
       "\n",
       "      SibSp  Parch Ticket     Fare Cabin Embarked  \n",
       "1308      1      1   2668  22.3583   NaN        C  "
      ]
     },
     "execution_count": 6,
     "metadata": {},
     "output_type": "execute_result"
    }
   ],
   "source": [
    "total_data.tail(1)"
   ]
  },
  {
   "cell_type": "code",
   "execution_count": 7,
   "id": "e8b831ef",
   "metadata": {
    "execution": {
     "iopub.execute_input": "2023-01-15T04:55:57.936593Z",
     "iopub.status.busy": "2023-01-15T04:55:57.936220Z",
     "iopub.status.idle": "2023-01-15T04:55:57.957285Z",
     "shell.execute_reply": "2023-01-15T04:55:57.955699Z"
    },
    "papermill": {
     "duration": 0.03343,
     "end_time": "2023-01-15T04:55:57.959394",
     "exception": false,
     "start_time": "2023-01-15T04:55:57.925964",
     "status": "completed"
    },
    "tags": []
   },
   "outputs": [
    {
     "name": "stdout",
     "output_type": "stream",
     "text": [
      "<class 'pandas.core.frame.DataFrame'>\n",
      "RangeIndex: 891 entries, 0 to 890\n",
      "Data columns (total 12 columns):\n",
      " #   Column       Non-Null Count  Dtype  \n",
      "---  ------       --------------  -----  \n",
      " 0   PassengerId  891 non-null    int64  \n",
      " 1   Survived     891 non-null    int64  \n",
      " 2   Pclass       891 non-null    int64  \n",
      " 3   Name         891 non-null    object \n",
      " 4   Sex          891 non-null    object \n",
      " 5   Age          714 non-null    float64\n",
      " 6   SibSp        891 non-null    int64  \n",
      " 7   Parch        891 non-null    int64  \n",
      " 8   Ticket       891 non-null    object \n",
      " 9   Fare         891 non-null    float64\n",
      " 10  Cabin        204 non-null    object \n",
      " 11  Embarked     889 non-null    object \n",
      "dtypes: float64(2), int64(5), object(5)\n",
      "memory usage: 83.7+ KB\n"
     ]
    }
   ],
   "source": [
    "train_data.info()"
   ]
  },
  {
   "cell_type": "code",
   "execution_count": 8,
   "id": "62047d76",
   "metadata": {
    "execution": {
     "iopub.execute_input": "2023-01-15T04:55:57.982621Z",
     "iopub.status.busy": "2023-01-15T04:55:57.981667Z",
     "iopub.status.idle": "2023-01-15T04:55:58.001306Z",
     "shell.execute_reply": "2023-01-15T04:55:58.000196Z"
    },
    "papermill": {
     "duration": 0.032713,
     "end_time": "2023-01-15T04:55:58.003152",
     "exception": false,
     "start_time": "2023-01-15T04:55:57.970439",
     "status": "completed"
    },
    "tags": []
   },
   "outputs": [
    {
     "name": "stdout",
     "output_type": "stream",
     "text": [
      "--------------------------------------------\n",
      "Missing values in dataset i.e. NaN values\n",
      "--------------------------------------------\n"
     ]
    },
    {
     "data": {
      "text/html": [
       "<div>\n",
       "<style scoped>\n",
       "    .dataframe tbody tr th:only-of-type {\n",
       "        vertical-align: middle;\n",
       "    }\n",
       "\n",
       "    .dataframe tbody tr th {\n",
       "        vertical-align: top;\n",
       "    }\n",
       "\n",
       "    .dataframe thead th {\n",
       "        text-align: right;\n",
       "    }\n",
       "</style>\n",
       "<table border=\"1\" class=\"dataframe\">\n",
       "  <thead>\n",
       "    <tr style=\"text-align: right;\">\n",
       "      <th></th>\n",
       "      <th>values_missing</th>\n",
       "      <th>perc_nan</th>\n",
       "    </tr>\n",
       "  </thead>\n",
       "  <tbody>\n",
       "    <tr>\n",
       "      <th>Cabin</th>\n",
       "      <td>687</td>\n",
       "      <td>77.10</td>\n",
       "    </tr>\n",
       "    <tr>\n",
       "      <th>Age</th>\n",
       "      <td>177</td>\n",
       "      <td>19.87</td>\n",
       "    </tr>\n",
       "    <tr>\n",
       "      <th>Embarked</th>\n",
       "      <td>2</td>\n",
       "      <td>0.22</td>\n",
       "    </tr>\n",
       "    <tr>\n",
       "      <th>PassengerId</th>\n",
       "      <td>0</td>\n",
       "      <td>0.00</td>\n",
       "    </tr>\n",
       "    <tr>\n",
       "      <th>Survived</th>\n",
       "      <td>0</td>\n",
       "      <td>0.00</td>\n",
       "    </tr>\n",
       "    <tr>\n",
       "      <th>Pclass</th>\n",
       "      <td>0</td>\n",
       "      <td>0.00</td>\n",
       "    </tr>\n",
       "    <tr>\n",
       "      <th>Name</th>\n",
       "      <td>0</td>\n",
       "      <td>0.00</td>\n",
       "    </tr>\n",
       "    <tr>\n",
       "      <th>Sex</th>\n",
       "      <td>0</td>\n",
       "      <td>0.00</td>\n",
       "    </tr>\n",
       "    <tr>\n",
       "      <th>SibSp</th>\n",
       "      <td>0</td>\n",
       "      <td>0.00</td>\n",
       "    </tr>\n",
       "    <tr>\n",
       "      <th>Parch</th>\n",
       "      <td>0</td>\n",
       "      <td>0.00</td>\n",
       "    </tr>\n",
       "    <tr>\n",
       "      <th>Ticket</th>\n",
       "      <td>0</td>\n",
       "      <td>0.00</td>\n",
       "    </tr>\n",
       "    <tr>\n",
       "      <th>Fare</th>\n",
       "      <td>0</td>\n",
       "      <td>0.00</td>\n",
       "    </tr>\n",
       "  </tbody>\n",
       "</table>\n",
       "</div>"
      ],
      "text/plain": [
       "             values_missing  perc_nan\n",
       "Cabin                   687     77.10\n",
       "Age                     177     19.87\n",
       "Embarked                  2      0.22\n",
       "PassengerId               0      0.00\n",
       "Survived                  0      0.00\n",
       "Pclass                    0      0.00\n",
       "Name                      0      0.00\n",
       "Sex                       0      0.00\n",
       "SibSp                     0      0.00\n",
       "Parch                     0      0.00\n",
       "Ticket                    0      0.00\n",
       "Fare                      0      0.00"
      ]
     },
     "execution_count": 8,
     "metadata": {},
     "output_type": "execute_result"
    }
   ],
   "source": [
    "print('--------------------------------------------')\n",
    "print('Missing values in dataset i.e. NaN values')\n",
    "print('--------------------------------------------')\n",
    "values_missing = round(train_data.isna().sum())\n",
    "perc_missing = round(train_data.isna().sum() / train_data.shape[0]*100, 2)\n",
    "\n",
    "# sorted percentages of missing\n",
    "df_missing = pd.DataFrame(values_missing, columns=['values_missing']).sort_values('values_missing', ascending=False)\n",
    "df_missing['perc_nan'] = perc_missing\n",
    "df_missing"
   ]
  },
  {
   "cell_type": "code",
   "execution_count": 9,
   "id": "3e577cad",
   "metadata": {
    "execution": {
     "iopub.execute_input": "2023-01-15T04:55:58.024255Z",
     "iopub.status.busy": "2023-01-15T04:55:58.023872Z",
     "iopub.status.idle": "2023-01-15T04:55:58.039592Z",
     "shell.execute_reply": "2023-01-15T04:55:58.038663Z"
    },
    "papermill": {
     "duration": 0.028858,
     "end_time": "2023-01-15T04:55:58.041816",
     "exception": false,
     "start_time": "2023-01-15T04:55:58.012958",
     "status": "completed"
    },
    "tags": []
   },
   "outputs": [
    {
     "data": {
      "text/html": [
       "<div>\n",
       "<style scoped>\n",
       "    .dataframe tbody tr th:only-of-type {\n",
       "        vertical-align: middle;\n",
       "    }\n",
       "\n",
       "    .dataframe tbody tr th {\n",
       "        vertical-align: top;\n",
       "    }\n",
       "\n",
       "    .dataframe thead th {\n",
       "        text-align: right;\n",
       "    }\n",
       "</style>\n",
       "<table border=\"1\" class=\"dataframe\">\n",
       "  <thead>\n",
       "    <tr style=\"text-align: right;\">\n",
       "      <th></th>\n",
       "      <th>Survived</th>\n",
       "      <th>% of total</th>\n",
       "    </tr>\n",
       "    <tr>\n",
       "      <th>Sex</th>\n",
       "      <th></th>\n",
       "      <th></th>\n",
       "    </tr>\n",
       "  </thead>\n",
       "  <tbody>\n",
       "    <tr>\n",
       "      <th>female</th>\n",
       "      <td>233</td>\n",
       "      <td>68.13</td>\n",
       "    </tr>\n",
       "    <tr>\n",
       "      <th>male</th>\n",
       "      <td>109</td>\n",
       "      <td>31.87</td>\n",
       "    </tr>\n",
       "  </tbody>\n",
       "</table>\n",
       "</div>"
      ],
      "text/plain": [
       "        Survived  % of total\n",
       "Sex                         \n",
       "female       233       68.13\n",
       "male         109       31.87"
      ]
     },
     "execution_count": 9,
     "metadata": {},
     "output_type": "execute_result"
    }
   ],
   "source": [
    "df_survived = train_data[['Survived', 'Sex']].groupby('Sex').sum()\n",
    "df_survived['% of total'] = df_survived.apply(lambda x: round(x/df_survived['Survived'].sum()*100,2))\n",
    "df_survived"
   ]
  },
  {
   "cell_type": "code",
   "execution_count": 10,
   "id": "f21a22d8",
   "metadata": {
    "execution": {
     "iopub.execute_input": "2023-01-15T04:55:58.065245Z",
     "iopub.status.busy": "2023-01-15T04:55:58.064326Z",
     "iopub.status.idle": "2023-01-15T04:55:58.074041Z",
     "shell.execute_reply": "2023-01-15T04:55:58.072949Z"
    },
    "papermill": {
     "duration": 0.023979,
     "end_time": "2023-01-15T04:55:58.076601",
     "exception": false,
     "start_time": "2023-01-15T04:55:58.052622",
     "status": "completed"
    },
    "tags": []
   },
   "outputs": [
    {
     "data": {
      "text/plain": [
       "Survived\n",
       "0    549\n",
       "1    342\n",
       "Name: PassengerId, dtype: int64"
      ]
     },
     "execution_count": 10,
     "metadata": {},
     "output_type": "execute_result"
    }
   ],
   "source": [
    "train_data.groupby('Survived')['PassengerId'].count()"
   ]
  },
  {
   "cell_type": "code",
   "execution_count": 11,
   "id": "052b4c89",
   "metadata": {
    "execution": {
     "iopub.execute_input": "2023-01-15T04:55:58.098717Z",
     "iopub.status.busy": "2023-01-15T04:55:58.098380Z",
     "iopub.status.idle": "2023-01-15T04:55:58.126150Z",
     "shell.execute_reply": "2023-01-15T04:55:58.125120Z"
    },
    "papermill": {
     "duration": 0.040981,
     "end_time": "2023-01-15T04:55:58.128074",
     "exception": false,
     "start_time": "2023-01-15T04:55:58.087093",
     "status": "completed"
    },
    "tags": []
   },
   "outputs": [
    {
     "data": {
      "text/html": [
       "<div>\n",
       "<style scoped>\n",
       "    .dataframe tbody tr th:only-of-type {\n",
       "        vertical-align: middle;\n",
       "    }\n",
       "\n",
       "    .dataframe tbody tr th {\n",
       "        vertical-align: top;\n",
       "    }\n",
       "\n",
       "    .dataframe thead th {\n",
       "        text-align: right;\n",
       "    }\n",
       "</style>\n",
       "<table border=\"1\" class=\"dataframe\">\n",
       "  <thead>\n",
       "    <tr style=\"text-align: right;\">\n",
       "      <th>Survived</th>\n",
       "      <th>0</th>\n",
       "      <th>1</th>\n",
       "    </tr>\n",
       "    <tr>\n",
       "      <th>Sex</th>\n",
       "      <th></th>\n",
       "      <th></th>\n",
       "    </tr>\n",
       "  </thead>\n",
       "  <tbody>\n",
       "    <tr>\n",
       "      <th>female</th>\n",
       "      <td>81</td>\n",
       "      <td>233</td>\n",
       "    </tr>\n",
       "    <tr>\n",
       "      <th>male</th>\n",
       "      <td>468</td>\n",
       "      <td>109</td>\n",
       "    </tr>\n",
       "  </tbody>\n",
       "</table>\n",
       "</div>"
      ],
      "text/plain": [
       "Survived    0    1\n",
       "Sex               \n",
       "female     81  233\n",
       "male      468  109"
      ]
     },
     "execution_count": 11,
     "metadata": {},
     "output_type": "execute_result"
    }
   ],
   "source": [
    "pd.crosstab(train_data['Sex'], train_data['Survived'])"
   ]
  },
  {
   "cell_type": "code",
   "execution_count": 12,
   "id": "cdcc1b90",
   "metadata": {
    "execution": {
     "iopub.execute_input": "2023-01-15T04:55:58.151958Z",
     "iopub.status.busy": "2023-01-15T04:55:58.150829Z",
     "iopub.status.idle": "2023-01-15T04:55:58.171048Z",
     "shell.execute_reply": "2023-01-15T04:55:58.170139Z"
    },
    "papermill": {
     "duration": 0.034905,
     "end_time": "2023-01-15T04:55:58.173778",
     "exception": false,
     "start_time": "2023-01-15T04:55:58.138873",
     "status": "completed"
    },
    "tags": []
   },
   "outputs": [
    {
     "data": {
      "text/html": [
       "<div>\n",
       "<style scoped>\n",
       "    .dataframe tbody tr th:only-of-type {\n",
       "        vertical-align: middle;\n",
       "    }\n",
       "\n",
       "    .dataframe tbody tr th {\n",
       "        vertical-align: top;\n",
       "    }\n",
       "\n",
       "    .dataframe thead th {\n",
       "        text-align: right;\n",
       "    }\n",
       "</style>\n",
       "<table border=\"1\" class=\"dataframe\">\n",
       "  <thead>\n",
       "    <tr style=\"text-align: right;\">\n",
       "      <th>Survived</th>\n",
       "      <th>0</th>\n",
       "      <th>1</th>\n",
       "    </tr>\n",
       "    <tr>\n",
       "      <th>Sex</th>\n",
       "      <th></th>\n",
       "      <th></th>\n",
       "    </tr>\n",
       "  </thead>\n",
       "  <tbody>\n",
       "    <tr>\n",
       "      <th>female</th>\n",
       "      <td>26.0</td>\n",
       "      <td>74.0</td>\n",
       "    </tr>\n",
       "    <tr>\n",
       "      <th>male</th>\n",
       "      <td>81.0</td>\n",
       "      <td>19.0</td>\n",
       "    </tr>\n",
       "  </tbody>\n",
       "</table>\n",
       "</div>"
      ],
      "text/plain": [
       "Survived     0     1\n",
       "Sex                 \n",
       "female    26.0  74.0\n",
       "male      81.0  19.0"
      ]
     },
     "execution_count": 12,
     "metadata": {},
     "output_type": "execute_result"
    }
   ],
   "source": [
    "pd.crosstab(train_data['Sex'], train_data['Survived'], normalize='index').round(2)*100"
   ]
  },
  {
   "cell_type": "code",
   "execution_count": 13,
   "id": "bf93d5f0",
   "metadata": {
    "execution": {
     "iopub.execute_input": "2023-01-15T04:55:58.197281Z",
     "iopub.status.busy": "2023-01-15T04:55:58.196868Z",
     "iopub.status.idle": "2023-01-15T04:55:58.605024Z",
     "shell.execute_reply": "2023-01-15T04:55:58.603779Z"
    },
    "papermill": {
     "duration": 0.422764,
     "end_time": "2023-01-15T04:55:58.608145",
     "exception": false,
     "start_time": "2023-01-15T04:55:58.185381",
     "status": "completed"
    },
    "tags": []
   },
   "outputs": [
    {
     "data": {
      "image/png": "[encoded data removed]",
      "text/plain": [
       "<Figure size 576x360 with 1 Axes>"
      ]
     },
     "metadata": {},
     "output_type": "display_data"
    }
   ],
   "source": [
    "import matplotlib.pyplot as plt\n",
    "import seaborn as sns\n",
    "\n",
    "sns.set_context(\"notebook\") # paper, poster\n",
    "sns.set_style(\"white\")\n",
    "\n",
    "# set runtime configuration \n",
    "# source: https://matplotlib.org/stable/tutorials/introductory/customizing.html\n",
    "plt.rcParams['figure.figsize'] = (8, 5)\n",
    "\n",
    "# define axis\n",
    "ax = (pd.crosstab(train_data['Sex'], \n",
    "                  train_data['Survived'], \n",
    "                  normalize='index')*100) \\\n",
    "                  .round(2).plot.bar(stacked=True, \n",
    "                  title='% Survived Titanic by Gender', \n",
    "                  color=['lightgrey', 'lightgreen'])\n",
    "\n",
    "# annotate the barchart labels in center\n",
    "ax.bar_label(ax.containers[0], label_type='center', fmt='%.2f%%') \n",
    "ax.bar_label(ax.containers[1], label_type='center', fmt='%.2f%%')\n",
    "\n",
    "# set the x and y labels\n",
    "plt.xlabel(\"\")\n",
    "plt.ylabel(\"% of Total Population\")\n",
    "\n",
    "# set the legend\n",
    "plt.legend(loc = 'best',\n",
    "           labels={'not survived':1, 'survived':0}, \n",
    "           bbox_to_anchor=(1, 1))\n",
    "\n",
    "# set the rotation of the x labels (female, male)\n",
    "for label in ax.get_xticklabels():\n",
    "    label.set_rotation(0) "
   ]
  },
  {
   "cell_type": "code",
   "execution_count": 14,
   "id": "5778300c",
   "metadata": {
    "execution": {
     "iopub.execute_input": "2023-01-15T04:55:58.632380Z",
     "iopub.status.busy": "2023-01-15T04:55:58.631407Z",
     "iopub.status.idle": "2023-01-15T04:55:58.652080Z",
     "shell.execute_reply": "2023-01-15T04:55:58.651184Z"
    },
    "papermill": {
     "duration": 0.034775,
     "end_time": "2023-01-15T04:55:58.654561",
     "exception": false,
     "start_time": "2023-01-15T04:55:58.619786",
     "status": "completed"
    },
    "tags": []
   },
   "outputs": [
    {
     "data": {
      "text/html": [
       "<div>\n",
       "<style scoped>\n",
       "    .dataframe tbody tr th:only-of-type {\n",
       "        vertical-align: middle;\n",
       "    }\n",
       "\n",
       "    .dataframe tbody tr th {\n",
       "        vertical-align: top;\n",
       "    }\n",
       "\n",
       "    .dataframe thead th {\n",
       "        text-align: right;\n",
       "    }\n",
       "</style>\n",
       "<table border=\"1\" class=\"dataframe\">\n",
       "  <thead>\n",
       "    <tr style=\"text-align: right;\">\n",
       "      <th></th>\n",
       "      <th>PassengerId</th>\n",
       "      <th>Survived</th>\n",
       "      <th>Pclass</th>\n",
       "      <th>Name</th>\n",
       "      <th>Sex</th>\n",
       "      <th>Age</th>\n",
       "      <th>SibSp</th>\n",
       "      <th>Parch</th>\n",
       "      <th>Ticket</th>\n",
       "      <th>Fare</th>\n",
       "      <th>Cabin</th>\n",
       "      <th>Embarked</th>\n",
       "    </tr>\n",
       "  </thead>\n",
       "  <tbody>\n",
       "    <tr>\n",
       "      <th>5</th>\n",
       "      <td>6</td>\n",
       "      <td>0</td>\n",
       "      <td>3</td>\n",
       "      <td>Moran, Mr. James</td>\n",
       "      <td>male</td>\n",
       "      <td>NaN</td>\n",
       "      <td>0</td>\n",
       "      <td>0</td>\n",
       "      <td>330877</td>\n",
       "      <td>8.4583</td>\n",
       "      <td>NaN</td>\n",
       "      <td>Q</td>\n",
       "    </tr>\n",
       "    <tr>\n",
       "      <th>17</th>\n",
       "      <td>18</td>\n",
       "      <td>1</td>\n",
       "      <td>2</td>\n",
       "      <td>Williams, Mr. Charles Eugene</td>\n",
       "      <td>male</td>\n",
       "      <td>NaN</td>\n",
       "      <td>0</td>\n",
       "      <td>0</td>\n",
       "      <td>244373</td>\n",
       "      <td>13.0000</td>\n",
       "      <td>NaN</td>\n",
       "      <td>S</td>\n",
       "    </tr>\n",
       "    <tr>\n",
       "      <th>19</th>\n",
       "      <td>20</td>\n",
       "      <td>1</td>\n",
       "      <td>3</td>\n",
       "      <td>Masselmani, Mrs. Fatima</td>\n",
       "      <td>female</td>\n",
       "      <td>NaN</td>\n",
       "      <td>0</td>\n",
       "      <td>0</td>\n",
       "      <td>2649</td>\n",
       "      <td>7.2250</td>\n",
       "      <td>NaN</td>\n",
       "      <td>C</td>\n",
       "    </tr>\n",
       "    <tr>\n",
       "      <th>26</th>\n",
       "      <td>27</td>\n",
       "      <td>0</td>\n",
       "      <td>3</td>\n",
       "      <td>Emir, Mr. Farred Chehab</td>\n",
       "      <td>male</td>\n",
       "      <td>NaN</td>\n",
       "      <td>0</td>\n",
       "      <td>0</td>\n",
       "      <td>2631</td>\n",
       "      <td>7.2250</td>\n",
       "      <td>NaN</td>\n",
       "      <td>C</td>\n",
       "    </tr>\n",
       "    <tr>\n",
       "      <th>28</th>\n",
       "      <td>29</td>\n",
       "      <td>1</td>\n",
       "      <td>3</td>\n",
       "      <td>O'Dwyer, Miss. Ellen \"Nellie\"</td>\n",
       "      <td>female</td>\n",
       "      <td>NaN</td>\n",
       "      <td>0</td>\n",
       "      <td>0</td>\n",
       "      <td>330959</td>\n",
       "      <td>7.8792</td>\n",
       "      <td>NaN</td>\n",
       "      <td>Q</td>\n",
       "    </tr>\n",
       "    <tr>\n",
       "      <th>...</th>\n",
       "      <td>...</td>\n",
       "      <td>...</td>\n",
       "      <td>...</td>\n",
       "      <td>...</td>\n",
       "      <td>...</td>\n",
       "      <td>...</td>\n",
       "      <td>...</td>\n",
       "      <td>...</td>\n",
       "      <td>...</td>\n",
       "      <td>...</td>\n",
       "      <td>...</td>\n",
       "      <td>...</td>\n",
       "    </tr>\n",
       "    <tr>\n",
       "      <th>859</th>\n",
       "      <td>860</td>\n",
       "      <td>0</td>\n",
       "      <td>3</td>\n",
       "      <td>Razi, Mr. Raihed</td>\n",
       "      <td>male</td>\n",
       "      <td>NaN</td>\n",
       "      <td>0</td>\n",
       "      <td>0</td>\n",
       "      <td>2629</td>\n",
       "      <td>7.2292</td>\n",
       "      <td>NaN</td>\n",
       "      <td>C</td>\n",
       "    </tr>\n",
       "    <tr>\n",
       "      <th>863</th>\n",
       "      <td>864</td>\n",
       "      <td>0</td>\n",
       "      <td>3</td>\n",
       "      <td>Sage, Miss. Dorothy Edith \"Dolly\"</td>\n",
       "      <td>female</td>\n",
       "      <td>NaN</td>\n",
       "      <td>8</td>\n",
       "      <td>2</td>\n",
       "      <td>CA. 2343</td>\n",
       "      <td>69.5500</td>\n",
       "      <td>NaN</td>\n",
       "      <td>S</td>\n",
       "    </tr>\n",
       "    <tr>\n",
       "      <th>868</th>\n",
       "      <td>869</td>\n",
       "      <td>0</td>\n",
       "      <td>3</td>\n",
       "      <td>van Melkebeke, Mr. Philemon</td>\n",
       "      <td>male</td>\n",
       "      <td>NaN</td>\n",
       "      <td>0</td>\n",
       "      <td>0</td>\n",
       "      <td>345777</td>\n",
       "      <td>9.5000</td>\n",
       "      <td>NaN</td>\n",
       "      <td>S</td>\n",
       "    </tr>\n",
       "    <tr>\n",
       "      <th>878</th>\n",
       "      <td>879</td>\n",
       "      <td>0</td>\n",
       "      <td>3</td>\n",
       "      <td>Laleff, Mr. Kristo</td>\n",
       "      <td>male</td>\n",
       "      <td>NaN</td>\n",
       "      <td>0</td>\n",
       "      <td>0</td>\n",
       "      <td>349217</td>\n",
       "      <td>7.8958</td>\n",
       "      <td>NaN</td>\n",
       "      <td>S</td>\n",
       "    </tr>\n",
       "    <tr>\n",
       "      <th>888</th>\n",
       "      <td>889</td>\n",
       "      <td>0</td>\n",
       "      <td>3</td>\n",
       "      <td>Johnston, Miss. Catherine Helen \"Carrie\"</td>\n",
       "      <td>female</td>\n",
       "      <td>NaN</td>\n",
       "      <td>1</td>\n",
       "      <td>2</td>\n",
       "      <td>W./C. 6607</td>\n",
       "      <td>23.4500</td>\n",
       "      <td>NaN</td>\n",
       "      <td>S</td>\n",
       "    </tr>\n",
       "  </tbody>\n",
       "</table>\n",
       "<p>177 rows × 12 columns</p>\n",
       "</div>"
      ],
      "text/plain": [
       "     PassengerId  Survived  Pclass                                      Name  \\\n",
       "5              6         0       3                          Moran, Mr. James   \n",
       "17            18         1       2              Williams, Mr. Charles Eugene   \n",
       "19            20         1       3                   Masselmani, Mrs. Fatima   \n",
       "26            27         0       3                   Emir, Mr. Farred Chehab   \n",
       "28            29         1       3             O'Dwyer, Miss. Ellen \"Nellie\"   \n",
       "..           ...       ...     ...                                       ...   \n",
       "859          860         0       3                          Razi, Mr. Raihed   \n",
       "863          864         0       3         Sage, Miss. Dorothy Edith \"Dolly\"   \n",
       "868          869         0       3               van Melkebeke, Mr. Philemon   \n",
       "878          879         0       3                        Laleff, Mr. Kristo   \n",
       "888          889         0       3  Johnston, Miss. Catherine Helen \"Carrie\"   \n",
       "\n",
       "        Sex  Age  SibSp  Parch      Ticket     Fare Cabin Embarked  \n",
       "5      male  NaN      0      0      330877   8.4583   NaN        Q  \n",
       "17     male  NaN      0      0      244373  13.0000   NaN        S  \n",
       "19   female  NaN      0      0        2649   7.2250   NaN        C  \n",
       "26     male  NaN      0      0        2631   7.2250   NaN        C  \n",
       "28   female  NaN      0      0      330959   7.8792   NaN        Q  \n",
       "..      ...  ...    ...    ...         ...      ...   ...      ...  \n",
       "859    male  NaN      0      0        2629   7.2292   NaN        C  \n",
       "863  female  NaN      8      2    CA. 2343  69.5500   NaN        S  \n",
       "868    male  NaN      0      0      345777   9.5000   NaN        S  \n",
       "878    male  NaN      0      0      349217   7.8958   NaN        S  \n",
       "888  female  NaN      1      2  W./C. 6607  23.4500   NaN        S  \n",
       "\n",
       "[177 rows x 12 columns]"
      ]
     },
     "execution_count": 14,
     "metadata": {},
     "output_type": "execute_result"
    }
   ],
   "source": [
    "# check the missing values for age row-wise to validate\n",
    "df_missing = train_data[train_data['Age'] != train_data['Age']]\n",
    "df_missing"
   ]
  },
  {
   "cell_type": "code",
   "execution_count": 15,
   "id": "df4cd115",
   "metadata": {
    "execution": {
     "iopub.execute_input": "2023-01-15T04:55:58.678303Z",
     "iopub.status.busy": "2023-01-15T04:55:58.677466Z",
     "iopub.status.idle": "2023-01-15T04:55:58.687631Z",
     "shell.execute_reply": "2023-01-15T04:55:58.687042Z"
    },
    "papermill": {
     "duration": 0.024063,
     "end_time": "2023-01-15T04:55:58.689634",
     "exception": false,
     "start_time": "2023-01-15T04:55:58.665571",
     "status": "completed"
    },
    "tags": []
   },
   "outputs": [
    {
     "name": "stdout",
     "output_type": "stream",
     "text": [
      "<class 'pandas.core.frame.DataFrame'>\n",
      "RangeIndex: 418 entries, 0 to 417\n",
      "Data columns (total 11 columns):\n",
      " #   Column       Non-Null Count  Dtype  \n",
      "---  ------       --------------  -----  \n",
      " 0   PassengerId  418 non-null    int64  \n",
      " 1   Pclass       418 non-null    int64  \n",
      " 2   Name         418 non-null    object \n",
      " 3   Sex          418 non-null    object \n",
      " 4   Age          332 non-null    float64\n",
      " 5   SibSp        418 non-null    int64  \n",
      " 6   Parch        418 non-null    int64  \n",
      " 7   Ticket       418 non-null    object \n",
      " 8   Fare         417 non-null    float64\n",
      " 9   Cabin        91 non-null     object \n",
      " 10  Embarked     418 non-null    object \n",
      "dtypes: float64(2), int64(4), object(5)\n",
      "memory usage: 36.0+ KB\n"
     ]
    }
   ],
   "source": [
    "test_data.info()"
   ]
  },
  {
   "cell_type": "markdown",
   "id": "2da053c5",
   "metadata": {
    "papermill": {
     "duration": 0.011097,
     "end_time": "2023-01-15T04:55:58.712068",
     "exception": false,
     "start_time": "2023-01-15T04:55:58.700971",
     "status": "completed"
    },
    "tags": []
   },
   "source": [
    "## Feature Engineering\n",
    "- Feature: Title \n",
    "-source: https://triangleinequality.wordpress.com/2013/09/08/basic-feature-engineering-with-the-titanic-data/"
   ]
  },
  {
   "cell_type": "code",
   "execution_count": 16,
   "id": "97e8aaae",
   "metadata": {
    "execution": {
     "iopub.execute_input": "2023-01-15T04:55:58.735886Z",
     "iopub.status.busy": "2023-01-15T04:55:58.735246Z",
     "iopub.status.idle": "2023-01-15T04:55:58.756299Z",
     "shell.execute_reply": "2023-01-15T04:55:58.755374Z"
    },
    "papermill": {
     "duration": 0.035571,
     "end_time": "2023-01-15T04:55:58.758617",
     "exception": false,
     "start_time": "2023-01-15T04:55:58.723046",
     "status": "completed"
    },
    "tags": []
   },
   "outputs": [],
   "source": [
    "import regex as re\n",
    "\n",
    "def get_title(name):\n",
    "    \"\"\"\n",
    "    Use a regular expression to search for a title.  Titles always consist of\n",
    "    capital and lowercase letters, and end with a period.\n",
    "    Takes a name as input and returns the title string as output\n",
    "    \"\"\"\n",
    "    title_search = re.search('([A-Za-z]+)\\.', name)\n",
    "    # If the title exists, extract and return it.\n",
    "    if title_search:\n",
    "        return title_search.group(1)\n",
    "    return \"\""
   ]
  },
  {
   "cell_type": "code",
   "execution_count": 17,
   "id": "3adbf4f5",
   "metadata": {
    "execution": {
     "iopub.execute_input": "2023-01-15T04:55:58.782459Z",
     "iopub.status.busy": "2023-01-15T04:55:58.782117Z",
     "iopub.status.idle": "2023-01-15T04:55:58.806678Z",
     "shell.execute_reply": "2023-01-15T04:55:58.805392Z"
    },
    "papermill": {
     "duration": 0.038815,
     "end_time": "2023-01-15T04:55:58.808727",
     "exception": false,
     "start_time": "2023-01-15T04:55:58.769912",
     "status": "completed"
    },
    "tags": []
   },
   "outputs": [
    {
     "data": {
      "text/html": [
       "<div>\n",
       "<style scoped>\n",
       "    .dataframe tbody tr th:only-of-type {\n",
       "        vertical-align: middle;\n",
       "    }\n",
       "\n",
       "    .dataframe tbody tr th {\n",
       "        vertical-align: top;\n",
       "    }\n",
       "\n",
       "    .dataframe thead th {\n",
       "        text-align: right;\n",
       "    }\n",
       "</style>\n",
       "<table border=\"1\" class=\"dataframe\">\n",
       "  <thead>\n",
       "    <tr style=\"text-align: right;\">\n",
       "      <th></th>\n",
       "      <th>PassengerId</th>\n",
       "      <th>Survived</th>\n",
       "      <th>Pclass</th>\n",
       "      <th>Name</th>\n",
       "      <th>Sex</th>\n",
       "      <th>Age</th>\n",
       "      <th>SibSp</th>\n",
       "      <th>Parch</th>\n",
       "      <th>Ticket</th>\n",
       "      <th>Fare</th>\n",
       "      <th>Cabin</th>\n",
       "      <th>Embarked</th>\n",
       "      <th>Title</th>\n",
       "    </tr>\n",
       "  </thead>\n",
       "  <tbody>\n",
       "    <tr>\n",
       "      <th>0</th>\n",
       "      <td>1</td>\n",
       "      <td>0.0</td>\n",
       "      <td>3</td>\n",
       "      <td>Braund, Mr. Owen Harris</td>\n",
       "      <td>male</td>\n",
       "      <td>22.0</td>\n",
       "      <td>1</td>\n",
       "      <td>0</td>\n",
       "      <td>A/5 21171</td>\n",
       "      <td>7.2500</td>\n",
       "      <td>NaN</td>\n",
       "      <td>S</td>\n",
       "      <td>Mr</td>\n",
       "    </tr>\n",
       "    <tr>\n",
       "      <th>1</th>\n",
       "      <td>2</td>\n",
       "      <td>1.0</td>\n",
       "      <td>1</td>\n",
       "      <td>Cumings, Mrs. John Bradley (Florence Briggs Th...</td>\n",
       "      <td>female</td>\n",
       "      <td>38.0</td>\n",
       "      <td>1</td>\n",
       "      <td>0</td>\n",
       "      <td>PC 17599</td>\n",
       "      <td>71.2833</td>\n",
       "      <td>C85</td>\n",
       "      <td>C</td>\n",
       "      <td>Mrs</td>\n",
       "    </tr>\n",
       "    <tr>\n",
       "      <th>2</th>\n",
       "      <td>3</td>\n",
       "      <td>1.0</td>\n",
       "      <td>3</td>\n",
       "      <td>Heikkinen, Miss. Laina</td>\n",
       "      <td>female</td>\n",
       "      <td>26.0</td>\n",
       "      <td>0</td>\n",
       "      <td>0</td>\n",
       "      <td>STON/O2. 3101282</td>\n",
       "      <td>7.9250</td>\n",
       "      <td>NaN</td>\n",
       "      <td>S</td>\n",
       "      <td>Miss</td>\n",
       "    </tr>\n",
       "    <tr>\n",
       "      <th>3</th>\n",
       "      <td>4</td>\n",
       "      <td>1.0</td>\n",
       "      <td>1</td>\n",
       "      <td>Futrelle, Mrs. Jacques Heath (Lily May Peel)</td>\n",
       "      <td>female</td>\n",
       "      <td>35.0</td>\n",
       "      <td>1</td>\n",
       "      <td>0</td>\n",
       "      <td>113803</td>\n",
       "      <td>53.1000</td>\n",
       "      <td>C123</td>\n",
       "      <td>S</td>\n",
       "      <td>Mrs</td>\n",
       "    </tr>\n",
       "    <tr>\n",
       "      <th>4</th>\n",
       "      <td>5</td>\n",
       "      <td>0.0</td>\n",
       "      <td>3</td>\n",
       "      <td>Allen, Mr. William Henry</td>\n",
       "      <td>male</td>\n",
       "      <td>35.0</td>\n",
       "      <td>0</td>\n",
       "      <td>0</td>\n",
       "      <td>373450</td>\n",
       "      <td>8.0500</td>\n",
       "      <td>NaN</td>\n",
       "      <td>S</td>\n",
       "      <td>Mr</td>\n",
       "    </tr>\n",
       "  </tbody>\n",
       "</table>\n",
       "</div>"
      ],
      "text/plain": [
       "   PassengerId  Survived  Pclass  \\\n",
       "0            1       0.0       3   \n",
       "1            2       1.0       1   \n",
       "2            3       1.0       3   \n",
       "3            4       1.0       1   \n",
       "4            5       0.0       3   \n",
       "\n",
       "                                                Name     Sex   Age  SibSp  \\\n",
       "0                            Braund, Mr. Owen Harris    male  22.0      1   \n",
       "1  Cumings, Mrs. John Bradley (Florence Briggs Th...  female  38.0      1   \n",
       "2                             Heikkinen, Miss. Laina  female  26.0      0   \n",
       "3       Futrelle, Mrs. Jacques Heath (Lily May Peel)  female  35.0      1   \n",
       "4                           Allen, Mr. William Henry    male  35.0      0   \n",
       "\n",
       "   Parch            Ticket     Fare Cabin Embarked Title  \n",
       "0      0         A/5 21171   7.2500   NaN        S    Mr  \n",
       "1      0          PC 17599  71.2833   C85        C   Mrs  \n",
       "2      0  STON/O2. 3101282   7.9250   NaN        S  Miss  \n",
       "3      0            113803  53.1000  C123        S   Mrs  \n",
       "4      0            373450   8.0500   NaN        S    Mr  "
      ]
     },
     "execution_count": 17,
     "metadata": {},
     "output_type": "execute_result"
    }
   ],
   "source": [
    "total_data[\"Title\"] = total_data[\"Name\"].apply(get_title)  \n",
    "#We dropped \"Name\" earlier. So, we use original data.\n",
    "total_data.head()"
   ]
  },
  {
   "cell_type": "code",
   "execution_count": 18,
   "id": "cf7f0763",
   "metadata": {
    "execution": {
     "iopub.execute_input": "2023-01-15T04:55:58.832528Z",
     "iopub.status.busy": "2023-01-15T04:55:58.832196Z",
     "iopub.status.idle": "2023-01-15T04:55:58.838013Z",
     "shell.execute_reply": "2023-01-15T04:55:58.837094Z"
    },
    "papermill": {
     "duration": 0.019696,
     "end_time": "2023-01-15T04:55:58.839828",
     "exception": false,
     "start_time": "2023-01-15T04:55:58.820132",
     "status": "completed"
    },
    "tags": []
   },
   "outputs": [
    {
     "name": "stdout",
     "output_type": "stream",
     "text": [
      "['Mr' 'Mrs' 'Miss' 'Master' 'Don' 'Rev' 'Dr' 'Mme' 'Ms' 'Major' 'Lady'\n",
      " 'Sir' 'Mlle' 'Col' 'Capt' 'Countess' 'Jonkheer' 'Dona']\n"
     ]
    }
   ],
   "source": [
    "# see all unique names in training data\n",
    "unique_titles = total_data[\"Title\"].unique()\n",
    "print(unique_titles)"
   ]
  },
  {
   "cell_type": "code",
   "execution_count": 19,
   "id": "2604409a",
   "metadata": {
    "execution": {
     "iopub.execute_input": "2023-01-15T04:55:58.862928Z",
     "iopub.status.busy": "2023-01-15T04:55:58.862208Z",
     "iopub.status.idle": "2023-01-15T04:55:58.869317Z",
     "shell.execute_reply": "2023-01-15T04:55:58.868756Z"
    },
    "papermill": {
     "duration": 0.020154,
     "end_time": "2023-01-15T04:55:58.870775",
     "exception": false,
     "start_time": "2023-01-15T04:55:58.850621",
     "status": "completed"
    },
    "tags": []
   },
   "outputs": [
    {
     "data": {
      "text/plain": [
       "Title\n",
       "Mr          757\n",
       "Miss        260\n",
       "Mrs         197\n",
       "Master       61\n",
       "Rev           8\n",
       "Dr            8\n",
       "Col           4\n",
       "Mlle          2\n",
       "Ms            2\n",
       "Major         2\n",
       "Mme           1\n",
       "Capt          1\n",
       "Lady          1\n",
       "Jonkheer      1\n",
       "Dona          1\n",
       "Don           1\n",
       "Countess      1\n",
       "Sir           1\n",
       "Name: PassengerId, dtype: int64"
      ]
     },
     "execution_count": 19,
     "metadata": {},
     "output_type": "execute_result"
    }
   ],
   "source": [
    "# show the counts of the different titles extracted from the names\n",
    "# note: validate count to check if binning features could be useful \n",
    "total_data.groupby('Title')['PassengerId'].count().sort_values(ascending=False)"
   ]
  },
  {
   "cell_type": "markdown",
   "id": "ba988fc0",
   "metadata": {
    "papermill": {
     "duration": 0.010632,
     "end_time": "2023-01-15T04:55:58.892212",
     "exception": false,
     "start_time": "2023-01-15T04:55:58.881580",
     "status": "completed"
    },
    "tags": []
   },
   "source": [
    "- source: https://towardsdatascience.com/kaggles-titanic-competition-in-10-minutes-part-iii-a492a1a1604f\n",
    "\n",
    "It seems that we have four major groups: ‘Mr’, ‘Mrs’, ‘Miss’, ‘Master’, and others. However, before grouping all the other titles as Others, we need to take care of the French titles. We need to convert them to their corresponding English titles with the following code:"
   ]
  },
  {
   "cell_type": "code",
   "execution_count": 20,
   "id": "fbdace36",
   "metadata": {
    "execution": {
     "iopub.execute_input": "2023-01-15T04:55:58.915080Z",
     "iopub.status.busy": "2023-01-15T04:55:58.914718Z",
     "iopub.status.idle": "2023-01-15T04:55:58.921100Z",
     "shell.execute_reply": "2023-01-15T04:55:58.920144Z"
    },
    "papermill": {
     "duration": 0.020122,
     "end_time": "2023-01-15T04:55:58.922964",
     "exception": false,
     "start_time": "2023-01-15T04:55:58.902842",
     "status": "completed"
    },
    "tags": []
   },
   "outputs": [],
   "source": [
    "def replace_title(my_key):\n",
    "    # dictionary with title and replacement title\n",
    "    title_dict = {'Dr': 'Other', \n",
    "             'Rev': 'Other', \n",
    "             'Major': 'Other', \n",
    "             'Col': 'Other', \n",
    "             'Mlle': 'Miss', \n",
    "             'Mme': 'Mrs', \n",
    "             'Ms': 'Miss', \n",
    "             'Capt': 'Other', \n",
    "             'Lady': 'Other', \n",
    "             'Jonkheer': 'Other', \n",
    "             'Dona':'Mrs',\n",
    "             'Don': 'Mr',\n",
    "             'Countess': 'Other', \n",
    "             'Sir': 'Other'}\n",
    "    \n",
    "    try:\n",
    "        for key, value in title_dict.items():\n",
    "            return title_dict[my_key]\n",
    "    except:\n",
    "        return my_key"
   ]
  },
  {
   "cell_type": "code",
   "execution_count": 21,
   "id": "1fb4aef3",
   "metadata": {
    "execution": {
     "iopub.execute_input": "2023-01-15T04:55:58.946253Z",
     "iopub.status.busy": "2023-01-15T04:55:58.945941Z",
     "iopub.status.idle": "2023-01-15T04:55:58.953111Z",
     "shell.execute_reply": "2023-01-15T04:55:58.952083Z"
    },
    "papermill": {
     "duration": 0.020973,
     "end_time": "2023-01-15T04:55:58.954982",
     "exception": false,
     "start_time": "2023-01-15T04:55:58.934009",
     "status": "completed"
    },
    "tags": []
   },
   "outputs": [],
   "source": [
    "# apply function to replace the infrequent titles\n",
    "# change title to 'Other' or replace french title by english\n",
    "total_data['Title_adj'] = total_data['Title'].apply(lambda x: replace_title(x))"
   ]
  },
  {
   "cell_type": "code",
   "execution_count": 22,
   "id": "057ff559",
   "metadata": {
    "execution": {
     "iopub.execute_input": "2023-01-15T04:55:58.978919Z",
     "iopub.status.busy": "2023-01-15T04:55:58.978555Z",
     "iopub.status.idle": "2023-01-15T04:55:58.992600Z",
     "shell.execute_reply": "2023-01-15T04:55:58.991695Z"
    },
    "papermill": {
     "duration": 0.028188,
     "end_time": "2023-01-15T04:55:58.994401",
     "exception": false,
     "start_time": "2023-01-15T04:55:58.966213",
     "status": "completed"
    },
    "tags": []
   },
   "outputs": [
    {
     "data": {
      "text/html": [
       "<div>\n",
       "<style scoped>\n",
       "    .dataframe tbody tr th:only-of-type {\n",
       "        vertical-align: middle;\n",
       "    }\n",
       "\n",
       "    .dataframe tbody tr th {\n",
       "        vertical-align: top;\n",
       "    }\n",
       "\n",
       "    .dataframe thead th {\n",
       "        text-align: right;\n",
       "    }\n",
       "</style>\n",
       "<table border=\"1\" class=\"dataframe\">\n",
       "  <thead>\n",
       "    <tr style=\"text-align: right;\">\n",
       "      <th></th>\n",
       "      <th>Title</th>\n",
       "      <th>Title_adj</th>\n",
       "    </tr>\n",
       "  </thead>\n",
       "  <tbody>\n",
       "    <tr>\n",
       "      <th>745</th>\n",
       "      <td>Capt</td>\n",
       "      <td>Other</td>\n",
       "    </tr>\n",
       "    <tr>\n",
       "      <th>647</th>\n",
       "      <td>Col</td>\n",
       "      <td>Other</td>\n",
       "    </tr>\n",
       "    <tr>\n",
       "      <th>1093</th>\n",
       "      <td>Col</td>\n",
       "      <td>Other</td>\n",
       "    </tr>\n",
       "    <tr>\n",
       "      <th>1022</th>\n",
       "      <td>Col</td>\n",
       "      <td>Other</td>\n",
       "    </tr>\n",
       "    <tr>\n",
       "      <th>694</th>\n",
       "      <td>Col</td>\n",
       "      <td>Other</td>\n",
       "    </tr>\n",
       "    <tr>\n",
       "      <th>759</th>\n",
       "      <td>Countess</td>\n",
       "      <td>Other</td>\n",
       "    </tr>\n",
       "    <tr>\n",
       "      <th>30</th>\n",
       "      <td>Don</td>\n",
       "      <td>Mr</td>\n",
       "    </tr>\n",
       "    <tr>\n",
       "      <th>1305</th>\n",
       "      <td>Dona</td>\n",
       "      <td>Mrs</td>\n",
       "    </tr>\n",
       "    <tr>\n",
       "      <th>796</th>\n",
       "      <td>Dr</td>\n",
       "      <td>Other</td>\n",
       "    </tr>\n",
       "    <tr>\n",
       "      <th>766</th>\n",
       "      <td>Dr</td>\n",
       "      <td>Other</td>\n",
       "    </tr>\n",
       "    <tr>\n",
       "      <th>245</th>\n",
       "      <td>Dr</td>\n",
       "      <td>Other</td>\n",
       "    </tr>\n",
       "    <tr>\n",
       "      <th>317</th>\n",
       "      <td>Dr</td>\n",
       "      <td>Other</td>\n",
       "    </tr>\n",
       "    <tr>\n",
       "      <th>660</th>\n",
       "      <td>Dr</td>\n",
       "      <td>Other</td>\n",
       "    </tr>\n",
       "    <tr>\n",
       "      <th>1184</th>\n",
       "      <td>Dr</td>\n",
       "      <td>Other</td>\n",
       "    </tr>\n",
       "    <tr>\n",
       "      <th>398</th>\n",
       "      <td>Dr</td>\n",
       "      <td>Other</td>\n",
       "    </tr>\n",
       "    <tr>\n",
       "      <th>632</th>\n",
       "      <td>Dr</td>\n",
       "      <td>Other</td>\n",
       "    </tr>\n",
       "    <tr>\n",
       "      <th>822</th>\n",
       "      <td>Jonkheer</td>\n",
       "      <td>Other</td>\n",
       "    </tr>\n",
       "    <tr>\n",
       "      <th>556</th>\n",
       "      <td>Lady</td>\n",
       "      <td>Other</td>\n",
       "    </tr>\n",
       "    <tr>\n",
       "      <th>449</th>\n",
       "      <td>Major</td>\n",
       "      <td>Other</td>\n",
       "    </tr>\n",
       "    <tr>\n",
       "      <th>536</th>\n",
       "      <td>Major</td>\n",
       "      <td>Other</td>\n",
       "    </tr>\n",
       "    <tr>\n",
       "      <th>641</th>\n",
       "      <td>Mlle</td>\n",
       "      <td>Miss</td>\n",
       "    </tr>\n",
       "    <tr>\n",
       "      <th>710</th>\n",
       "      <td>Mlle</td>\n",
       "      <td>Miss</td>\n",
       "    </tr>\n",
       "    <tr>\n",
       "      <th>369</th>\n",
       "      <td>Mme</td>\n",
       "      <td>Mrs</td>\n",
       "    </tr>\n",
       "    <tr>\n",
       "      <th>443</th>\n",
       "      <td>Ms</td>\n",
       "      <td>Miss</td>\n",
       "    </tr>\n",
       "    <tr>\n",
       "      <th>979</th>\n",
       "      <td>Ms</td>\n",
       "      <td>Miss</td>\n",
       "    </tr>\n",
       "    <tr>\n",
       "      <th>626</th>\n",
       "      <td>Rev</td>\n",
       "      <td>Other</td>\n",
       "    </tr>\n",
       "    <tr>\n",
       "      <th>848</th>\n",
       "      <td>Rev</td>\n",
       "      <td>Other</td>\n",
       "    </tr>\n",
       "    <tr>\n",
       "      <th>886</th>\n",
       "      <td>Rev</td>\n",
       "      <td>Other</td>\n",
       "    </tr>\n",
       "    <tr>\n",
       "      <th>150</th>\n",
       "      <td>Rev</td>\n",
       "      <td>Other</td>\n",
       "    </tr>\n",
       "    <tr>\n",
       "      <th>1040</th>\n",
       "      <td>Rev</td>\n",
       "      <td>Other</td>\n",
       "    </tr>\n",
       "    <tr>\n",
       "      <th>1055</th>\n",
       "      <td>Rev</td>\n",
       "      <td>Other</td>\n",
       "    </tr>\n",
       "    <tr>\n",
       "      <th>149</th>\n",
       "      <td>Rev</td>\n",
       "      <td>Other</td>\n",
       "    </tr>\n",
       "    <tr>\n",
       "      <th>249</th>\n",
       "      <td>Rev</td>\n",
       "      <td>Other</td>\n",
       "    </tr>\n",
       "    <tr>\n",
       "      <th>599</th>\n",
       "      <td>Sir</td>\n",
       "      <td>Other</td>\n",
       "    </tr>\n",
       "  </tbody>\n",
       "</table>\n",
       "</div>"
      ],
      "text/plain": [
       "         Title Title_adj\n",
       "745       Capt     Other\n",
       "647        Col     Other\n",
       "1093       Col     Other\n",
       "1022       Col     Other\n",
       "694        Col     Other\n",
       "759   Countess     Other\n",
       "30         Don        Mr\n",
       "1305      Dona       Mrs\n",
       "796         Dr     Other\n",
       "766         Dr     Other\n",
       "245         Dr     Other\n",
       "317         Dr     Other\n",
       "660         Dr     Other\n",
       "1184        Dr     Other\n",
       "398         Dr     Other\n",
       "632         Dr     Other\n",
       "822   Jonkheer     Other\n",
       "556       Lady     Other\n",
       "449      Major     Other\n",
       "536      Major     Other\n",
       "641       Mlle      Miss\n",
       "710       Mlle      Miss\n",
       "369        Mme       Mrs\n",
       "443         Ms      Miss\n",
       "979         Ms      Miss\n",
       "626        Rev     Other\n",
       "848        Rev     Other\n",
       "886        Rev     Other\n",
       "150        Rev     Other\n",
       "1040       Rev     Other\n",
       "1055       Rev     Other\n",
       "149        Rev     Other\n",
       "249        Rev     Other\n",
       "599        Sir     Other"
      ]
     },
     "execution_count": 22,
     "metadata": {},
     "output_type": "execute_result"
    }
   ],
   "source": [
    "# validate if 'Title_adj' column was added correctly\n",
    "total_data[['Title', 'Title_adj']] \\\n",
    "[(total_data['Title_adj'] != total_data['Title'])].sort_values(by='Title')"
   ]
  },
  {
   "cell_type": "code",
   "execution_count": 23,
   "id": "888833aa",
   "metadata": {
    "execution": {
     "iopub.execute_input": "2023-01-15T04:55:59.024079Z",
     "iopub.status.busy": "2023-01-15T04:55:59.022983Z",
     "iopub.status.idle": "2023-01-15T04:55:59.033725Z",
     "shell.execute_reply": "2023-01-15T04:55:59.032687Z"
    },
    "papermill": {
     "duration": 0.026627,
     "end_time": "2023-01-15T04:55:59.035741",
     "exception": false,
     "start_time": "2023-01-15T04:55:59.009114",
     "status": "completed"
    },
    "tags": []
   },
   "outputs": [
    {
     "name": "stdout",
     "output_type": "stream",
     "text": [
      "Title_adj\n",
      "Mr        758\n",
      "Miss      264\n",
      "Mrs       199\n",
      "Master     61\n",
      "Other      27\n",
      "Name: PassengerId, dtype: int64\n",
      "--------------------\n",
      "How many survived:\n",
      "--------------------\n",
      "Title_adj\n",
      "Miss      130.0\n",
      "Mrs       100.0\n",
      "Mr         81.0\n",
      "Master     23.0\n",
      "Other       8.0\n",
      "Name: Survived, dtype: float64\n"
     ]
    }
   ],
   "source": [
    "# show the counts of the different titles extracted from the names\n",
    "# note: validate count to check if binning features could be useful \n",
    "print(total_data.groupby('Title_adj')['PassengerId'].count().sort_values(ascending=False))\n",
    "\n",
    "print('--------------------')\n",
    "print('How many survived:')\n",
    "print('--------------------')\n",
    "print(total_data.groupby('Title_adj')['Survived'].sum().sort_values(ascending=False))"
   ]
  },
  {
   "cell_type": "code",
   "execution_count": 24,
   "id": "d2377f65",
   "metadata": {
    "execution": {
     "iopub.execute_input": "2023-01-15T04:55:59.061702Z",
     "iopub.status.busy": "2023-01-15T04:55:59.061344Z",
     "iopub.status.idle": "2023-01-15T04:55:59.081157Z",
     "shell.execute_reply": "2023-01-15T04:55:59.079798Z"
    },
    "papermill": {
     "duration": 0.035474,
     "end_time": "2023-01-15T04:55:59.083539",
     "exception": false,
     "start_time": "2023-01-15T04:55:59.048065",
     "status": "completed"
    },
    "tags": []
   },
   "outputs": [],
   "source": [
    "train_data[\"Title\"] = train_data[\"Name\"].apply(get_title)  \n",
    "train_data['Title_adj'] = train_data['Title'].apply(lambda x: replace_title(x))\n",
    "\n",
    "test_data[\"Title\"] = test_data[\"Name\"].apply(get_title)  \n",
    "test_data['Title_adj'] = test_data['Title'].apply(lambda x: replace_title(x))"
   ]
  },
  {
   "cell_type": "code",
   "execution_count": 25,
   "id": "28f2689e",
   "metadata": {
    "execution": {
     "iopub.execute_input": "2023-01-15T04:55:59.109315Z",
     "iopub.status.busy": "2023-01-15T04:55:59.108201Z",
     "iopub.status.idle": "2023-01-15T04:55:59.132286Z",
     "shell.execute_reply": "2023-01-15T04:55:59.131300Z"
    },
    "papermill": {
     "duration": 0.039044,
     "end_time": "2023-01-15T04:55:59.134458",
     "exception": false,
     "start_time": "2023-01-15T04:55:59.095414",
     "status": "completed"
    },
    "tags": []
   },
   "outputs": [
    {
     "data": {
      "text/html": [
       "<div>\n",
       "<style scoped>\n",
       "    .dataframe tbody tr th:only-of-type {\n",
       "        vertical-align: middle;\n",
       "    }\n",
       "\n",
       "    .dataframe tbody tr th {\n",
       "        vertical-align: top;\n",
       "    }\n",
       "\n",
       "    .dataframe thead th {\n",
       "        text-align: right;\n",
       "    }\n",
       "</style>\n",
       "<table border=\"1\" class=\"dataframe\">\n",
       "  <thead>\n",
       "    <tr style=\"text-align: right;\">\n",
       "      <th></th>\n",
       "      <th>PassengerId</th>\n",
       "      <th>Survived</th>\n",
       "      <th>Pclass</th>\n",
       "      <th>Name</th>\n",
       "      <th>Sex</th>\n",
       "      <th>Age</th>\n",
       "      <th>SibSp</th>\n",
       "      <th>Parch</th>\n",
       "      <th>Ticket</th>\n",
       "      <th>Fare</th>\n",
       "      <th>Cabin</th>\n",
       "      <th>Embarked</th>\n",
       "      <th>Title</th>\n",
       "      <th>Title_adj</th>\n",
       "    </tr>\n",
       "  </thead>\n",
       "  <tbody>\n",
       "    <tr>\n",
       "      <th>0</th>\n",
       "      <td>1</td>\n",
       "      <td>0</td>\n",
       "      <td>3</td>\n",
       "      <td>Braund, Mr. Owen Harris</td>\n",
       "      <td>male</td>\n",
       "      <td>22.0</td>\n",
       "      <td>1</td>\n",
       "      <td>0</td>\n",
       "      <td>A/5 21171</td>\n",
       "      <td>7.2500</td>\n",
       "      <td>NaN</td>\n",
       "      <td>S</td>\n",
       "      <td>Mr</td>\n",
       "      <td>Mr</td>\n",
       "    </tr>\n",
       "    <tr>\n",
       "      <th>1</th>\n",
       "      <td>2</td>\n",
       "      <td>1</td>\n",
       "      <td>1</td>\n",
       "      <td>Cumings, Mrs. John Bradley (Florence Briggs Th...</td>\n",
       "      <td>female</td>\n",
       "      <td>38.0</td>\n",
       "      <td>1</td>\n",
       "      <td>0</td>\n",
       "      <td>PC 17599</td>\n",
       "      <td>71.2833</td>\n",
       "      <td>C85</td>\n",
       "      <td>C</td>\n",
       "      <td>Mrs</td>\n",
       "      <td>Mrs</td>\n",
       "    </tr>\n",
       "    <tr>\n",
       "      <th>2</th>\n",
       "      <td>3</td>\n",
       "      <td>1</td>\n",
       "      <td>3</td>\n",
       "      <td>Heikkinen, Miss. Laina</td>\n",
       "      <td>female</td>\n",
       "      <td>26.0</td>\n",
       "      <td>0</td>\n",
       "      <td>0</td>\n",
       "      <td>STON/O2. 3101282</td>\n",
       "      <td>7.9250</td>\n",
       "      <td>NaN</td>\n",
       "      <td>S</td>\n",
       "      <td>Miss</td>\n",
       "      <td>Miss</td>\n",
       "    </tr>\n",
       "    <tr>\n",
       "      <th>3</th>\n",
       "      <td>4</td>\n",
       "      <td>1</td>\n",
       "      <td>1</td>\n",
       "      <td>Futrelle, Mrs. Jacques Heath (Lily May Peel)</td>\n",
       "      <td>female</td>\n",
       "      <td>35.0</td>\n",
       "      <td>1</td>\n",
       "      <td>0</td>\n",
       "      <td>113803</td>\n",
       "      <td>53.1000</td>\n",
       "      <td>C123</td>\n",
       "      <td>S</td>\n",
       "      <td>Mrs</td>\n",
       "      <td>Mrs</td>\n",
       "    </tr>\n",
       "    <tr>\n",
       "      <th>4</th>\n",
       "      <td>5</td>\n",
       "      <td>0</td>\n",
       "      <td>3</td>\n",
       "      <td>Allen, Mr. William Henry</td>\n",
       "      <td>male</td>\n",
       "      <td>35.0</td>\n",
       "      <td>0</td>\n",
       "      <td>0</td>\n",
       "      <td>373450</td>\n",
       "      <td>8.0500</td>\n",
       "      <td>NaN</td>\n",
       "      <td>S</td>\n",
       "      <td>Mr</td>\n",
       "      <td>Mr</td>\n",
       "    </tr>\n",
       "    <tr>\n",
       "      <th>...</th>\n",
       "      <td>...</td>\n",
       "      <td>...</td>\n",
       "      <td>...</td>\n",
       "      <td>...</td>\n",
       "      <td>...</td>\n",
       "      <td>...</td>\n",
       "      <td>...</td>\n",
       "      <td>...</td>\n",
       "      <td>...</td>\n",
       "      <td>...</td>\n",
       "      <td>...</td>\n",
       "      <td>...</td>\n",
       "      <td>...</td>\n",
       "      <td>...</td>\n",
       "    </tr>\n",
       "    <tr>\n",
       "      <th>886</th>\n",
       "      <td>887</td>\n",
       "      <td>0</td>\n",
       "      <td>2</td>\n",
       "      <td>Montvila, Rev. Juozas</td>\n",
       "      <td>male</td>\n",
       "      <td>27.0</td>\n",
       "      <td>0</td>\n",
       "      <td>0</td>\n",
       "      <td>211536</td>\n",
       "      <td>13.0000</td>\n",
       "      <td>NaN</td>\n",
       "      <td>S</td>\n",
       "      <td>Rev</td>\n",
       "      <td>Other</td>\n",
       "    </tr>\n",
       "    <tr>\n",
       "      <th>887</th>\n",
       "      <td>888</td>\n",
       "      <td>1</td>\n",
       "      <td>1</td>\n",
       "      <td>Graham, Miss. Margaret Edith</td>\n",
       "      <td>female</td>\n",
       "      <td>19.0</td>\n",
       "      <td>0</td>\n",
       "      <td>0</td>\n",
       "      <td>112053</td>\n",
       "      <td>30.0000</td>\n",
       "      <td>B42</td>\n",
       "      <td>S</td>\n",
       "      <td>Miss</td>\n",
       "      <td>Miss</td>\n",
       "    </tr>\n",
       "    <tr>\n",
       "      <th>888</th>\n",
       "      <td>889</td>\n",
       "      <td>0</td>\n",
       "      <td>3</td>\n",
       "      <td>Johnston, Miss. Catherine Helen \"Carrie\"</td>\n",
       "      <td>female</td>\n",
       "      <td>NaN</td>\n",
       "      <td>1</td>\n",
       "      <td>2</td>\n",
       "      <td>W./C. 6607</td>\n",
       "      <td>23.4500</td>\n",
       "      <td>NaN</td>\n",
       "      <td>S</td>\n",
       "      <td>Miss</td>\n",
       "      <td>Miss</td>\n",
       "    </tr>\n",
       "    <tr>\n",
       "      <th>889</th>\n",
       "      <td>890</td>\n",
       "      <td>1</td>\n",
       "      <td>1</td>\n",
       "      <td>Behr, Mr. Karl Howell</td>\n",
       "      <td>male</td>\n",
       "      <td>26.0</td>\n",
       "      <td>0</td>\n",
       "      <td>0</td>\n",
       "      <td>111369</td>\n",
       "      <td>30.0000</td>\n",
       "      <td>C148</td>\n",
       "      <td>C</td>\n",
       "      <td>Mr</td>\n",
       "      <td>Mr</td>\n",
       "    </tr>\n",
       "    <tr>\n",
       "      <th>890</th>\n",
       "      <td>891</td>\n",
       "      <td>0</td>\n",
       "      <td>3</td>\n",
       "      <td>Dooley, Mr. Patrick</td>\n",
       "      <td>male</td>\n",
       "      <td>32.0</td>\n",
       "      <td>0</td>\n",
       "      <td>0</td>\n",
       "      <td>370376</td>\n",
       "      <td>7.7500</td>\n",
       "      <td>NaN</td>\n",
       "      <td>Q</td>\n",
       "      <td>Mr</td>\n",
       "      <td>Mr</td>\n",
       "    </tr>\n",
       "  </tbody>\n",
       "</table>\n",
       "<p>891 rows × 14 columns</p>\n",
       "</div>"
      ],
      "text/plain": [
       "     PassengerId  Survived  Pclass  \\\n",
       "0              1         0       3   \n",
       "1              2         1       1   \n",
       "2              3         1       3   \n",
       "3              4         1       1   \n",
       "4              5         0       3   \n",
       "..           ...       ...     ...   \n",
       "886          887         0       2   \n",
       "887          888         1       1   \n",
       "888          889         0       3   \n",
       "889          890         1       1   \n",
       "890          891         0       3   \n",
       "\n",
       "                                                  Name     Sex   Age  SibSp  \\\n",
       "0                              Braund, Mr. Owen Harris    male  22.0      1   \n",
       "1    Cumings, Mrs. John Bradley (Florence Briggs Th...  female  38.0      1   \n",
       "2                               Heikkinen, Miss. Laina  female  26.0      0   \n",
       "3         Futrelle, Mrs. Jacques Heath (Lily May Peel)  female  35.0      1   \n",
       "4                             Allen, Mr. William Henry    male  35.0      0   \n",
       "..                                                 ...     ...   ...    ...   \n",
       "886                              Montvila, Rev. Juozas    male  27.0      0   \n",
       "887                       Graham, Miss. Margaret Edith  female  19.0      0   \n",
       "888           Johnston, Miss. Catherine Helen \"Carrie\"  female   NaN      1   \n",
       "889                              Behr, Mr. Karl Howell    male  26.0      0   \n",
       "890                                Dooley, Mr. Patrick    male  32.0      0   \n",
       "\n",
       "     Parch            Ticket     Fare Cabin Embarked Title Title_adj  \n",
       "0        0         A/5 21171   7.2500   NaN        S    Mr        Mr  \n",
       "1        0          PC 17599  71.2833   C85        C   Mrs       Mrs  \n",
       "2        0  STON/O2. 3101282   7.9250   NaN        S  Miss      Miss  \n",
       "3        0            113803  53.1000  C123        S   Mrs       Mrs  \n",
       "4        0            373450   8.0500   NaN        S    Mr        Mr  \n",
       "..     ...               ...      ...   ...      ...   ...       ...  \n",
       "886      0            211536  13.0000   NaN        S   Rev     Other  \n",
       "887      0            112053  30.0000   B42        S  Miss      Miss  \n",
       "888      2        W./C. 6607  23.4500   NaN        S  Miss      Miss  \n",
       "889      0            111369  30.0000  C148        C    Mr        Mr  \n",
       "890      0            370376   7.7500   NaN        Q    Mr        Mr  \n",
       "\n",
       "[891 rows x 14 columns]"
      ]
     },
     "execution_count": 25,
     "metadata": {},
     "output_type": "execute_result"
    }
   ],
   "source": [
    "train_data"
   ]
  },
  {
   "cell_type": "code",
   "execution_count": 26,
   "id": "1ad47061",
   "metadata": {
    "execution": {
     "iopub.execute_input": "2023-01-15T04:55:59.162019Z",
     "iopub.status.busy": "2023-01-15T04:55:59.161171Z",
     "iopub.status.idle": "2023-01-15T04:55:59.414414Z",
     "shell.execute_reply": "2023-01-15T04:55:59.413222Z"
    },
    "papermill": {
     "duration": 0.26979,
     "end_time": "2023-01-15T04:55:59.417148",
     "exception": false,
     "start_time": "2023-01-15T04:55:59.147358",
     "status": "completed"
    },
    "tags": []
   },
   "outputs": [
    {
     "data": {
      "image/png": "[encoded data removed]",
      "text/plain": [
       "<Figure size 576x360 with 1 Axes>"
      ]
     },
     "metadata": {},
     "output_type": "display_data"
    }
   ],
   "source": [
    "import matplotlib.pyplot as plt\n",
    "import seaborn as sns\n",
    "\n",
    "sns.set_context(\"notebook\") # paper, poster\n",
    "sns.set_style(\"white\")\n",
    "\n",
    "# set runtime configuration \n",
    "# source: https://matplotlib.org/stable/tutorials/introductory/customizing.html\n",
    "plt.rcParams['figure.figsize'] = (8, 5)\n",
    "\n",
    "# define axis\n",
    "ax = (pd.crosstab(train_data['Title_adj'], \n",
    "                  train_data['Survived'], \n",
    "                  normalize='index')*100) \\\n",
    "                  .round(2).plot.bar(stacked=True, \n",
    "                  title='% Survived Titanic by Title', \n",
    "                  color=['lightgrey', 'lightgreen'])\n",
    "\n",
    "# annotate the barchart labels in center\n",
    "ax.bar_label(ax.containers[0], label_type='center', fmt='%.2f%%') \n",
    "ax.bar_label(ax.containers[1], label_type='center', fmt='%.2f%%')\n",
    "\n",
    "# set the x and y labels\n",
    "plt.xlabel(\"\")\n",
    "plt.ylabel(\"% of Total Population\")\n",
    "\n",
    "# set the legend\n",
    "plt.legend(loc = 'best',\n",
    "           labels={'not survived':1, 'survived':0}, \n",
    "           bbox_to_anchor=(1, 1))\n",
    "\n",
    "# set the rotation of the x labels (female, male)\n",
    "for label in ax.get_xticklabels():\n",
    "    label.set_rotation(0) "
   ]
  },
  {
   "cell_type": "markdown",
   "id": "a22e7a6c",
   "metadata": {
    "papermill": {
     "duration": 0.012481,
     "end_time": "2023-01-15T04:55:59.443418",
     "exception": false,
     "start_time": "2023-01-15T04:55:59.430937",
     "status": "completed"
    },
    "tags": []
   },
   "source": [
    "## Model 1 - RandomForestClassifier\n",
    "- note: score 0.77511"
   ]
  },
  {
   "cell_type": "code",
   "execution_count": 27,
   "id": "eb13cfd3",
   "metadata": {
    "execution": {
     "iopub.execute_input": "2023-01-15T04:55:59.470988Z",
     "iopub.status.busy": "2023-01-15T04:55:59.470596Z",
     "iopub.status.idle": "2023-01-15T04:55:59.483498Z",
     "shell.execute_reply": "2023-01-15T04:55:59.482172Z"
    },
    "papermill": {
     "duration": 0.029728,
     "end_time": "2023-01-15T04:55:59.486088",
     "exception": false,
     "start_time": "2023-01-15T04:55:59.456360",
     "status": "completed"
    },
    "tags": []
   },
   "outputs": [],
   "source": [
    "# define list of features e.g. independent variables\n",
    "features = ['Pclass', 'Sex', 'SibSp', 'Parch', 'Title_adj', 'Embarked']\n",
    "\n",
    "# create dummy variables from features of training set\n",
    "X = pd.get_dummies(train_data[features])\n",
    "\n",
    "# define dependent variable\n",
    "y = train_data['Survived']"
   ]
  },
  {
   "cell_type": "code",
   "execution_count": 28,
   "id": "ff57c11d",
   "metadata": {
    "execution": {
     "iopub.execute_input": "2023-01-15T04:55:59.515601Z",
     "iopub.status.busy": "2023-01-15T04:55:59.514541Z",
     "iopub.status.idle": "2023-01-15T04:55:59.522553Z",
     "shell.execute_reply": "2023-01-15T04:55:59.521795Z"
    },
    "papermill": {
     "duration": 0.025804,
     "end_time": "2023-01-15T04:55:59.525406",
     "exception": false,
     "start_time": "2023-01-15T04:55:59.499602",
     "status": "completed"
    },
    "tags": []
   },
   "outputs": [],
   "source": [
    "from sklearn.model_selection import train_test_split\n",
    "# split training set into a train/test set\n",
    "X_train, X_test, y_train, y_test = train_test_split(X,y,test_size = 0.33, \n",
    "                                                    random_state = 42)"
   ]
  },
  {
   "cell_type": "code",
   "execution_count": 29,
   "id": "1f464549",
   "metadata": {
    "execution": {
     "iopub.execute_input": "2023-01-15T04:55:59.558250Z",
     "iopub.status.busy": "2023-01-15T04:55:59.557399Z",
     "iopub.status.idle": "2023-01-15T05:04:54.835702Z",
     "shell.execute_reply": "2023-01-15T05:04:54.834758Z"
    },
    "papermill": {
     "duration": 535.310056,
     "end_time": "2023-01-15T05:04:54.850941",
     "exception": false,
     "start_time": "2023-01-15T04:55:59.540885",
     "status": "completed"
    },
    "tags": []
   },
   "outputs": [
    {
     "name": "stdout",
     "output_type": "stream",
     "text": [
      "CPU times: user 8min 51s, sys: 3.52 s, total: 8min 55s\n",
      "Wall time: 8min 55s\n"
     ]
    },
    {
     "data": {
      "text/plain": [
       "GridSearchCV(cv=5, estimator=RandomForestClassifier(random_state=100),\n",
       "             param_grid={'criterion': ['gini', 'entropy'],\n",
       "                         'max_depth': [1, 2, 3, 4, 5, 6, 7, 8],\n",
       "                         'max_features': ['auto', 'sqrt', 'log2'],\n",
       "                         'n_estimators': [100, 200, 500, 1000]})"
      ]
     },
     "execution_count": 29,
     "metadata": {},
     "output_type": "execute_result"
    }
   ],
   "source": [
    "%%time\n",
    "# Gridsearch\n",
    "param_grid = { \n",
    "    'n_estimators': [100, 200, 500, 1000],\n",
    "    'max_features': ['auto', 'sqrt', 'log2'],\n",
    "    'max_depth' : [1, 2, 3, 4, 5, 6, 7, 8],\n",
    "    'criterion' :['gini', 'entropy']\n",
    "}\n",
    "\n",
    "rfc = RandomForestClassifier(random_state=100)\n",
    "CV_rfc = GridSearchCV(estimator = rfc, param_grid = param_grid, cv = 5)\n",
    "CV_rfc.fit(X_train, y_train)"
   ]
  },
  {
   "cell_type": "code",
   "execution_count": 30,
   "id": "0efa484e",
   "metadata": {
    "execution": {
     "iopub.execute_input": "2023-01-15T05:04:54.878316Z",
     "iopub.status.busy": "2023-01-15T05:04:54.877910Z",
     "iopub.status.idle": "2023-01-15T05:04:54.883411Z",
     "shell.execute_reply": "2023-01-15T05:04:54.882556Z"
    },
    "papermill": {
     "duration": 0.021235,
     "end_time": "2023-01-15T05:04:54.885177",
     "exception": false,
     "start_time": "2023-01-15T05:04:54.863942",
     "status": "completed"
    },
    "tags": []
   },
   "outputs": [
    {
     "data": {
      "text/plain": [
       "{'criterion': 'gini',\n",
       " 'max_depth': 6,\n",
       " 'max_features': 'auto',\n",
       " 'n_estimators': 1000}"
      ]
     },
     "execution_count": 30,
     "metadata": {},
     "output_type": "execute_result"
    }
   ],
   "source": [
    "# show optimal parameters of gridsearch\n",
    "CV_rfc.best_params_"
   ]
  },
  {
   "cell_type": "code",
   "execution_count": 31,
   "id": "f3770711",
   "metadata": {
    "execution": {
     "iopub.execute_input": "2023-01-15T05:04:54.913635Z",
     "iopub.status.busy": "2023-01-15T05:04:54.913236Z",
     "iopub.status.idle": "2023-01-15T05:04:56.245126Z",
     "shell.execute_reply": "2023-01-15T05:04:56.243466Z"
    },
    "papermill": {
     "duration": 1.348523,
     "end_time": "2023-01-15T05:04:56.247217",
     "exception": false,
     "start_time": "2023-01-15T05:04:54.898694",
     "status": "completed"
    },
    "tags": []
   },
   "outputs": [
    {
     "name": "stdout",
     "output_type": "stream",
     "text": [
      "Your submission was successfully saved!\n"
     ]
    }
   ],
   "source": [
    "# define dependent variable\n",
    "y = train_data[\"Survived\"]\n",
    "\n",
    "# define list of features e.g. independent variables\n",
    "features = [\"Pclass\", \"Sex\", \"SibSp\", \"Parch\", \"Title_adj\", 'Embarked']\n",
    "\n",
    "# create dummy variables from features of training set\n",
    "X = pd.get_dummies(train_data[features])\n",
    "\n",
    "# create dummy variables from features of test set\n",
    "X_test = pd.get_dummies(test_data[features])\n",
    "\n",
    "# define the model with the hyper-parameters\n",
    "model = RandomForestClassifier(n_estimators=1000, \n",
    "                               max_depth=4, \n",
    "                               random_state=1, \n",
    "                               criterion='gini',\n",
    "                               max_features='auto')\n",
    "\n",
    "# fit the model\n",
    "model.fit(X, y)\n",
    "\n",
    "# make the predictions\n",
    "predictions = model.predict(X_test)\n",
    "\n",
    "# create a pandas dataframe with the output of the predictions\n",
    "output = pd.DataFrame({'PassengerId': test_data.PassengerId, 'Survived': predictions})\n",
    "\n",
    "# output to .csv file the prediction\n",
    "output.to_csv('submission.csv', index=False)\n",
    "\n",
    "# print user message that submission was succesfull \n",
    "print(\"Your submission was successfully saved!\")"
   ]
  },
  {
   "cell_type": "code",
   "execution_count": 32,
   "id": "4336866c",
   "metadata": {
    "execution": {
     "iopub.execute_input": "2023-01-15T05:04:56.276848Z",
     "iopub.status.busy": "2023-01-15T05:04:56.276403Z",
     "iopub.status.idle": "2023-01-15T05:04:56.287101Z",
     "shell.execute_reply": "2023-01-15T05:04:56.286187Z"
    },
    "papermill": {
     "duration": 0.02753,
     "end_time": "2023-01-15T05:04:56.288918",
     "exception": false,
     "start_time": "2023-01-15T05:04:56.261388",
     "status": "completed"
    },
    "tags": []
   },
   "outputs": [
    {
     "data": {
      "text/html": [
       "<div>\n",
       "<style scoped>\n",
       "    .dataframe tbody tr th:only-of-type {\n",
       "        vertical-align: middle;\n",
       "    }\n",
       "\n",
       "    .dataframe tbody tr th {\n",
       "        vertical-align: top;\n",
       "    }\n",
       "\n",
       "    .dataframe thead th {\n",
       "        text-align: right;\n",
       "    }\n",
       "</style>\n",
       "<table border=\"1\" class=\"dataframe\">\n",
       "  <thead>\n",
       "    <tr style=\"text-align: right;\">\n",
       "      <th></th>\n",
       "      <th>PassengerId</th>\n",
       "      <th>Survived</th>\n",
       "    </tr>\n",
       "  </thead>\n",
       "  <tbody>\n",
       "    <tr>\n",
       "      <th>0</th>\n",
       "      <td>892</td>\n",
       "      <td>0</td>\n",
       "    </tr>\n",
       "    <tr>\n",
       "      <th>1</th>\n",
       "      <td>893</td>\n",
       "      <td>1</td>\n",
       "    </tr>\n",
       "    <tr>\n",
       "      <th>2</th>\n",
       "      <td>894</td>\n",
       "      <td>0</td>\n",
       "    </tr>\n",
       "    <tr>\n",
       "      <th>3</th>\n",
       "      <td>895</td>\n",
       "      <td>0</td>\n",
       "    </tr>\n",
       "    <tr>\n",
       "      <th>4</th>\n",
       "      <td>896</td>\n",
       "      <td>1</td>\n",
       "    </tr>\n",
       "    <tr>\n",
       "      <th>...</th>\n",
       "      <td>...</td>\n",
       "      <td>...</td>\n",
       "    </tr>\n",
       "    <tr>\n",
       "      <th>413</th>\n",
       "      <td>1305</td>\n",
       "      <td>0</td>\n",
       "    </tr>\n",
       "    <tr>\n",
       "      <th>414</th>\n",
       "      <td>1306</td>\n",
       "      <td>1</td>\n",
       "    </tr>\n",
       "    <tr>\n",
       "      <th>415</th>\n",
       "      <td>1307</td>\n",
       "      <td>0</td>\n",
       "    </tr>\n",
       "    <tr>\n",
       "      <th>416</th>\n",
       "      <td>1308</td>\n",
       "      <td>0</td>\n",
       "    </tr>\n",
       "    <tr>\n",
       "      <th>417</th>\n",
       "      <td>1309</td>\n",
       "      <td>1</td>\n",
       "    </tr>\n",
       "  </tbody>\n",
       "</table>\n",
       "<p>418 rows × 2 columns</p>\n",
       "</div>"
      ],
      "text/plain": [
       "     PassengerId  Survived\n",
       "0            892         0\n",
       "1            893         1\n",
       "2            894         0\n",
       "3            895         0\n",
       "4            896         1\n",
       "..           ...       ...\n",
       "413         1305         0\n",
       "414         1306         1\n",
       "415         1307         0\n",
       "416         1308         0\n",
       "417         1309         1\n",
       "\n",
       "[418 rows x 2 columns]"
      ]
     },
     "execution_count": 32,
     "metadata": {},
     "output_type": "execute_result"
    }
   ],
   "source": [
    "# show output prediction of test_data of passengerId survived or not\n",
    "output"
   ]
  },
  {
   "cell_type": "code",
   "execution_count": 33,
   "id": "5963c5b4",
   "metadata": {
    "execution": {
     "iopub.execute_input": "2023-01-15T05:04:56.317333Z",
     "iopub.status.busy": "2023-01-15T05:04:56.316841Z",
     "iopub.status.idle": "2023-01-15T05:04:56.338246Z",
     "shell.execute_reply": "2023-01-15T05:04:56.336938Z"
    },
    "papermill": {
     "duration": 0.038022,
     "end_time": "2023-01-15T05:04:56.340424",
     "exception": false,
     "start_time": "2023-01-15T05:04:56.302402",
     "status": "completed"
    },
    "tags": []
   },
   "outputs": [
    {
     "data": {
      "text/html": [
       "<div>\n",
       "<style scoped>\n",
       "    .dataframe tbody tr th:only-of-type {\n",
       "        vertical-align: middle;\n",
       "    }\n",
       "\n",
       "    .dataframe tbody tr th {\n",
       "        vertical-align: top;\n",
       "    }\n",
       "\n",
       "    .dataframe thead th {\n",
       "        text-align: right;\n",
       "    }\n",
       "</style>\n",
       "<table border=\"1\" class=\"dataframe\">\n",
       "  <thead>\n",
       "    <tr style=\"text-align: right;\">\n",
       "      <th>Survived</th>\n",
       "      <th>0</th>\n",
       "      <th>1</th>\n",
       "    </tr>\n",
       "    <tr>\n",
       "      <th>row_0</th>\n",
       "      <th></th>\n",
       "      <th></th>\n",
       "    </tr>\n",
       "  </thead>\n",
       "  <tbody>\n",
       "    <tr>\n",
       "      <th>418</th>\n",
       "      <td>254</td>\n",
       "      <td>164</td>\n",
       "    </tr>\n",
       "  </tbody>\n",
       "</table>\n",
       "</div>"
      ],
      "text/plain": [
       "Survived    0    1\n",
       "row_0             \n",
       "418       254  164"
      ]
     },
     "execution_count": 33,
     "metadata": {},
     "output_type": "execute_result"
    }
   ],
   "source": [
    "# show prediction how many survived (=1) and did not survive (=0)\n",
    "total_count = output['PassengerId'].count()\n",
    "pd.crosstab(total_count , output['Survived'])"
   ]
  },
  {
   "cell_type": "code",
   "execution_count": null,
   "id": "2cb73abb",
   "metadata": {
    "papermill": {
     "duration": 0.012649,
     "end_time": "2023-01-15T05:04:56.366278",
     "exception": false,
     "start_time": "2023-01-15T05:04:56.353629",
     "status": "completed"
    },
    "tags": []
   },
   "outputs": [],
   "source": []
  }
 ],
 "metadata": {
  "kernelspec": {
   "display_name": "Python 3",
   "language": "python",
   "name": "python3"
  },
  "language_info": {
   "codemirror_mode": {
    "name": "ipython",
    "version": 3
   },
   "file_extension": ".py",
   "mimetype": "text/x-python",
   "name": "python",
   "nbconvert_exporter": "python",
   "pygments_lexer": "ipython3",
   "version": "3.7.12"
  },
  "papermill": {
   "default_parameters": {},
   "duration": 547.900498,
   "end_time": "2023-01-15T05:04:57.203971",
   "environment_variables": {},
   "exception": null,
   "input_path": "__notebook__.ipynb",
   "output_path": "__notebook__.ipynb",
   "parameters": {},
   "start_time": "2023-01-15T04:55:49.303473",
   "version": "2.3.4"
  }
 },
 "nbformat": 4,
 "nbformat_minor": 5
}
