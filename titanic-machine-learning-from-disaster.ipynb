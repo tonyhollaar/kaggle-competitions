{
 "cells": [
  {
   "cell_type": "markdown",
   "id": "fd4646c3",
   "metadata": {
    "papermill": {
     "duration": 0.008962,
     "end_time": "2023-01-14T02:56:53.191658",
     "exception": false,
     "start_time": "2023-01-14T02:56:53.182696",
     "status": "completed"
    },
    "tags": []
   },
   "source": [
    "# Titanic Machine Learning from Disaster\n",
    "- source: https://www.kaggle.com/competitions/titanic/overview"
   ]
  },
  {
   "cell_type": "markdown",
   "id": "e1ca33f9",
   "metadata": {
    "papermill": {
     "duration": 0.00656,
     "end_time": "2023-01-14T02:56:53.205629",
     "exception": false,
     "start_time": "2023-01-14T02:56:53.199069",
     "status": "completed"
    },
    "tags": []
   },
   "source": [
    "## 1.0 Data Dictionary\n",
    "- source: https://www.kaggle.com/competitions/titanic/data"
   ]
  },
  {
   "cell_type": "markdown",
   "id": "1a816584",
   "metadata": {
    "execution": {
     "iopub.execute_input": "2023-01-13T23:17:11.991018Z",
     "iopub.status.busy": "2023-01-13T23:17:11.990385Z",
     "iopub.status.idle": "2023-01-13T23:17:12.007400Z",
     "shell.execute_reply": "2023-01-13T23:17:12.005463Z",
     "shell.execute_reply.started": "2023-01-13T23:17:11.990955Z"
    },
    "papermill": {
     "duration": 0.006613,
     "end_time": "2023-01-14T02:56:53.219084",
     "exception": false,
     "start_time": "2023-01-14T02:56:53.212471",
     "status": "completed"
    },
    "tags": []
   },
   "source": [
    "| Variable | Definition                                  | Key                                            |\n",
    "| -------- | ------------------------------------------- | ---------------------------------------------- |\n",
    "| survival | Survival                                    | 0 = No, 1 = Yes                                |\n",
    "| pclass   | Ticket class                                | 1 = 1st, 2 = 2nd, 3 = 3rd                      |\n",
    "| sex      | Sex                                         |                                                |\n",
    "| Age      | Age in years                                |                                                |\n",
    "| sibsp    | \\# of siblings / spouses aboard the Titanic |                                                |\n",
    "| parch    | \\# of parents / children aboard the Titanic |                                                |\n",
    "| ticket   | Ticket number                               |                                                |\n",
    "| fare     | Passenger fare                              |                                                |\n",
    "| cabin    | Cabin number                                |                                                |\n",
    "| embarked | Port of Embarkation                         | C = Cherbourg, Q = Queenstown, S = Southampton |"
   ]
  },
  {
   "cell_type": "markdown",
   "id": "0fdaff12",
   "metadata": {
    "execution": {
     "iopub.execute_input": "2023-01-13T23:17:07.419015Z",
     "iopub.status.busy": "2023-01-13T23:17:07.418521Z",
     "iopub.status.idle": "2023-01-13T23:17:07.431755Z",
     "shell.execute_reply": "2023-01-13T23:17:07.430256Z",
     "shell.execute_reply.started": "2023-01-13T23:17:07.418964Z"
    },
    "papermill": {
     "duration": 0.006811,
     "end_time": "2023-01-14T02:56:53.232699",
     "exception": false,
     "start_time": "2023-01-14T02:56:53.225888",
     "status": "completed"
    },
    "tags": []
   },
   "source": [
    "<b> Variable Notes </b>\n",
    "\n",
    "- <b> pclass </b>: A proxy for socio-economic status (SES)\n",
    "   * 1st = Upper\n",
    "   * 2nd = Middle\n",
    "   * 3rd = Lower\n",
    "   \n",
    "- <b> age </b>: Age is fractional if less than 1. If the age is estimated, is it in the form of xx.5\n",
    "\n",
    "- <b> sibsp </b>: The dataset defines family relations in this way...\n",
    "- <b> Sibling </b> = brother, sister, stepbrother, stepsister\n",
    "- <b> Spouse </b> = husband, wife (mistresses and fiancés were ignored)\n",
    "\n",
    "- <b> parch </b>: The dataset defines family relations in this way...\n",
    "- <b> Parent </b> = mother, father\n",
    "- <b> Child </b> = daughter, son, stepdaughter, stepson\n",
    "- Some children travelled only with a nanny, therefore parch=0 for them."
   ]
  },
  {
   "cell_type": "markdown",
   "id": "93836717",
   "metadata": {
    "papermill": {
     "duration": 0.006573,
     "end_time": "2023-01-14T02:56:53.246204",
     "exception": false,
     "start_time": "2023-01-14T02:56:53.239631",
     "status": "completed"
    },
    "tags": []
   },
   "source": [
    "## 1.1 Load Packages"
   ]
  },
  {
   "cell_type": "code",
   "execution_count": 1,
   "id": "4761899e",
   "metadata": {
    "_cell_guid": "b1076dfc-b9ad-4769-8c92-a6c4dae69d19",
    "_uuid": "8f2839f25d086af736a60e9eeb907d3b93b6e0e5",
    "execution": {
     "iopub.execute_input": "2023-01-14T02:56:53.264243Z",
     "iopub.status.busy": "2023-01-14T02:56:53.262813Z",
     "iopub.status.idle": "2023-01-14T02:56:53.280612Z",
     "shell.execute_reply": "2023-01-14T02:56:53.279290Z"
    },
    "papermill": {
     "duration": 0.03023,
     "end_time": "2023-01-14T02:56:53.283842",
     "exception": false,
     "start_time": "2023-01-14T02:56:53.253612",
     "status": "completed"
    },
    "tags": []
   },
   "outputs": [
    {
     "name": "stdout",
     "output_type": "stream",
     "text": [
      "/kaggle/input/titanic/train.csv\n",
      "/kaggle/input/titanic/test.csv\n",
      "/kaggle/input/titanic/gender_submission.csv\n"
     ]
    }
   ],
   "source": [
    "# This Python 3 environment comes with many helpful analytics libraries installed\n",
    "# It is defined by the kaggle/python Docker image: https://github.com/kaggle/docker-python\n",
    "# For example, here's several helpful packages to load\n",
    "import numpy as np # linear algebra\n",
    "import pandas as pd # data processing, CSV file I/O (e.g. pd.read_csv)\n",
    "\n",
    "# Input data files are available in the read-only \"../input/\" directory\n",
    "# For example, running this (by clicking run or pressing Shift+Enter) will list all files under the input directory\n",
    "import os\n",
    "for dirname, _, filenames in os.walk('/kaggle/input'):\n",
    "    for filename in filenames:\n",
    "        print(os.path.join(dirname, filename))\n",
    "\n",
    "# You can write up to 20GB to the current directory (/kaggle/working/) that gets preserved as output when you create a version using \"Save & Run All\" \n",
    "# You can also write temporary files to /kaggle/temp/, but they won't be saved outside of the current session"
   ]
  },
  {
   "cell_type": "code",
   "execution_count": 2,
   "id": "dad0a4ac",
   "metadata": {
    "execution": {
     "iopub.execute_input": "2023-01-14T02:56:53.300329Z",
     "iopub.status.busy": "2023-01-14T02:56:53.299907Z",
     "iopub.status.idle": "2023-01-14T02:56:53.305145Z",
     "shell.execute_reply": "2023-01-14T02:56:53.304046Z"
    },
    "papermill": {
     "duration": 0.01652,
     "end_time": "2023-01-14T02:56:53.307600",
     "exception": false,
     "start_time": "2023-01-14T02:56:53.291080",
     "status": "completed"
    },
    "tags": []
   },
   "outputs": [],
   "source": [
    "import matplotlib.pyplot as plt"
   ]
  },
  {
   "cell_type": "markdown",
   "id": "d1087157",
   "metadata": {
    "papermill": {
     "duration": 0.008613,
     "end_time": "2023-01-14T02:56:53.323487",
     "exception": false,
     "start_time": "2023-01-14T02:56:53.314874",
     "status": "completed"
    },
    "tags": []
   },
   "source": [
    "## 1.2 Load Data"
   ]
  },
  {
   "cell_type": "code",
   "execution_count": 3,
   "id": "63716158",
   "metadata": {
    "execution": {
     "iopub.execute_input": "2023-01-14T02:56:53.339901Z",
     "iopub.status.busy": "2023-01-14T02:56:53.338782Z",
     "iopub.status.idle": "2023-01-14T02:56:53.385612Z",
     "shell.execute_reply": "2023-01-14T02:56:53.384353Z"
    },
    "papermill": {
     "duration": 0.058065,
     "end_time": "2023-01-14T02:56:53.388588",
     "exception": false,
     "start_time": "2023-01-14T02:56:53.330523",
     "status": "completed"
    },
    "tags": []
   },
   "outputs": [
    {
     "data": {
      "text/html": [
       "<div>\n",
       "<style scoped>\n",
       "    .dataframe tbody tr th:only-of-type {\n",
       "        vertical-align: middle;\n",
       "    }\n",
       "\n",
       "    .dataframe tbody tr th {\n",
       "        vertical-align: top;\n",
       "    }\n",
       "\n",
       "    .dataframe thead th {\n",
       "        text-align: right;\n",
       "    }\n",
       "</style>\n",
       "<table border=\"1\" class=\"dataframe\">\n",
       "  <thead>\n",
       "    <tr style=\"text-align: right;\">\n",
       "      <th></th>\n",
       "      <th>PassengerId</th>\n",
       "      <th>Survived</th>\n",
       "      <th>Pclass</th>\n",
       "      <th>Name</th>\n",
       "      <th>Sex</th>\n",
       "      <th>Age</th>\n",
       "      <th>SibSp</th>\n",
       "      <th>Parch</th>\n",
       "      <th>Ticket</th>\n",
       "      <th>Fare</th>\n",
       "      <th>Cabin</th>\n",
       "      <th>Embarked</th>\n",
       "    </tr>\n",
       "  </thead>\n",
       "  <tbody>\n",
       "    <tr>\n",
       "      <th>0</th>\n",
       "      <td>1</td>\n",
       "      <td>0</td>\n",
       "      <td>3</td>\n",
       "      <td>Braund, Mr. Owen Harris</td>\n",
       "      <td>male</td>\n",
       "      <td>22.0</td>\n",
       "      <td>1</td>\n",
       "      <td>0</td>\n",
       "      <td>A/5 21171</td>\n",
       "      <td>7.2500</td>\n",
       "      <td>NaN</td>\n",
       "      <td>S</td>\n",
       "    </tr>\n",
       "    <tr>\n",
       "      <th>1</th>\n",
       "      <td>2</td>\n",
       "      <td>1</td>\n",
       "      <td>1</td>\n",
       "      <td>Cumings, Mrs. John Bradley (Florence Briggs Th...</td>\n",
       "      <td>female</td>\n",
       "      <td>38.0</td>\n",
       "      <td>1</td>\n",
       "      <td>0</td>\n",
       "      <td>PC 17599</td>\n",
       "      <td>71.2833</td>\n",
       "      <td>C85</td>\n",
       "      <td>C</td>\n",
       "    </tr>\n",
       "    <tr>\n",
       "      <th>2</th>\n",
       "      <td>3</td>\n",
       "      <td>1</td>\n",
       "      <td>3</td>\n",
       "      <td>Heikkinen, Miss. Laina</td>\n",
       "      <td>female</td>\n",
       "      <td>26.0</td>\n",
       "      <td>0</td>\n",
       "      <td>0</td>\n",
       "      <td>STON/O2. 3101282</td>\n",
       "      <td>7.9250</td>\n",
       "      <td>NaN</td>\n",
       "      <td>S</td>\n",
       "    </tr>\n",
       "    <tr>\n",
       "      <th>3</th>\n",
       "      <td>4</td>\n",
       "      <td>1</td>\n",
       "      <td>1</td>\n",
       "      <td>Futrelle, Mrs. Jacques Heath (Lily May Peel)</td>\n",
       "      <td>female</td>\n",
       "      <td>35.0</td>\n",
       "      <td>1</td>\n",
       "      <td>0</td>\n",
       "      <td>113803</td>\n",
       "      <td>53.1000</td>\n",
       "      <td>C123</td>\n",
       "      <td>S</td>\n",
       "    </tr>\n",
       "    <tr>\n",
       "      <th>4</th>\n",
       "      <td>5</td>\n",
       "      <td>0</td>\n",
       "      <td>3</td>\n",
       "      <td>Allen, Mr. William Henry</td>\n",
       "      <td>male</td>\n",
       "      <td>35.0</td>\n",
       "      <td>0</td>\n",
       "      <td>0</td>\n",
       "      <td>373450</td>\n",
       "      <td>8.0500</td>\n",
       "      <td>NaN</td>\n",
       "      <td>S</td>\n",
       "    </tr>\n",
       "  </tbody>\n",
       "</table>\n",
       "</div>"
      ],
      "text/plain": [
       "   PassengerId  Survived  Pclass  \\\n",
       "0            1         0       3   \n",
       "1            2         1       1   \n",
       "2            3         1       3   \n",
       "3            4         1       1   \n",
       "4            5         0       3   \n",
       "\n",
       "                                                Name     Sex   Age  SibSp  \\\n",
       "0                            Braund, Mr. Owen Harris    male  22.0      1   \n",
       "1  Cumings, Mrs. John Bradley (Florence Briggs Th...  female  38.0      1   \n",
       "2                             Heikkinen, Miss. Laina  female  26.0      0   \n",
       "3       Futrelle, Mrs. Jacques Heath (Lily May Peel)  female  35.0      1   \n",
       "4                           Allen, Mr. William Henry    male  35.0      0   \n",
       "\n",
       "   Parch            Ticket     Fare Cabin Embarked  \n",
       "0      0         A/5 21171   7.2500   NaN        S  \n",
       "1      0          PC 17599  71.2833   C85        C  \n",
       "2      0  STON/O2. 3101282   7.9250   NaN        S  \n",
       "3      0            113803  53.1000  C123        S  \n",
       "4      0            373450   8.0500   NaN        S  "
      ]
     },
     "execution_count": 3,
     "metadata": {},
     "output_type": "execute_result"
    }
   ],
   "source": [
    "# load training dataset\n",
    "train_data = pd.read_csv(\"/kaggle/input/titanic/train.csv\")\n",
    "train_data.head()"
   ]
  },
  {
   "cell_type": "code",
   "execution_count": 4,
   "id": "549b1df8",
   "metadata": {
    "execution": {
     "iopub.execute_input": "2023-01-14T02:56:53.405767Z",
     "iopub.status.busy": "2023-01-14T02:56:53.405320Z",
     "iopub.status.idle": "2023-01-14T02:56:53.431329Z",
     "shell.execute_reply": "2023-01-14T02:56:53.429925Z"
    },
    "papermill": {
     "duration": 0.037871,
     "end_time": "2023-01-14T02:56:53.434118",
     "exception": false,
     "start_time": "2023-01-14T02:56:53.396247",
     "status": "completed"
    },
    "tags": []
   },
   "outputs": [
    {
     "data": {
      "text/html": [
       "<div>\n",
       "<style scoped>\n",
       "    .dataframe tbody tr th:only-of-type {\n",
       "        vertical-align: middle;\n",
       "    }\n",
       "\n",
       "    .dataframe tbody tr th {\n",
       "        vertical-align: top;\n",
       "    }\n",
       "\n",
       "    .dataframe thead th {\n",
       "        text-align: right;\n",
       "    }\n",
       "</style>\n",
       "<table border=\"1\" class=\"dataframe\">\n",
       "  <thead>\n",
       "    <tr style=\"text-align: right;\">\n",
       "      <th></th>\n",
       "      <th>PassengerId</th>\n",
       "      <th>Pclass</th>\n",
       "      <th>Name</th>\n",
       "      <th>Sex</th>\n",
       "      <th>Age</th>\n",
       "      <th>SibSp</th>\n",
       "      <th>Parch</th>\n",
       "      <th>Ticket</th>\n",
       "      <th>Fare</th>\n",
       "      <th>Cabin</th>\n",
       "      <th>Embarked</th>\n",
       "    </tr>\n",
       "  </thead>\n",
       "  <tbody>\n",
       "    <tr>\n",
       "      <th>0</th>\n",
       "      <td>892</td>\n",
       "      <td>3</td>\n",
       "      <td>Kelly, Mr. James</td>\n",
       "      <td>male</td>\n",
       "      <td>34.5</td>\n",
       "      <td>0</td>\n",
       "      <td>0</td>\n",
       "      <td>330911</td>\n",
       "      <td>7.8292</td>\n",
       "      <td>NaN</td>\n",
       "      <td>Q</td>\n",
       "    </tr>\n",
       "    <tr>\n",
       "      <th>1</th>\n",
       "      <td>893</td>\n",
       "      <td>3</td>\n",
       "      <td>Wilkes, Mrs. James (Ellen Needs)</td>\n",
       "      <td>female</td>\n",
       "      <td>47.0</td>\n",
       "      <td>1</td>\n",
       "      <td>0</td>\n",
       "      <td>363272</td>\n",
       "      <td>7.0000</td>\n",
       "      <td>NaN</td>\n",
       "      <td>S</td>\n",
       "    </tr>\n",
       "    <tr>\n",
       "      <th>2</th>\n",
       "      <td>894</td>\n",
       "      <td>2</td>\n",
       "      <td>Myles, Mr. Thomas Francis</td>\n",
       "      <td>male</td>\n",
       "      <td>62.0</td>\n",
       "      <td>0</td>\n",
       "      <td>0</td>\n",
       "      <td>240276</td>\n",
       "      <td>9.6875</td>\n",
       "      <td>NaN</td>\n",
       "      <td>Q</td>\n",
       "    </tr>\n",
       "    <tr>\n",
       "      <th>3</th>\n",
       "      <td>895</td>\n",
       "      <td>3</td>\n",
       "      <td>Wirz, Mr. Albert</td>\n",
       "      <td>male</td>\n",
       "      <td>27.0</td>\n",
       "      <td>0</td>\n",
       "      <td>0</td>\n",
       "      <td>315154</td>\n",
       "      <td>8.6625</td>\n",
       "      <td>NaN</td>\n",
       "      <td>S</td>\n",
       "    </tr>\n",
       "    <tr>\n",
       "      <th>4</th>\n",
       "      <td>896</td>\n",
       "      <td>3</td>\n",
       "      <td>Hirvonen, Mrs. Alexander (Helga E Lindqvist)</td>\n",
       "      <td>female</td>\n",
       "      <td>22.0</td>\n",
       "      <td>1</td>\n",
       "      <td>1</td>\n",
       "      <td>3101298</td>\n",
       "      <td>12.2875</td>\n",
       "      <td>NaN</td>\n",
       "      <td>S</td>\n",
       "    </tr>\n",
       "  </tbody>\n",
       "</table>\n",
       "</div>"
      ],
      "text/plain": [
       "   PassengerId  Pclass                                          Name     Sex  \\\n",
       "0          892       3                              Kelly, Mr. James    male   \n",
       "1          893       3              Wilkes, Mrs. James (Ellen Needs)  female   \n",
       "2          894       2                     Myles, Mr. Thomas Francis    male   \n",
       "3          895       3                              Wirz, Mr. Albert    male   \n",
       "4          896       3  Hirvonen, Mrs. Alexander (Helga E Lindqvist)  female   \n",
       "\n",
       "    Age  SibSp  Parch   Ticket     Fare Cabin Embarked  \n",
       "0  34.5      0      0   330911   7.8292   NaN        Q  \n",
       "1  47.0      1      0   363272   7.0000   NaN        S  \n",
       "2  62.0      0      0   240276   9.6875   NaN        Q  \n",
       "3  27.0      0      0   315154   8.6625   NaN        S  \n",
       "4  22.0      1      1  3101298  12.2875   NaN        S  "
      ]
     },
     "execution_count": 4,
     "metadata": {},
     "output_type": "execute_result"
    }
   ],
   "source": [
    "# load test dataset\n",
    "test_data = pd.read_csv(\"/kaggle/input/titanic/test.csv\")\n",
    "test_data.head()"
   ]
  },
  {
   "cell_type": "markdown",
   "id": "88b1ae61",
   "metadata": {
    "papermill": {
     "duration": 0.007188,
     "end_time": "2023-01-14T02:56:53.449442",
     "exception": false,
     "start_time": "2023-01-14T02:56:53.442254",
     "status": "completed"
    },
    "tags": []
   },
   "source": [
    "## 1.3 EDA - Exploratory Data Analysis"
   ]
  },
  {
   "cell_type": "code",
   "execution_count": 5,
   "id": "839c4749",
   "metadata": {
    "execution": {
     "iopub.execute_input": "2023-01-14T02:56:53.466624Z",
     "iopub.status.busy": "2023-01-14T02:56:53.466140Z",
     "iopub.status.idle": "2023-01-14T02:56:53.495103Z",
     "shell.execute_reply": "2023-01-14T02:56:53.493587Z"
    },
    "papermill": {
     "duration": 0.041086,
     "end_time": "2023-01-14T02:56:53.498100",
     "exception": false,
     "start_time": "2023-01-14T02:56:53.457014",
     "status": "completed"
    },
    "tags": []
   },
   "outputs": [
    {
     "name": "stdout",
     "output_type": "stream",
     "text": [
      "<class 'pandas.core.frame.DataFrame'>\n",
      "RangeIndex: 891 entries, 0 to 890\n",
      "Data columns (total 12 columns):\n",
      " #   Column       Non-Null Count  Dtype  \n",
      "---  ------       --------------  -----  \n",
      " 0   PassengerId  891 non-null    int64  \n",
      " 1   Survived     891 non-null    int64  \n",
      " 2   Pclass       891 non-null    int64  \n",
      " 3   Name         891 non-null    object \n",
      " 4   Sex          891 non-null    object \n",
      " 5   Age          714 non-null    float64\n",
      " 6   SibSp        891 non-null    int64  \n",
      " 7   Parch        891 non-null    int64  \n",
      " 8   Ticket       891 non-null    object \n",
      " 9   Fare         891 non-null    float64\n",
      " 10  Cabin        204 non-null    object \n",
      " 11  Embarked     889 non-null    object \n",
      "dtypes: float64(2), int64(5), object(5)\n",
      "memory usage: 83.7+ KB\n"
     ]
    }
   ],
   "source": [
    "train_data.info()"
   ]
  },
  {
   "cell_type": "code",
   "execution_count": 6,
   "id": "b11f5193",
   "metadata": {
    "execution": {
     "iopub.execute_input": "2023-01-14T02:56:53.516184Z",
     "iopub.status.busy": "2023-01-14T02:56:53.514865Z",
     "iopub.status.idle": "2023-01-14T02:56:53.538613Z",
     "shell.execute_reply": "2023-01-14T02:56:53.536848Z"
    },
    "papermill": {
     "duration": 0.035997,
     "end_time": "2023-01-14T02:56:53.541838",
     "exception": false,
     "start_time": "2023-01-14T02:56:53.505841",
     "status": "completed"
    },
    "tags": []
   },
   "outputs": [
    {
     "name": "stdout",
     "output_type": "stream",
     "text": [
      "--------------------------------------------\n",
      "Missing values in dataset i.e. NaN values\n",
      "--------------------------------------------\n"
     ]
    },
    {
     "data": {
      "text/html": [
       "<div>\n",
       "<style scoped>\n",
       "    .dataframe tbody tr th:only-of-type {\n",
       "        vertical-align: middle;\n",
       "    }\n",
       "\n",
       "    .dataframe tbody tr th {\n",
       "        vertical-align: top;\n",
       "    }\n",
       "\n",
       "    .dataframe thead th {\n",
       "        text-align: right;\n",
       "    }\n",
       "</style>\n",
       "<table border=\"1\" class=\"dataframe\">\n",
       "  <thead>\n",
       "    <tr style=\"text-align: right;\">\n",
       "      <th></th>\n",
       "      <th>values_missing</th>\n",
       "      <th>perc_nan</th>\n",
       "    </tr>\n",
       "  </thead>\n",
       "  <tbody>\n",
       "    <tr>\n",
       "      <th>Cabin</th>\n",
       "      <td>687</td>\n",
       "      <td>77.10</td>\n",
       "    </tr>\n",
       "    <tr>\n",
       "      <th>Age</th>\n",
       "      <td>177</td>\n",
       "      <td>19.87</td>\n",
       "    </tr>\n",
       "    <tr>\n",
       "      <th>Embarked</th>\n",
       "      <td>2</td>\n",
       "      <td>0.22</td>\n",
       "    </tr>\n",
       "    <tr>\n",
       "      <th>PassengerId</th>\n",
       "      <td>0</td>\n",
       "      <td>0.00</td>\n",
       "    </tr>\n",
       "    <tr>\n",
       "      <th>Survived</th>\n",
       "      <td>0</td>\n",
       "      <td>0.00</td>\n",
       "    </tr>\n",
       "    <tr>\n",
       "      <th>Pclass</th>\n",
       "      <td>0</td>\n",
       "      <td>0.00</td>\n",
       "    </tr>\n",
       "    <tr>\n",
       "      <th>Name</th>\n",
       "      <td>0</td>\n",
       "      <td>0.00</td>\n",
       "    </tr>\n",
       "    <tr>\n",
       "      <th>Sex</th>\n",
       "      <td>0</td>\n",
       "      <td>0.00</td>\n",
       "    </tr>\n",
       "    <tr>\n",
       "      <th>SibSp</th>\n",
       "      <td>0</td>\n",
       "      <td>0.00</td>\n",
       "    </tr>\n",
       "    <tr>\n",
       "      <th>Parch</th>\n",
       "      <td>0</td>\n",
       "      <td>0.00</td>\n",
       "    </tr>\n",
       "    <tr>\n",
       "      <th>Ticket</th>\n",
       "      <td>0</td>\n",
       "      <td>0.00</td>\n",
       "    </tr>\n",
       "    <tr>\n",
       "      <th>Fare</th>\n",
       "      <td>0</td>\n",
       "      <td>0.00</td>\n",
       "    </tr>\n",
       "  </tbody>\n",
       "</table>\n",
       "</div>"
      ],
      "text/plain": [
       "             values_missing  perc_nan\n",
       "Cabin                   687     77.10\n",
       "Age                     177     19.87\n",
       "Embarked                  2      0.22\n",
       "PassengerId               0      0.00\n",
       "Survived                  0      0.00\n",
       "Pclass                    0      0.00\n",
       "Name                      0      0.00\n",
       "Sex                       0      0.00\n",
       "SibSp                     0      0.00\n",
       "Parch                     0      0.00\n",
       "Ticket                    0      0.00\n",
       "Fare                      0      0.00"
      ]
     },
     "execution_count": 6,
     "metadata": {},
     "output_type": "execute_result"
    }
   ],
   "source": [
    "print('--------------------------------------------')\n",
    "print('Missing values in dataset i.e. NaN values')\n",
    "print('--------------------------------------------')\n",
    "values_missing = round(train_data.isna().sum())\n",
    "perc_missing = round(train_data.isna().sum() / train_data.shape[0]*100, 2)\n",
    "# sorted percentages of missing\n",
    "df_missing = pd.DataFrame(values_missing, columns=['values_missing']).sort_values('values_missing', ascending=False)\n",
    "df_missing['perc_nan'] = perc_missing\n",
    "df_missing"
   ]
  },
  {
   "cell_type": "code",
   "execution_count": 7,
   "id": "5745f234",
   "metadata": {
    "execution": {
     "iopub.execute_input": "2023-01-14T02:56:53.560864Z",
     "iopub.status.busy": "2023-01-14T02:56:53.560381Z",
     "iopub.status.idle": "2023-01-14T02:56:53.580556Z",
     "shell.execute_reply": "2023-01-14T02:56:53.579247Z"
    },
    "papermill": {
     "duration": 0.032749,
     "end_time": "2023-01-14T02:56:53.583405",
     "exception": false,
     "start_time": "2023-01-14T02:56:53.550656",
     "status": "completed"
    },
    "tags": []
   },
   "outputs": [
    {
     "data": {
      "text/html": [
       "<div>\n",
       "<style scoped>\n",
       "    .dataframe tbody tr th:only-of-type {\n",
       "        vertical-align: middle;\n",
       "    }\n",
       "\n",
       "    .dataframe tbody tr th {\n",
       "        vertical-align: top;\n",
       "    }\n",
       "\n",
       "    .dataframe thead th {\n",
       "        text-align: right;\n",
       "    }\n",
       "</style>\n",
       "<table border=\"1\" class=\"dataframe\">\n",
       "  <thead>\n",
       "    <tr style=\"text-align: right;\">\n",
       "      <th></th>\n",
       "      <th>Survived</th>\n",
       "      <th>% of total</th>\n",
       "    </tr>\n",
       "    <tr>\n",
       "      <th>Sex</th>\n",
       "      <th></th>\n",
       "      <th></th>\n",
       "    </tr>\n",
       "  </thead>\n",
       "  <tbody>\n",
       "    <tr>\n",
       "      <th>female</th>\n",
       "      <td>233</td>\n",
       "      <td>68.13</td>\n",
       "    </tr>\n",
       "    <tr>\n",
       "      <th>male</th>\n",
       "      <td>109</td>\n",
       "      <td>31.87</td>\n",
       "    </tr>\n",
       "  </tbody>\n",
       "</table>\n",
       "</div>"
      ],
      "text/plain": [
       "        Survived  % of total\n",
       "Sex                         \n",
       "female       233       68.13\n",
       "male         109       31.87"
      ]
     },
     "execution_count": 7,
     "metadata": {},
     "output_type": "execute_result"
    }
   ],
   "source": [
    "df_survived = train_data[['Survived', 'Sex']].groupby('Sex').sum()\n",
    "df_survived['% of total'] = df_survived.apply(lambda x: round(x/df_survived['Survived'].sum()*100,2))\n",
    "df_survived"
   ]
  },
  {
   "cell_type": "code",
   "execution_count": 8,
   "id": "5ce33ed0",
   "metadata": {
    "execution": {
     "iopub.execute_input": "2023-01-14T02:56:53.601672Z",
     "iopub.status.busy": "2023-01-14T02:56:53.601118Z",
     "iopub.status.idle": "2023-01-14T02:56:53.635265Z",
     "shell.execute_reply": "2023-01-14T02:56:53.633686Z"
    },
    "papermill": {
     "duration": 0.046754,
     "end_time": "2023-01-14T02:56:53.638363",
     "exception": false,
     "start_time": "2023-01-14T02:56:53.591609",
     "status": "completed"
    },
    "tags": []
   },
   "outputs": [
    {
     "data": {
      "text/html": [
       "<div>\n",
       "<style scoped>\n",
       "    .dataframe tbody tr th:only-of-type {\n",
       "        vertical-align: middle;\n",
       "    }\n",
       "\n",
       "    .dataframe tbody tr th {\n",
       "        vertical-align: top;\n",
       "    }\n",
       "\n",
       "    .dataframe thead th {\n",
       "        text-align: right;\n",
       "    }\n",
       "</style>\n",
       "<table border=\"1\" class=\"dataframe\">\n",
       "  <thead>\n",
       "    <tr style=\"text-align: right;\">\n",
       "      <th>Survived</th>\n",
       "      <th>0</th>\n",
       "      <th>1</th>\n",
       "    </tr>\n",
       "    <tr>\n",
       "      <th>Sex</th>\n",
       "      <th></th>\n",
       "      <th></th>\n",
       "    </tr>\n",
       "  </thead>\n",
       "  <tbody>\n",
       "    <tr>\n",
       "      <th>female</th>\n",
       "      <td>81</td>\n",
       "      <td>233</td>\n",
       "    </tr>\n",
       "    <tr>\n",
       "      <th>male</th>\n",
       "      <td>468</td>\n",
       "      <td>109</td>\n",
       "    </tr>\n",
       "  </tbody>\n",
       "</table>\n",
       "</div>"
      ],
      "text/plain": [
       "Survived    0    1\n",
       "Sex               \n",
       "female     81  233\n",
       "male      468  109"
      ]
     },
     "execution_count": 8,
     "metadata": {},
     "output_type": "execute_result"
    }
   ],
   "source": [
    "pd.crosstab(train_data['Sex'], train_data['Survived'])"
   ]
  },
  {
   "cell_type": "code",
   "execution_count": 9,
   "id": "5f7d38bc",
   "metadata": {
    "execution": {
     "iopub.execute_input": "2023-01-14T02:56:53.658947Z",
     "iopub.status.busy": "2023-01-14T02:56:53.657948Z",
     "iopub.status.idle": "2023-01-14T02:56:53.686741Z",
     "shell.execute_reply": "2023-01-14T02:56:53.685395Z"
    },
    "papermill": {
     "duration": 0.042422,
     "end_time": "2023-01-14T02:56:53.689344",
     "exception": false,
     "start_time": "2023-01-14T02:56:53.646922",
     "status": "completed"
    },
    "tags": []
   },
   "outputs": [
    {
     "data": {
      "text/html": [
       "<div>\n",
       "<style scoped>\n",
       "    .dataframe tbody tr th:only-of-type {\n",
       "        vertical-align: middle;\n",
       "    }\n",
       "\n",
       "    .dataframe tbody tr th {\n",
       "        vertical-align: top;\n",
       "    }\n",
       "\n",
       "    .dataframe thead th {\n",
       "        text-align: right;\n",
       "    }\n",
       "</style>\n",
       "<table border=\"1\" class=\"dataframe\">\n",
       "  <thead>\n",
       "    <tr style=\"text-align: right;\">\n",
       "      <th>Survived</th>\n",
       "      <th>0</th>\n",
       "      <th>1</th>\n",
       "    </tr>\n",
       "    <tr>\n",
       "      <th>Sex</th>\n",
       "      <th></th>\n",
       "      <th></th>\n",
       "    </tr>\n",
       "  </thead>\n",
       "  <tbody>\n",
       "    <tr>\n",
       "      <th>female</th>\n",
       "      <td>26.0</td>\n",
       "      <td>74.0</td>\n",
       "    </tr>\n",
       "    <tr>\n",
       "      <th>male</th>\n",
       "      <td>81.0</td>\n",
       "      <td>19.0</td>\n",
       "    </tr>\n",
       "  </tbody>\n",
       "</table>\n",
       "</div>"
      ],
      "text/plain": [
       "Survived     0     1\n",
       "Sex                 \n",
       "female    26.0  74.0\n",
       "male      81.0  19.0"
      ]
     },
     "execution_count": 9,
     "metadata": {},
     "output_type": "execute_result"
    }
   ],
   "source": [
    "pd.crosstab(train_data['Sex'], train_data['Survived'], normalize='index').round(2)*100"
   ]
  },
  {
   "cell_type": "code",
   "execution_count": 10,
   "id": "263cd5da",
   "metadata": {
    "execution": {
     "iopub.execute_input": "2023-01-14T02:56:53.708174Z",
     "iopub.status.busy": "2023-01-14T02:56:53.707702Z",
     "iopub.status.idle": "2023-01-14T02:56:54.054282Z",
     "shell.execute_reply": "2023-01-14T02:56:54.052929Z"
    },
    "papermill": {
     "duration": 0.359831,
     "end_time": "2023-01-14T02:56:54.057638",
     "exception": false,
     "start_time": "2023-01-14T02:56:53.697807",
     "status": "completed"
    },
    "tags": []
   },
   "outputs": [
    {
     "data": {
      "text/plain": [
       "<Figure size 1440x936 with 0 Axes>"
      ]
     },
     "metadata": {},
     "output_type": "display_data"
    },
    {
     "data": {
      "image/png": "[encoded data removed]",
      "text/plain": [
       "<Figure size 432x288 with 1 Axes>"
      ]
     },
     "metadata": {
      "needs_background": "light"
     },
     "output_type": "display_data"
    }
   ],
   "source": [
    "# define axis\n",
    "\n",
    "plt.figure(figsize=(20,13))\n",
    "ax = (pd.crosstab(train_data['Sex'], train_data['Survived'], normalize='index')*100)\\\n",
    ".round(2).plot.bar(stacked=True, \n",
    "                   title='% Survived Titanic by Gender', \n",
    "                   color=['lightgrey', 'lightgreen'])\n",
    "\n",
    "# annotate the barchart labels in center\n",
    "ax.bar_label(ax.containers[0], label_type='center')\n",
    "ax.bar_label(ax.containers[1], label_type='center')\n",
    "\n",
    "# set the legend position\n",
    "plt.legend(loc = \"upper right\")\n",
    "\n",
    "# set the layout to tight\n",
    "plt.tight_layout()"
   ]
  },
  {
   "cell_type": "code",
   "execution_count": 11,
   "id": "4c961c85",
   "metadata": {
    "execution": {
     "iopub.execute_input": "2023-01-14T02:56:54.078050Z",
     "iopub.status.busy": "2023-01-14T02:56:54.076920Z",
     "iopub.status.idle": "2023-01-14T02:56:54.251852Z",
     "shell.execute_reply": "2023-01-14T02:56:54.250840Z"
    },
    "papermill": {
     "duration": 0.187973,
     "end_time": "2023-01-14T02:56:54.254714",
     "exception": false,
     "start_time": "2023-01-14T02:56:54.066741",
     "status": "completed"
    },
    "tags": []
   },
   "outputs": [
    {
     "data": {
      "image/png": "[encoded data removed]",
      "text/plain": [
       "<Figure size 432x288 with 1 Axes>"
      ]
     },
     "metadata": {
      "needs_background": "light"
     },
     "output_type": "display_data"
    }
   ],
   "source": [
    "\n",
    "\n",
    "# show df\n",
    "df_survived['% of total'].plot.bar(stacked=True, color=['pink', 'blue'], title='% survived by gender')\n",
    "plt.show()"
   ]
  },
  {
   "cell_type": "code",
   "execution_count": 12,
   "id": "18149c9c",
   "metadata": {
    "execution": {
     "iopub.execute_input": "2023-01-14T02:56:54.276110Z",
     "iopub.status.busy": "2023-01-14T02:56:54.275203Z",
     "iopub.status.idle": "2023-01-14T02:56:54.283255Z",
     "shell.execute_reply": "2023-01-14T02:56:54.281965Z"
    },
    "papermill": {
     "duration": 0.021453,
     "end_time": "2023-01-14T02:56:54.285979",
     "exception": false,
     "start_time": "2023-01-14T02:56:54.264526",
     "status": "completed"
    },
    "tags": []
   },
   "outputs": [
    {
     "data": {
      "text/plain": [
       "342"
      ]
     },
     "execution_count": 12,
     "metadata": {},
     "output_type": "execute_result"
    }
   ],
   "source": [
    "df_survived['Survived'].sum()"
   ]
  },
  {
   "cell_type": "code",
   "execution_count": 13,
   "id": "1f7c5147",
   "metadata": {
    "execution": {
     "iopub.execute_input": "2023-01-14T02:56:54.306301Z",
     "iopub.status.busy": "2023-01-14T02:56:54.305807Z",
     "iopub.status.idle": "2023-01-14T02:56:54.312769Z",
     "shell.execute_reply": "2023-01-14T02:56:54.311351Z"
    },
    "papermill": {
     "duration": 0.020216,
     "end_time": "2023-01-14T02:56:54.315324",
     "exception": false,
     "start_time": "2023-01-14T02:56:54.295108",
     "status": "completed"
    },
    "tags": []
   },
   "outputs": [],
   "source": [
    "# check the missing values for age row-wise to validate\n",
    "df_missing = train_data[train_data['Age'] != train_data['Age']]\n"
   ]
  },
  {
   "cell_type": "code",
   "execution_count": 14,
   "id": "ddab3484",
   "metadata": {
    "execution": {
     "iopub.execute_input": "2023-01-14T02:56:54.337461Z",
     "iopub.status.busy": "2023-01-14T02:56:54.336195Z",
     "iopub.status.idle": "2023-01-14T02:56:54.353199Z",
     "shell.execute_reply": "2023-01-14T02:56:54.351881Z"
    },
    "papermill": {
     "duration": 0.033348,
     "end_time": "2023-01-14T02:56:54.358161",
     "exception": false,
     "start_time": "2023-01-14T02:56:54.324813",
     "status": "completed"
    },
    "tags": []
   },
   "outputs": [
    {
     "name": "stdout",
     "output_type": "stream",
     "text": [
      "<class 'pandas.core.frame.DataFrame'>\n",
      "RangeIndex: 418 entries, 0 to 417\n",
      "Data columns (total 11 columns):\n",
      " #   Column       Non-Null Count  Dtype  \n",
      "---  ------       --------------  -----  \n",
      " 0   PassengerId  418 non-null    int64  \n",
      " 1   Pclass       418 non-null    int64  \n",
      " 2   Name         418 non-null    object \n",
      " 3   Sex          418 non-null    object \n",
      " 4   Age          332 non-null    float64\n",
      " 5   SibSp        418 non-null    int64  \n",
      " 6   Parch        418 non-null    int64  \n",
      " 7   Ticket       418 non-null    object \n",
      " 8   Fare         417 non-null    float64\n",
      " 9   Cabin        91 non-null     object \n",
      " 10  Embarked     418 non-null    object \n",
      "dtypes: float64(2), int64(4), object(5)\n",
      "memory usage: 36.0+ KB\n"
     ]
    }
   ],
   "source": [
    "test_data.info()"
   ]
  },
  {
   "cell_type": "markdown",
   "id": "e87dbc3d",
   "metadata": {
    "papermill": {
     "duration": 0.010872,
     "end_time": "2023-01-14T02:56:54.379495",
     "exception": false,
     "start_time": "2023-01-14T02:56:54.368623",
     "status": "completed"
    },
    "tags": []
   },
   "source": [
    "## Feature Engineering\n",
    "### feature: titles\n",
    "- source: https://triangleinequality.wordpress.com/2013/09/08/basic-feature-engineering-with-the-titanic-data/"
   ]
  },
  {
   "cell_type": "code",
   "execution_count": 15,
   "id": "428ba61c",
   "metadata": {
    "execution": {
     "iopub.execute_input": "2023-01-14T02:56:54.406900Z",
     "iopub.status.busy": "2023-01-14T02:56:54.406455Z",
     "iopub.status.idle": "2023-01-14T02:56:54.436786Z",
     "shell.execute_reply": "2023-01-14T02:56:54.435518Z"
    },
    "papermill": {
     "duration": 0.048281,
     "end_time": "2023-01-14T02:56:54.440268",
     "exception": false,
     "start_time": "2023-01-14T02:56:54.391987",
     "status": "completed"
    },
    "tags": []
   },
   "outputs": [],
   "source": [
    "import regex as re\n",
    "def get_title(name):\n",
    "    \"\"\"\n",
    "    Use a regular expression to search for a title.  Titles always consist of\n",
    "    capital and lowercase letters, and end with a period.\n",
    "    Takes a name as input and returns the title string as output\n",
    "    \"\"\"\n",
    "    title_search = re.search('([A-Za-z]+)\\.', name)\n",
    "    # If the title exists, extract and return it.\n",
    "    if title_search:\n",
    "        return title_search.group(1)\n",
    "    return \"\""
   ]
  },
  {
   "cell_type": "code",
   "execution_count": 16,
   "id": "054c31cb",
   "metadata": {
    "execution": {
     "iopub.execute_input": "2023-01-14T02:56:54.467802Z",
     "iopub.status.busy": "2023-01-14T02:56:54.466814Z",
     "iopub.status.idle": "2023-01-14T02:56:54.493679Z",
     "shell.execute_reply": "2023-01-14T02:56:54.492304Z"
    },
    "papermill": {
     "duration": 0.043095,
     "end_time": "2023-01-14T02:56:54.496388",
     "exception": false,
     "start_time": "2023-01-14T02:56:54.453293",
     "status": "completed"
    },
    "tags": []
   },
   "outputs": [
    {
     "data": {
      "text/html": [
       "<div>\n",
       "<style scoped>\n",
       "    .dataframe tbody tr th:only-of-type {\n",
       "        vertical-align: middle;\n",
       "    }\n",
       "\n",
       "    .dataframe tbody tr th {\n",
       "        vertical-align: top;\n",
       "    }\n",
       "\n",
       "    .dataframe thead th {\n",
       "        text-align: right;\n",
       "    }\n",
       "</style>\n",
       "<table border=\"1\" class=\"dataframe\">\n",
       "  <thead>\n",
       "    <tr style=\"text-align: right;\">\n",
       "      <th></th>\n",
       "      <th>PassengerId</th>\n",
       "      <th>Survived</th>\n",
       "      <th>Pclass</th>\n",
       "      <th>Name</th>\n",
       "      <th>Sex</th>\n",
       "      <th>Age</th>\n",
       "      <th>SibSp</th>\n",
       "      <th>Parch</th>\n",
       "      <th>Ticket</th>\n",
       "      <th>Fare</th>\n",
       "      <th>Cabin</th>\n",
       "      <th>Embarked</th>\n",
       "      <th>Title</th>\n",
       "    </tr>\n",
       "  </thead>\n",
       "  <tbody>\n",
       "    <tr>\n",
       "      <th>0</th>\n",
       "      <td>1</td>\n",
       "      <td>0</td>\n",
       "      <td>3</td>\n",
       "      <td>Braund, Mr. Owen Harris</td>\n",
       "      <td>male</td>\n",
       "      <td>22.0</td>\n",
       "      <td>1</td>\n",
       "      <td>0</td>\n",
       "      <td>A/5 21171</td>\n",
       "      <td>7.2500</td>\n",
       "      <td>NaN</td>\n",
       "      <td>S</td>\n",
       "      <td>Mr</td>\n",
       "    </tr>\n",
       "    <tr>\n",
       "      <th>1</th>\n",
       "      <td>2</td>\n",
       "      <td>1</td>\n",
       "      <td>1</td>\n",
       "      <td>Cumings, Mrs. John Bradley (Florence Briggs Th...</td>\n",
       "      <td>female</td>\n",
       "      <td>38.0</td>\n",
       "      <td>1</td>\n",
       "      <td>0</td>\n",
       "      <td>PC 17599</td>\n",
       "      <td>71.2833</td>\n",
       "      <td>C85</td>\n",
       "      <td>C</td>\n",
       "      <td>Mrs</td>\n",
       "    </tr>\n",
       "    <tr>\n",
       "      <th>2</th>\n",
       "      <td>3</td>\n",
       "      <td>1</td>\n",
       "      <td>3</td>\n",
       "      <td>Heikkinen, Miss. Laina</td>\n",
       "      <td>female</td>\n",
       "      <td>26.0</td>\n",
       "      <td>0</td>\n",
       "      <td>0</td>\n",
       "      <td>STON/O2. 3101282</td>\n",
       "      <td>7.9250</td>\n",
       "      <td>NaN</td>\n",
       "      <td>S</td>\n",
       "      <td>Miss</td>\n",
       "    </tr>\n",
       "    <tr>\n",
       "      <th>3</th>\n",
       "      <td>4</td>\n",
       "      <td>1</td>\n",
       "      <td>1</td>\n",
       "      <td>Futrelle, Mrs. Jacques Heath (Lily May Peel)</td>\n",
       "      <td>female</td>\n",
       "      <td>35.0</td>\n",
       "      <td>1</td>\n",
       "      <td>0</td>\n",
       "      <td>113803</td>\n",
       "      <td>53.1000</td>\n",
       "      <td>C123</td>\n",
       "      <td>S</td>\n",
       "      <td>Mrs</td>\n",
       "    </tr>\n",
       "    <tr>\n",
       "      <th>4</th>\n",
       "      <td>5</td>\n",
       "      <td>0</td>\n",
       "      <td>3</td>\n",
       "      <td>Allen, Mr. William Henry</td>\n",
       "      <td>male</td>\n",
       "      <td>35.0</td>\n",
       "      <td>0</td>\n",
       "      <td>0</td>\n",
       "      <td>373450</td>\n",
       "      <td>8.0500</td>\n",
       "      <td>NaN</td>\n",
       "      <td>S</td>\n",
       "      <td>Mr</td>\n",
       "    </tr>\n",
       "  </tbody>\n",
       "</table>\n",
       "</div>"
      ],
      "text/plain": [
       "   PassengerId  Survived  Pclass  \\\n",
       "0            1         0       3   \n",
       "1            2         1       1   \n",
       "2            3         1       3   \n",
       "3            4         1       1   \n",
       "4            5         0       3   \n",
       "\n",
       "                                                Name     Sex   Age  SibSp  \\\n",
       "0                            Braund, Mr. Owen Harris    male  22.0      1   \n",
       "1  Cumings, Mrs. John Bradley (Florence Briggs Th...  female  38.0      1   \n",
       "2                             Heikkinen, Miss. Laina  female  26.0      0   \n",
       "3       Futrelle, Mrs. Jacques Heath (Lily May Peel)  female  35.0      1   \n",
       "4                           Allen, Mr. William Henry    male  35.0      0   \n",
       "\n",
       "   Parch            Ticket     Fare Cabin Embarked Title  \n",
       "0      0         A/5 21171   7.2500   NaN        S    Mr  \n",
       "1      0          PC 17599  71.2833   C85        C   Mrs  \n",
       "2      0  STON/O2. 3101282   7.9250   NaN        S  Miss  \n",
       "3      0            113803  53.1000  C123        S   Mrs  \n",
       "4      0            373450   8.0500   NaN        S    Mr  "
      ]
     },
     "execution_count": 16,
     "metadata": {},
     "output_type": "execute_result"
    }
   ],
   "source": [
    "train_data[\"Title\"] = train_data[\"Name\"].apply(get_title)  \n",
    "#We dropped \"Name\" earlier. So, we use original data.\n",
    "train_data.head()"
   ]
  },
  {
   "cell_type": "code",
   "execution_count": 17,
   "id": "70ed5853",
   "metadata": {
    "execution": {
     "iopub.execute_input": "2023-01-14T02:56:54.517285Z",
     "iopub.status.busy": "2023-01-14T02:56:54.516800Z",
     "iopub.status.idle": "2023-01-14T02:56:54.525098Z",
     "shell.execute_reply": "2023-01-14T02:56:54.523803Z"
    },
    "papermill": {
     "duration": 0.021673,
     "end_time": "2023-01-14T02:56:54.527500",
     "exception": false,
     "start_time": "2023-01-14T02:56:54.505827",
     "status": "completed"
    },
    "tags": []
   },
   "outputs": [
    {
     "data": {
      "text/plain": [
       "array(['Mr', 'Mrs', 'Miss', 'Master', 'Don', 'Rev', 'Dr', 'Mme', 'Ms',\n",
       "       'Major', 'Lady', 'Sir', 'Mlle', 'Col', 'Capt', 'Countess',\n",
       "       'Jonkheer'], dtype=object)"
      ]
     },
     "execution_count": 17,
     "metadata": {},
     "output_type": "execute_result"
    }
   ],
   "source": [
    "# see all unique names in training data\n",
    "train_data[\"Title\"].unique()"
   ]
  },
  {
   "cell_type": "markdown",
   "id": "b1f62a3f",
   "metadata": {
    "papermill": {
     "duration": 0.009295,
     "end_time": "2023-01-14T02:56:54.546362",
     "exception": false,
     "start_time": "2023-01-14T02:56:54.537067",
     "status": "completed"
    },
    "tags": []
   },
   "source": [
    "## Model - RandomForestClassifier"
   ]
  },
  {
   "cell_type": "code",
   "execution_count": 18,
   "id": "bd725a10",
   "metadata": {
    "execution": {
     "iopub.execute_input": "2023-01-14T02:56:54.568375Z",
     "iopub.status.busy": "2023-01-14T02:56:54.567516Z",
     "iopub.status.idle": "2023-01-14T02:56:56.214370Z",
     "shell.execute_reply": "2023-01-14T02:56:56.212902Z"
    },
    "papermill": {
     "duration": 1.660994,
     "end_time": "2023-01-14T02:56:56.217413",
     "exception": false,
     "start_time": "2023-01-14T02:56:54.556419",
     "status": "completed"
    },
    "tags": []
   },
   "outputs": [
    {
     "name": "stdout",
     "output_type": "stream",
     "text": [
      "Your submission was successfully saved!\n"
     ]
    }
   ],
   "source": [
    "from sklearn.ensemble import RandomForestClassifier\n",
    "\n",
    "# define dependent variable\n",
    "y = train_data[\"Survived\"]\n",
    "\n",
    "# define list of features e.g. independent variables\n",
    "features = [\"Pclass\", \"Sex\", \"SibSp\", \"Parch\"]\n",
    "\n",
    "# create dummy variables from features of training set\n",
    "X = pd.get_dummies(train_data[features])\n",
    "\n",
    "# create dummy variables from features of test set\n",
    "X_test = pd.get_dummies(test_data[features])\n",
    "\n",
    "# define the model with the hyper-parameters\n",
    "model = RandomForestClassifier(n_estimators=100, max_depth=5, random_state=1)\n",
    "\n",
    "# fit the model\n",
    "model.fit(X, y)\n",
    "\n",
    "# make the predictions\n",
    "predictions = model.predict(X_test)\n",
    "\n",
    "# create a pandas dataframe with the output of the predictions\n",
    "output = pd.DataFrame({'PassengerId': test_data.PassengerId, 'Survived': predictions})\n",
    "\n",
    "# output to .csv file the prediction\n",
    "output.to_csv('submission.csv', index=False)\n",
    "\n",
    "# print user message that submission was succesfull \n",
    "print(\"Your submission was successfully saved!\")"
   ]
  },
  {
   "cell_type": "code",
   "execution_count": 19,
   "id": "5535d25d",
   "metadata": {
    "execution": {
     "iopub.execute_input": "2023-01-14T02:56:56.239925Z",
     "iopub.status.busy": "2023-01-14T02:56:56.239366Z",
     "iopub.status.idle": "2023-01-14T02:56:56.253429Z",
     "shell.execute_reply": "2023-01-14T02:56:56.251942Z"
    },
    "papermill": {
     "duration": 0.029143,
     "end_time": "2023-01-14T02:56:56.256448",
     "exception": false,
     "start_time": "2023-01-14T02:56:56.227305",
     "status": "completed"
    },
    "tags": []
   },
   "outputs": [
    {
     "data": {
      "text/html": [
       "<div>\n",
       "<style scoped>\n",
       "    .dataframe tbody tr th:only-of-type {\n",
       "        vertical-align: middle;\n",
       "    }\n",
       "\n",
       "    .dataframe tbody tr th {\n",
       "        vertical-align: top;\n",
       "    }\n",
       "\n",
       "    .dataframe thead th {\n",
       "        text-align: right;\n",
       "    }\n",
       "</style>\n",
       "<table border=\"1\" class=\"dataframe\">\n",
       "  <thead>\n",
       "    <tr style=\"text-align: right;\">\n",
       "      <th></th>\n",
       "      <th>PassengerId</th>\n",
       "      <th>Survived</th>\n",
       "    </tr>\n",
       "  </thead>\n",
       "  <tbody>\n",
       "    <tr>\n",
       "      <th>0</th>\n",
       "      <td>892</td>\n",
       "      <td>0</td>\n",
       "    </tr>\n",
       "    <tr>\n",
       "      <th>1</th>\n",
       "      <td>893</td>\n",
       "      <td>1</td>\n",
       "    </tr>\n",
       "    <tr>\n",
       "      <th>2</th>\n",
       "      <td>894</td>\n",
       "      <td>0</td>\n",
       "    </tr>\n",
       "    <tr>\n",
       "      <th>3</th>\n",
       "      <td>895</td>\n",
       "      <td>0</td>\n",
       "    </tr>\n",
       "    <tr>\n",
       "      <th>4</th>\n",
       "      <td>896</td>\n",
       "      <td>1</td>\n",
       "    </tr>\n",
       "    <tr>\n",
       "      <th>...</th>\n",
       "      <td>...</td>\n",
       "      <td>...</td>\n",
       "    </tr>\n",
       "    <tr>\n",
       "      <th>413</th>\n",
       "      <td>1305</td>\n",
       "      <td>0</td>\n",
       "    </tr>\n",
       "    <tr>\n",
       "      <th>414</th>\n",
       "      <td>1306</td>\n",
       "      <td>1</td>\n",
       "    </tr>\n",
       "    <tr>\n",
       "      <th>415</th>\n",
       "      <td>1307</td>\n",
       "      <td>0</td>\n",
       "    </tr>\n",
       "    <tr>\n",
       "      <th>416</th>\n",
       "      <td>1308</td>\n",
       "      <td>0</td>\n",
       "    </tr>\n",
       "    <tr>\n",
       "      <th>417</th>\n",
       "      <td>1309</td>\n",
       "      <td>0</td>\n",
       "    </tr>\n",
       "  </tbody>\n",
       "</table>\n",
       "<p>418 rows × 2 columns</p>\n",
       "</div>"
      ],
      "text/plain": [
       "     PassengerId  Survived\n",
       "0            892         0\n",
       "1            893         1\n",
       "2            894         0\n",
       "3            895         0\n",
       "4            896         1\n",
       "..           ...       ...\n",
       "413         1305         0\n",
       "414         1306         1\n",
       "415         1307         0\n",
       "416         1308         0\n",
       "417         1309         0\n",
       "\n",
       "[418 rows x 2 columns]"
      ]
     },
     "execution_count": 19,
     "metadata": {},
     "output_type": "execute_result"
    }
   ],
   "source": [
    "# show output prediction of test_data of passengerId survived or not\n",
    "output"
   ]
  }
 ],
 "metadata": {
  "kernelspec": {
   "display_name": "Python 3",
   "language": "python",
   "name": "python3"
  },
  "language_info": {
   "codemirror_mode": {
    "name": "ipython",
    "version": 3
   },
   "file_extension": ".py",
   "mimetype": "text/x-python",
   "name": "python",
   "nbconvert_exporter": "python",
   "pygments_lexer": "ipython3",
   "version": "3.7.12"
  },
  "papermill": {
   "default_parameters": {},
   "duration": 13.26498,
   "end_time": "2023-01-14T02:56:57.091601",
   "environment_variables": {},
   "exception": null,
   "input_path": "__notebook__.ipynb",
   "output_path": "__notebook__.ipynb",
   "parameters": {},
   "start_time": "2023-01-14T02:56:43.826621",
   "version": "2.3.4"
  }
 },
 "nbformat": 4,
 "nbformat_minor": 5
}
