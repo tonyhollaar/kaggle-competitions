{
 "cells": [
  {
   "cell_type": "markdown",
   "id": "cdb189a3",
   "metadata": {
    "papermill": {
     "duration": 0.006533,
     "end_time": "2023-01-14T04:43:11.580072",
     "exception": false,
     "start_time": "2023-01-14T04:43:11.573539",
     "status": "completed"
    },
    "tags": []
   },
   "source": [
    "# <b> Titanic Machine Learning from Disaster </b>\n",
    "- source: https://www.kaggle.com/competitions/titanic/overview"
   ]
  },
  {
   "cell_type": "markdown",
   "id": "e09f01bb",
   "metadata": {
    "papermill": {
     "duration": 0.005505,
     "end_time": "2023-01-14T04:43:11.591461",
     "exception": false,
     "start_time": "2023-01-14T04:43:11.585956",
     "status": "completed"
    },
    "tags": []
   },
   "source": [
    "## <b> History </b>\n",
    "\"Titanic, launched on May 31, 1911, and set sail on its maiden voyage from Southampton on April 10, 1912, with 2,240 passengers and crew on board. On April 15, 1912, after striking an iceberg, Titanic broke apart and sank to the bottom of the ocean, taking with it the lives of more than 1,500 passengers and crew.\"\n",
    "- source: https://www.noaa.gov/gc-international-section/rms-titanic-history-and-significance"
   ]
  },
  {
   "cell_type": "markdown",
   "id": "453cde73",
   "metadata": {
    "papermill": {
     "duration": 0.005338,
     "end_time": "2023-01-14T04:43:11.602351",
     "exception": false,
     "start_time": "2023-01-14T04:43:11.597013",
     "status": "completed"
    },
    "tags": []
   },
   "source": [
    "## 1.0 Data Dictionary\n",
    "- source: https://www.kaggle.com/competitions/titanic/data"
   ]
  },
  {
   "cell_type": "markdown",
   "id": "091bcb39",
   "metadata": {
    "execution": {
     "iopub.execute_input": "2023-01-13T23:17:11.991018Z",
     "iopub.status.busy": "2023-01-13T23:17:11.990385Z",
     "iopub.status.idle": "2023-01-13T23:17:12.007400Z",
     "shell.execute_reply": "2023-01-13T23:17:12.005463Z",
     "shell.execute_reply.started": "2023-01-13T23:17:11.990955Z"
    },
    "papermill": {
     "duration": 0.005401,
     "end_time": "2023-01-14T04:43:11.613379",
     "exception": false,
     "start_time": "2023-01-14T04:43:11.607978",
     "status": "completed"
    },
    "tags": []
   },
   "source": [
    "| Variable | Definition                                  | Key                                            |\n",
    "| -------- | ------------------------------------------- | ---------------------------------------------- |\n",
    "| survival | Survival                                    | 0 = No, 1 = Yes                                |\n",
    "| pclass   | Ticket class                                | 1 = 1st, 2 = 2nd, 3 = 3rd                      |\n",
    "| sex      | Sex                                         |                                                |\n",
    "| Age      | Age in years                                |                                                |\n",
    "| sibsp    | \\# of siblings / spouses aboard the Titanic |                                                |\n",
    "| parch    | \\# of parents / children aboard the Titanic |                                                |\n",
    "| ticket   | Ticket number                               |                                                |\n",
    "| fare     | Passenger fare                              |                                                |\n",
    "| cabin    | Cabin number                                |                                                |\n",
    "| embarked | Port of Embarkation                         | C = Cherbourg, Q = Queenstown, S = Southampton |"
   ]
  },
  {
   "cell_type": "markdown",
   "id": "23b9cf7c",
   "metadata": {
    "execution": {
     "iopub.execute_input": "2023-01-13T23:17:07.419015Z",
     "iopub.status.busy": "2023-01-13T23:17:07.418521Z",
     "iopub.status.idle": "2023-01-13T23:17:07.431755Z",
     "shell.execute_reply": "2023-01-13T23:17:07.430256Z",
     "shell.execute_reply.started": "2023-01-13T23:17:07.418964Z"
    },
    "papermill": {
     "duration": 0.005465,
     "end_time": "2023-01-14T04:43:11.624369",
     "exception": false,
     "start_time": "2023-01-14T04:43:11.618904",
     "status": "completed"
    },
    "tags": []
   },
   "source": [
    "<b> Variable Notes </b>\n",
    "\n",
    "- <b> pclass </b>: A proxy for socio-economic status (SES)\n",
    "   * 1st = Upper\n",
    "   * 2nd = Middle\n",
    "   * 3rd = Lower\n",
    "   \n",
    "- <b> age </b>: Age is fractional if less than 1. If the age is estimated, is it in the form of xx.5\n",
    "\n",
    "- <b> sibsp </b>: The dataset defines family relations in this way...\n",
    "- <b> Sibling </b> = brother, sister, stepbrother, stepsister\n",
    "- <b> Spouse </b> = husband, wife (mistresses and fiancés were ignored)\n",
    "\n",
    "- <b> parch </b>: The dataset defines family relations in this way...\n",
    "- <b> Parent </b> = mother, father\n",
    "- <b> Child </b> = daughter, son, stepdaughter, stepson\n",
    "- Some children travelled only with a nanny, therefore parch=0 for them."
   ]
  },
  {
   "cell_type": "markdown",
   "id": "1ac27757",
   "metadata": {
    "papermill": {
     "duration": 0.005351,
     "end_time": "2023-01-14T04:43:11.635236",
     "exception": false,
     "start_time": "2023-01-14T04:43:11.629885",
     "status": "completed"
    },
    "tags": []
   },
   "source": [
    "## 1.1 Load Packages"
   ]
  },
  {
   "cell_type": "code",
   "execution_count": 1,
   "id": "22904007",
   "metadata": {
    "_cell_guid": "b1076dfc-b9ad-4769-8c92-a6c4dae69d19",
    "_uuid": "8f2839f25d086af736a60e9eeb907d3b93b6e0e5",
    "execution": {
     "iopub.execute_input": "2023-01-14T04:43:11.648662Z",
     "iopub.status.busy": "2023-01-14T04:43:11.647943Z",
     "iopub.status.idle": "2023-01-14T04:43:11.660037Z",
     "shell.execute_reply": "2023-01-14T04:43:11.658826Z"
    },
    "papermill": {
     "duration": 0.021591,
     "end_time": "2023-01-14T04:43:11.662439",
     "exception": false,
     "start_time": "2023-01-14T04:43:11.640848",
     "status": "completed"
    },
    "tags": []
   },
   "outputs": [
    {
     "name": "stdout",
     "output_type": "stream",
     "text": [
      "/kaggle/input/titanic/train.csv\n",
      "/kaggle/input/titanic/test.csv\n",
      "/kaggle/input/titanic/gender_submission.csv\n"
     ]
    }
   ],
   "source": [
    "# This Python 3 environment comes with many helpful analytics libraries installed\n",
    "# It is defined by the kaggle/python Docker image: https://github.com/kaggle/docker-python\n",
    "# For example, here's several helpful packages to load\n",
    "import numpy as np # linear algebra\n",
    "import pandas as pd # data processing, CSV file I/O (e.g. pd.read_csv)\n",
    "\n",
    "# Input data files are available in the read-only \"../input/\" directory\n",
    "# For example, running this (by clicking run or pressing Shift+Enter) will list all files under the input directory\n",
    "import os\n",
    "for dirname, _, filenames in os.walk('/kaggle/input'):\n",
    "    for filename in filenames:\n",
    "        print(os.path.join(dirname, filename))\n",
    "\n",
    "# You can write up to 20GB to the current directory (/kaggle/working/) that gets preserved as output when you create a version using \"Save & Run All\" \n",
    "# You can also write temporary files to /kaggle/temp/, but they won't be saved outside of the current session"
   ]
  },
  {
   "cell_type": "code",
   "execution_count": 2,
   "id": "68b82d6d",
   "metadata": {
    "execution": {
     "iopub.execute_input": "2023-01-14T04:43:11.677204Z",
     "iopub.status.busy": "2023-01-14T04:43:11.676290Z",
     "iopub.status.idle": "2023-01-14T04:43:11.680720Z",
     "shell.execute_reply": "2023-01-14T04:43:11.679954Z"
    },
    "papermill": {
     "duration": 0.01274,
     "end_time": "2023-01-14T04:43:11.682466",
     "exception": false,
     "start_time": "2023-01-14T04:43:11.669726",
     "status": "completed"
    },
    "tags": []
   },
   "outputs": [],
   "source": [
    "import matplotlib.pyplot as plt # visualizations/graphs"
   ]
  },
  {
   "cell_type": "markdown",
   "id": "e08580e6",
   "metadata": {
    "papermill": {
     "duration": 0.005464,
     "end_time": "2023-01-14T04:43:11.693596",
     "exception": false,
     "start_time": "2023-01-14T04:43:11.688132",
     "status": "completed"
    },
    "tags": []
   },
   "source": [
    "## 1.2 Load Data"
   ]
  },
  {
   "cell_type": "code",
   "execution_count": 3,
   "id": "6576761e",
   "metadata": {
    "execution": {
     "iopub.execute_input": "2023-01-14T04:43:11.706077Z",
     "iopub.status.busy": "2023-01-14T04:43:11.705811Z",
     "iopub.status.idle": "2023-01-14T04:43:11.737602Z",
     "shell.execute_reply": "2023-01-14T04:43:11.736744Z"
    },
    "papermill": {
     "duration": 0.040097,
     "end_time": "2023-01-14T04:43:11.739258",
     "exception": false,
     "start_time": "2023-01-14T04:43:11.699161",
     "status": "completed"
    },
    "tags": []
   },
   "outputs": [
    {
     "data": {
      "text/html": [
       "<div>\n",
       "<style scoped>\n",
       "    .dataframe tbody tr th:only-of-type {\n",
       "        vertical-align: middle;\n",
       "    }\n",
       "\n",
       "    .dataframe tbody tr th {\n",
       "        vertical-align: top;\n",
       "    }\n",
       "\n",
       "    .dataframe thead th {\n",
       "        text-align: right;\n",
       "    }\n",
       "</style>\n",
       "<table border=\"1\" class=\"dataframe\">\n",
       "  <thead>\n",
       "    <tr style=\"text-align: right;\">\n",
       "      <th></th>\n",
       "      <th>PassengerId</th>\n",
       "      <th>Survived</th>\n",
       "      <th>Pclass</th>\n",
       "      <th>Name</th>\n",
       "      <th>Sex</th>\n",
       "      <th>Age</th>\n",
       "      <th>SibSp</th>\n",
       "      <th>Parch</th>\n",
       "      <th>Ticket</th>\n",
       "      <th>Fare</th>\n",
       "      <th>Cabin</th>\n",
       "      <th>Embarked</th>\n",
       "    </tr>\n",
       "  </thead>\n",
       "  <tbody>\n",
       "    <tr>\n",
       "      <th>0</th>\n",
       "      <td>1</td>\n",
       "      <td>0</td>\n",
       "      <td>3</td>\n",
       "      <td>Braund, Mr. Owen Harris</td>\n",
       "      <td>male</td>\n",
       "      <td>22.0</td>\n",
       "      <td>1</td>\n",
       "      <td>0</td>\n",
       "      <td>A/5 21171</td>\n",
       "      <td>7.2500</td>\n",
       "      <td>NaN</td>\n",
       "      <td>S</td>\n",
       "    </tr>\n",
       "    <tr>\n",
       "      <th>1</th>\n",
       "      <td>2</td>\n",
       "      <td>1</td>\n",
       "      <td>1</td>\n",
       "      <td>Cumings, Mrs. John Bradley (Florence Briggs Th...</td>\n",
       "      <td>female</td>\n",
       "      <td>38.0</td>\n",
       "      <td>1</td>\n",
       "      <td>0</td>\n",
       "      <td>PC 17599</td>\n",
       "      <td>71.2833</td>\n",
       "      <td>C85</td>\n",
       "      <td>C</td>\n",
       "    </tr>\n",
       "    <tr>\n",
       "      <th>2</th>\n",
       "      <td>3</td>\n",
       "      <td>1</td>\n",
       "      <td>3</td>\n",
       "      <td>Heikkinen, Miss. Laina</td>\n",
       "      <td>female</td>\n",
       "      <td>26.0</td>\n",
       "      <td>0</td>\n",
       "      <td>0</td>\n",
       "      <td>STON/O2. 3101282</td>\n",
       "      <td>7.9250</td>\n",
       "      <td>NaN</td>\n",
       "      <td>S</td>\n",
       "    </tr>\n",
       "    <tr>\n",
       "      <th>3</th>\n",
       "      <td>4</td>\n",
       "      <td>1</td>\n",
       "      <td>1</td>\n",
       "      <td>Futrelle, Mrs. Jacques Heath (Lily May Peel)</td>\n",
       "      <td>female</td>\n",
       "      <td>35.0</td>\n",
       "      <td>1</td>\n",
       "      <td>0</td>\n",
       "      <td>113803</td>\n",
       "      <td>53.1000</td>\n",
       "      <td>C123</td>\n",
       "      <td>S</td>\n",
       "    </tr>\n",
       "    <tr>\n",
       "      <th>4</th>\n",
       "      <td>5</td>\n",
       "      <td>0</td>\n",
       "      <td>3</td>\n",
       "      <td>Allen, Mr. William Henry</td>\n",
       "      <td>male</td>\n",
       "      <td>35.0</td>\n",
       "      <td>0</td>\n",
       "      <td>0</td>\n",
       "      <td>373450</td>\n",
       "      <td>8.0500</td>\n",
       "      <td>NaN</td>\n",
       "      <td>S</td>\n",
       "    </tr>\n",
       "  </tbody>\n",
       "</table>\n",
       "</div>"
      ],
      "text/plain": [
       "   PassengerId  Survived  Pclass  \\\n",
       "0            1         0       3   \n",
       "1            2         1       1   \n",
       "2            3         1       3   \n",
       "3            4         1       1   \n",
       "4            5         0       3   \n",
       "\n",
       "                                                Name     Sex   Age  SibSp  \\\n",
       "0                            Braund, Mr. Owen Harris    male  22.0      1   \n",
       "1  Cumings, Mrs. John Bradley (Florence Briggs Th...  female  38.0      1   \n",
       "2                             Heikkinen, Miss. Laina  female  26.0      0   \n",
       "3       Futrelle, Mrs. Jacques Heath (Lily May Peel)  female  35.0      1   \n",
       "4                           Allen, Mr. William Henry    male  35.0      0   \n",
       "\n",
       "   Parch            Ticket     Fare Cabin Embarked  \n",
       "0      0         A/5 21171   7.2500   NaN        S  \n",
       "1      0          PC 17599  71.2833   C85        C  \n",
       "2      0  STON/O2. 3101282   7.9250   NaN        S  \n",
       "3      0            113803  53.1000  C123        S  \n",
       "4      0            373450   8.0500   NaN        S  "
      ]
     },
     "execution_count": 3,
     "metadata": {},
     "output_type": "execute_result"
    }
   ],
   "source": [
    "# load training dataset\n",
    "train_data = pd.read_csv(\"/kaggle/input/titanic/train.csv\")\n",
    "train_data.head()"
   ]
  },
  {
   "cell_type": "code",
   "execution_count": 4,
   "id": "057ef572",
   "metadata": {
    "execution": {
     "iopub.execute_input": "2023-01-14T04:43:11.753574Z",
     "iopub.status.busy": "2023-01-14T04:43:11.751958Z",
     "iopub.status.idle": "2023-01-14T04:43:11.772231Z",
     "shell.execute_reply": "2023-01-14T04:43:11.771534Z"
    },
    "papermill": {
     "duration": 0.028546,
     "end_time": "2023-01-14T04:43:11.773884",
     "exception": false,
     "start_time": "2023-01-14T04:43:11.745338",
     "status": "completed"
    },
    "tags": []
   },
   "outputs": [
    {
     "data": {
      "text/html": [
       "<div>\n",
       "<style scoped>\n",
       "    .dataframe tbody tr th:only-of-type {\n",
       "        vertical-align: middle;\n",
       "    }\n",
       "\n",
       "    .dataframe tbody tr th {\n",
       "        vertical-align: top;\n",
       "    }\n",
       "\n",
       "    .dataframe thead th {\n",
       "        text-align: right;\n",
       "    }\n",
       "</style>\n",
       "<table border=\"1\" class=\"dataframe\">\n",
       "  <thead>\n",
       "    <tr style=\"text-align: right;\">\n",
       "      <th></th>\n",
       "      <th>PassengerId</th>\n",
       "      <th>Pclass</th>\n",
       "      <th>Name</th>\n",
       "      <th>Sex</th>\n",
       "      <th>Age</th>\n",
       "      <th>SibSp</th>\n",
       "      <th>Parch</th>\n",
       "      <th>Ticket</th>\n",
       "      <th>Fare</th>\n",
       "      <th>Cabin</th>\n",
       "      <th>Embarked</th>\n",
       "    </tr>\n",
       "  </thead>\n",
       "  <tbody>\n",
       "    <tr>\n",
       "      <th>0</th>\n",
       "      <td>892</td>\n",
       "      <td>3</td>\n",
       "      <td>Kelly, Mr. James</td>\n",
       "      <td>male</td>\n",
       "      <td>34.5</td>\n",
       "      <td>0</td>\n",
       "      <td>0</td>\n",
       "      <td>330911</td>\n",
       "      <td>7.8292</td>\n",
       "      <td>NaN</td>\n",
       "      <td>Q</td>\n",
       "    </tr>\n",
       "    <tr>\n",
       "      <th>1</th>\n",
       "      <td>893</td>\n",
       "      <td>3</td>\n",
       "      <td>Wilkes, Mrs. James (Ellen Needs)</td>\n",
       "      <td>female</td>\n",
       "      <td>47.0</td>\n",
       "      <td>1</td>\n",
       "      <td>0</td>\n",
       "      <td>363272</td>\n",
       "      <td>7.0000</td>\n",
       "      <td>NaN</td>\n",
       "      <td>S</td>\n",
       "    </tr>\n",
       "    <tr>\n",
       "      <th>2</th>\n",
       "      <td>894</td>\n",
       "      <td>2</td>\n",
       "      <td>Myles, Mr. Thomas Francis</td>\n",
       "      <td>male</td>\n",
       "      <td>62.0</td>\n",
       "      <td>0</td>\n",
       "      <td>0</td>\n",
       "      <td>240276</td>\n",
       "      <td>9.6875</td>\n",
       "      <td>NaN</td>\n",
       "      <td>Q</td>\n",
       "    </tr>\n",
       "    <tr>\n",
       "      <th>3</th>\n",
       "      <td>895</td>\n",
       "      <td>3</td>\n",
       "      <td>Wirz, Mr. Albert</td>\n",
       "      <td>male</td>\n",
       "      <td>27.0</td>\n",
       "      <td>0</td>\n",
       "      <td>0</td>\n",
       "      <td>315154</td>\n",
       "      <td>8.6625</td>\n",
       "      <td>NaN</td>\n",
       "      <td>S</td>\n",
       "    </tr>\n",
       "    <tr>\n",
       "      <th>4</th>\n",
       "      <td>896</td>\n",
       "      <td>3</td>\n",
       "      <td>Hirvonen, Mrs. Alexander (Helga E Lindqvist)</td>\n",
       "      <td>female</td>\n",
       "      <td>22.0</td>\n",
       "      <td>1</td>\n",
       "      <td>1</td>\n",
       "      <td>3101298</td>\n",
       "      <td>12.2875</td>\n",
       "      <td>NaN</td>\n",
       "      <td>S</td>\n",
       "    </tr>\n",
       "  </tbody>\n",
       "</table>\n",
       "</div>"
      ],
      "text/plain": [
       "   PassengerId  Pclass                                          Name     Sex  \\\n",
       "0          892       3                              Kelly, Mr. James    male   \n",
       "1          893       3              Wilkes, Mrs. James (Ellen Needs)  female   \n",
       "2          894       2                     Myles, Mr. Thomas Francis    male   \n",
       "3          895       3                              Wirz, Mr. Albert    male   \n",
       "4          896       3  Hirvonen, Mrs. Alexander (Helga E Lindqvist)  female   \n",
       "\n",
       "    Age  SibSp  Parch   Ticket     Fare Cabin Embarked  \n",
       "0  34.5      0      0   330911   7.8292   NaN        Q  \n",
       "1  47.0      1      0   363272   7.0000   NaN        S  \n",
       "2  62.0      0      0   240276   9.6875   NaN        Q  \n",
       "3  27.0      0      0   315154   8.6625   NaN        S  \n",
       "4  22.0      1      1  3101298  12.2875   NaN        S  "
      ]
     },
     "execution_count": 4,
     "metadata": {},
     "output_type": "execute_result"
    }
   ],
   "source": [
    "# load test dataset\n",
    "test_data = pd.read_csv(\"/kaggle/input/titanic/test.csv\")\n",
    "test_data.head()"
   ]
  },
  {
   "cell_type": "markdown",
   "id": "bbd51d5e",
   "metadata": {
    "papermill": {
     "duration": 0.005876,
     "end_time": "2023-01-14T04:43:11.786005",
     "exception": false,
     "start_time": "2023-01-14T04:43:11.780129",
     "status": "completed"
    },
    "tags": []
   },
   "source": [
    "## 1.3 EDA - Exploratory Data Analysis"
   ]
  },
  {
   "cell_type": "code",
   "execution_count": 5,
   "id": "01f05243",
   "metadata": {
    "execution": {
     "iopub.execute_input": "2023-01-14T04:43:11.801259Z",
     "iopub.status.busy": "2023-01-14T04:43:11.800260Z",
     "iopub.status.idle": "2023-01-14T04:43:11.823656Z",
     "shell.execute_reply": "2023-01-14T04:43:11.822423Z"
    },
    "papermill": {
     "duration": 0.033629,
     "end_time": "2023-01-14T04:43:11.825919",
     "exception": false,
     "start_time": "2023-01-14T04:43:11.792290",
     "status": "completed"
    },
    "tags": []
   },
   "outputs": [
    {
     "name": "stdout",
     "output_type": "stream",
     "text": [
      "<class 'pandas.core.frame.DataFrame'>\n",
      "RangeIndex: 891 entries, 0 to 890\n",
      "Data columns (total 12 columns):\n",
      " #   Column       Non-Null Count  Dtype  \n",
      "---  ------       --------------  -----  \n",
      " 0   PassengerId  891 non-null    int64  \n",
      " 1   Survived     891 non-null    int64  \n",
      " 2   Pclass       891 non-null    int64  \n",
      " 3   Name         891 non-null    object \n",
      " 4   Sex          891 non-null    object \n",
      " 5   Age          714 non-null    float64\n",
      " 6   SibSp        891 non-null    int64  \n",
      " 7   Parch        891 non-null    int64  \n",
      " 8   Ticket       891 non-null    object \n",
      " 9   Fare         891 non-null    float64\n",
      " 10  Cabin        204 non-null    object \n",
      " 11  Embarked     889 non-null    object \n",
      "dtypes: float64(2), int64(5), object(5)\n",
      "memory usage: 83.7+ KB\n"
     ]
    }
   ],
   "source": [
    "train_data.info()"
   ]
  },
  {
   "cell_type": "code",
   "execution_count": 6,
   "id": "7e9eef70",
   "metadata": {
    "execution": {
     "iopub.execute_input": "2023-01-14T04:43:11.840234Z",
     "iopub.status.busy": "2023-01-14T04:43:11.839894Z",
     "iopub.status.idle": "2023-01-14T04:43:11.856624Z",
     "shell.execute_reply": "2023-01-14T04:43:11.855404Z"
    },
    "papermill": {
     "duration": 0.026254,
     "end_time": "2023-01-14T04:43:11.858818",
     "exception": false,
     "start_time": "2023-01-14T04:43:11.832564",
     "status": "completed"
    },
    "tags": []
   },
   "outputs": [
    {
     "name": "stdout",
     "output_type": "stream",
     "text": [
      "--------------------------------------------\n",
      "Missing values in dataset i.e. NaN values\n",
      "--------------------------------------------\n"
     ]
    },
    {
     "data": {
      "text/html": [
       "<div>\n",
       "<style scoped>\n",
       "    .dataframe tbody tr th:only-of-type {\n",
       "        vertical-align: middle;\n",
       "    }\n",
       "\n",
       "    .dataframe tbody tr th {\n",
       "        vertical-align: top;\n",
       "    }\n",
       "\n",
       "    .dataframe thead th {\n",
       "        text-align: right;\n",
       "    }\n",
       "</style>\n",
       "<table border=\"1\" class=\"dataframe\">\n",
       "  <thead>\n",
       "    <tr style=\"text-align: right;\">\n",
       "      <th></th>\n",
       "      <th>values_missing</th>\n",
       "      <th>perc_nan</th>\n",
       "    </tr>\n",
       "  </thead>\n",
       "  <tbody>\n",
       "    <tr>\n",
       "      <th>Cabin</th>\n",
       "      <td>687</td>\n",
       "      <td>77.10</td>\n",
       "    </tr>\n",
       "    <tr>\n",
       "      <th>Age</th>\n",
       "      <td>177</td>\n",
       "      <td>19.87</td>\n",
       "    </tr>\n",
       "    <tr>\n",
       "      <th>Embarked</th>\n",
       "      <td>2</td>\n",
       "      <td>0.22</td>\n",
       "    </tr>\n",
       "    <tr>\n",
       "      <th>PassengerId</th>\n",
       "      <td>0</td>\n",
       "      <td>0.00</td>\n",
       "    </tr>\n",
       "    <tr>\n",
       "      <th>Survived</th>\n",
       "      <td>0</td>\n",
       "      <td>0.00</td>\n",
       "    </tr>\n",
       "    <tr>\n",
       "      <th>Pclass</th>\n",
       "      <td>0</td>\n",
       "      <td>0.00</td>\n",
       "    </tr>\n",
       "    <tr>\n",
       "      <th>Name</th>\n",
       "      <td>0</td>\n",
       "      <td>0.00</td>\n",
       "    </tr>\n",
       "    <tr>\n",
       "      <th>Sex</th>\n",
       "      <td>0</td>\n",
       "      <td>0.00</td>\n",
       "    </tr>\n",
       "    <tr>\n",
       "      <th>SibSp</th>\n",
       "      <td>0</td>\n",
       "      <td>0.00</td>\n",
       "    </tr>\n",
       "    <tr>\n",
       "      <th>Parch</th>\n",
       "      <td>0</td>\n",
       "      <td>0.00</td>\n",
       "    </tr>\n",
       "    <tr>\n",
       "      <th>Ticket</th>\n",
       "      <td>0</td>\n",
       "      <td>0.00</td>\n",
       "    </tr>\n",
       "    <tr>\n",
       "      <th>Fare</th>\n",
       "      <td>0</td>\n",
       "      <td>0.00</td>\n",
       "    </tr>\n",
       "  </tbody>\n",
       "</table>\n",
       "</div>"
      ],
      "text/plain": [
       "             values_missing  perc_nan\n",
       "Cabin                   687     77.10\n",
       "Age                     177     19.87\n",
       "Embarked                  2      0.22\n",
       "PassengerId               0      0.00\n",
       "Survived                  0      0.00\n",
       "Pclass                    0      0.00\n",
       "Name                      0      0.00\n",
       "Sex                       0      0.00\n",
       "SibSp                     0      0.00\n",
       "Parch                     0      0.00\n",
       "Ticket                    0      0.00\n",
       "Fare                      0      0.00"
      ]
     },
     "execution_count": 6,
     "metadata": {},
     "output_type": "execute_result"
    }
   ],
   "source": [
    "print('--------------------------------------------')\n",
    "print('Missing values in dataset i.e. NaN values')\n",
    "print('--------------------------------------------')\n",
    "values_missing = round(train_data.isna().sum())\n",
    "perc_missing = round(train_data.isna().sum() / train_data.shape[0]*100, 2)\n",
    "# sorted percentages of missing\n",
    "df_missing = pd.DataFrame(values_missing, columns=['values_missing']).sort_values('values_missing', ascending=False)\n",
    "df_missing['perc_nan'] = perc_missing\n",
    "df_missing"
   ]
  },
  {
   "cell_type": "code",
   "execution_count": 7,
   "id": "5e50b8a1",
   "metadata": {
    "execution": {
     "iopub.execute_input": "2023-01-14T04:43:11.873927Z",
     "iopub.status.busy": "2023-01-14T04:43:11.873556Z",
     "iopub.status.idle": "2023-01-14T04:43:11.887604Z",
     "shell.execute_reply": "2023-01-14T04:43:11.886716Z"
    },
    "papermill": {
     "duration": 0.023463,
     "end_time": "2023-01-14T04:43:11.889241",
     "exception": false,
     "start_time": "2023-01-14T04:43:11.865778",
     "status": "completed"
    },
    "tags": []
   },
   "outputs": [
    {
     "data": {
      "text/html": [
       "<div>\n",
       "<style scoped>\n",
       "    .dataframe tbody tr th:only-of-type {\n",
       "        vertical-align: middle;\n",
       "    }\n",
       "\n",
       "    .dataframe tbody tr th {\n",
       "        vertical-align: top;\n",
       "    }\n",
       "\n",
       "    .dataframe thead th {\n",
       "        text-align: right;\n",
       "    }\n",
       "</style>\n",
       "<table border=\"1\" class=\"dataframe\">\n",
       "  <thead>\n",
       "    <tr style=\"text-align: right;\">\n",
       "      <th></th>\n",
       "      <th>Survived</th>\n",
       "      <th>% of total</th>\n",
       "    </tr>\n",
       "    <tr>\n",
       "      <th>Sex</th>\n",
       "      <th></th>\n",
       "      <th></th>\n",
       "    </tr>\n",
       "  </thead>\n",
       "  <tbody>\n",
       "    <tr>\n",
       "      <th>female</th>\n",
       "      <td>233</td>\n",
       "      <td>68.13</td>\n",
       "    </tr>\n",
       "    <tr>\n",
       "      <th>male</th>\n",
       "      <td>109</td>\n",
       "      <td>31.87</td>\n",
       "    </tr>\n",
       "  </tbody>\n",
       "</table>\n",
       "</div>"
      ],
      "text/plain": [
       "        Survived  % of total\n",
       "Sex                         \n",
       "female       233       68.13\n",
       "male         109       31.87"
      ]
     },
     "execution_count": 7,
     "metadata": {},
     "output_type": "execute_result"
    }
   ],
   "source": [
    "df_survived = train_data[['Survived', 'Sex']].groupby('Sex').sum()\n",
    "df_survived['% of total'] = df_survived.apply(lambda x: round(x/df_survived['Survived'].sum()*100,2))\n",
    "df_survived"
   ]
  },
  {
   "cell_type": "code",
   "execution_count": 8,
   "id": "bc857b2a",
   "metadata": {
    "execution": {
     "iopub.execute_input": "2023-01-14T04:43:11.904257Z",
     "iopub.status.busy": "2023-01-14T04:43:11.903856Z",
     "iopub.status.idle": "2023-01-14T04:43:11.909291Z",
     "shell.execute_reply": "2023-01-14T04:43:11.908726Z"
    },
    "papermill": {
     "duration": 0.014527,
     "end_time": "2023-01-14T04:43:11.910813",
     "exception": false,
     "start_time": "2023-01-14T04:43:11.896286",
     "status": "completed"
    },
    "tags": []
   },
   "outputs": [
    {
     "data": {
      "text/plain": [
       "Survived\n",
       "0    549\n",
       "1    342\n",
       "Name: PassengerId, dtype: int64"
      ]
     },
     "execution_count": 8,
     "metadata": {},
     "output_type": "execute_result"
    }
   ],
   "source": [
    "train_data.groupby('Survived')['PassengerId'].count()"
   ]
  },
  {
   "cell_type": "code",
   "execution_count": 9,
   "id": "e9a11ee7",
   "metadata": {
    "execution": {
     "iopub.execute_input": "2023-01-14T04:43:11.925891Z",
     "iopub.status.busy": "2023-01-14T04:43:11.925052Z",
     "iopub.status.idle": "2023-01-14T04:43:11.946701Z",
     "shell.execute_reply": "2023-01-14T04:43:11.945997Z"
    },
    "papermill": {
     "duration": 0.030612,
     "end_time": "2023-01-14T04:43:11.948412",
     "exception": false,
     "start_time": "2023-01-14T04:43:11.917800",
     "status": "completed"
    },
    "tags": []
   },
   "outputs": [
    {
     "data": {
      "text/html": [
       "<div>\n",
       "<style scoped>\n",
       "    .dataframe tbody tr th:only-of-type {\n",
       "        vertical-align: middle;\n",
       "    }\n",
       "\n",
       "    .dataframe tbody tr th {\n",
       "        vertical-align: top;\n",
       "    }\n",
       "\n",
       "    .dataframe thead th {\n",
       "        text-align: right;\n",
       "    }\n",
       "</style>\n",
       "<table border=\"1\" class=\"dataframe\">\n",
       "  <thead>\n",
       "    <tr style=\"text-align: right;\">\n",
       "      <th>Survived</th>\n",
       "      <th>0</th>\n",
       "      <th>1</th>\n",
       "    </tr>\n",
       "    <tr>\n",
       "      <th>Sex</th>\n",
       "      <th></th>\n",
       "      <th></th>\n",
       "    </tr>\n",
       "  </thead>\n",
       "  <tbody>\n",
       "    <tr>\n",
       "      <th>female</th>\n",
       "      <td>81</td>\n",
       "      <td>233</td>\n",
       "    </tr>\n",
       "    <tr>\n",
       "      <th>male</th>\n",
       "      <td>468</td>\n",
       "      <td>109</td>\n",
       "    </tr>\n",
       "  </tbody>\n",
       "</table>\n",
       "</div>"
      ],
      "text/plain": [
       "Survived    0    1\n",
       "Sex               \n",
       "female     81  233\n",
       "male      468  109"
      ]
     },
     "execution_count": 9,
     "metadata": {},
     "output_type": "execute_result"
    }
   ],
   "source": [
    "pd.crosstab(train_data['Sex'], train_data['Survived'])"
   ]
  },
  {
   "cell_type": "code",
   "execution_count": 10,
   "id": "2b632aa9",
   "metadata": {
    "execution": {
     "iopub.execute_input": "2023-01-14T04:43:11.964037Z",
     "iopub.status.busy": "2023-01-14T04:43:11.963388Z",
     "iopub.status.idle": "2023-01-14T04:43:11.980367Z",
     "shell.execute_reply": "2023-01-14T04:43:11.979798Z"
    },
    "papermill": {
     "duration": 0.026224,
     "end_time": "2023-01-14T04:43:11.981900",
     "exception": false,
     "start_time": "2023-01-14T04:43:11.955676",
     "status": "completed"
    },
    "tags": []
   },
   "outputs": [
    {
     "data": {
      "text/html": [
       "<div>\n",
       "<style scoped>\n",
       "    .dataframe tbody tr th:only-of-type {\n",
       "        vertical-align: middle;\n",
       "    }\n",
       "\n",
       "    .dataframe tbody tr th {\n",
       "        vertical-align: top;\n",
       "    }\n",
       "\n",
       "    .dataframe thead th {\n",
       "        text-align: right;\n",
       "    }\n",
       "</style>\n",
       "<table border=\"1\" class=\"dataframe\">\n",
       "  <thead>\n",
       "    <tr style=\"text-align: right;\">\n",
       "      <th>Survived</th>\n",
       "      <th>0</th>\n",
       "      <th>1</th>\n",
       "    </tr>\n",
       "    <tr>\n",
       "      <th>Sex</th>\n",
       "      <th></th>\n",
       "      <th></th>\n",
       "    </tr>\n",
       "  </thead>\n",
       "  <tbody>\n",
       "    <tr>\n",
       "      <th>female</th>\n",
       "      <td>26.0</td>\n",
       "      <td>74.0</td>\n",
       "    </tr>\n",
       "    <tr>\n",
       "      <th>male</th>\n",
       "      <td>81.0</td>\n",
       "      <td>19.0</td>\n",
       "    </tr>\n",
       "  </tbody>\n",
       "</table>\n",
       "</div>"
      ],
      "text/plain": [
       "Survived     0     1\n",
       "Sex                 \n",
       "female    26.0  74.0\n",
       "male      81.0  19.0"
      ]
     },
     "execution_count": 10,
     "metadata": {},
     "output_type": "execute_result"
    }
   ],
   "source": [
    "pd.crosstab(train_data['Sex'], train_data['Survived'], normalize='index').round(2)*100"
   ]
  },
  {
   "cell_type": "code",
   "execution_count": 11,
   "id": "02f7856a",
   "metadata": {
    "execution": {
     "iopub.execute_input": "2023-01-14T04:43:11.996706Z",
     "iopub.status.busy": "2023-01-14T04:43:11.996311Z",
     "iopub.status.idle": "2023-01-14T04:43:12.983530Z",
     "shell.execute_reply": "2023-01-14T04:43:12.982633Z"
    },
    "papermill": {
     "duration": 0.996584,
     "end_time": "2023-01-14T04:43:12.985281",
     "exception": false,
     "start_time": "2023-01-14T04:43:11.988697",
     "status": "completed"
    },
    "tags": []
   },
   "outputs": [
    {
     "data": {
      "image/png": "[encoded data removed]",
      "text/plain": [
       "<Figure size 576x360 with 1 Axes>"
      ]
     },
     "metadata": {},
     "output_type": "display_data"
    }
   ],
   "source": [
    "import matplotlib.pyplot as plt\n",
    "import seaborn as sns\n",
    "\n",
    "sns.set_context(\"notebook\") # paper, poster\n",
    "sns.set_style(\"white\")\n",
    "\n",
    "# set runtime configuration \n",
    "# source: https://matplotlib.org/stable/tutorials/introductory/customizing.html\n",
    "plt.rcParams['figure.figsize'] = (8, 5)\n",
    "\n",
    "# define axis\n",
    "ax = (pd.crosstab(train_data['Sex'], \n",
    "                  train_data['Survived'], \n",
    "                  normalize='index')*100) \\\n",
    "                  .round(2).plot.bar(stacked=True, \n",
    "                  title='% Survived Titanic by Gender', \n",
    "                  color=['lightgrey', 'lightgreen'])\n",
    "\n",
    "# annotate the barchart labels in center\n",
    "ax.bar_label(ax.containers[0], label_type='center', fmt='%.1f%%') \n",
    "ax.bar_label(ax.containers[1], label_type='center', fmt='%.1f%%')\n",
    "\n",
    "# set the x and y labels\n",
    "plt.xlabel(\"\")\n",
    "plt.ylabel(\"% of Total Population\")\n",
    "\n",
    "# set the legend\n",
    "plt.legend(loc = 'best',\n",
    "           labels={'not survived':1, 'survived':0}, \n",
    "           bbox_to_anchor=(1, 1))\n",
    "\n",
    "# set the rotation of the x labels (female, male)\n",
    "for label in ax.get_xticklabels():\n",
    "    label.set_rotation(0) "
   ]
  },
  {
   "cell_type": "code",
   "execution_count": 12,
   "id": "41fd3803",
   "metadata": {
    "execution": {
     "iopub.execute_input": "2023-01-14T04:43:13.001104Z",
     "iopub.status.busy": "2023-01-14T04:43:13.000809Z",
     "iopub.status.idle": "2023-01-14T04:43:13.019536Z",
     "shell.execute_reply": "2023-01-14T04:43:13.018736Z"
    },
    "papermill": {
     "duration": 0.028434,
     "end_time": "2023-01-14T04:43:13.021208",
     "exception": false,
     "start_time": "2023-01-14T04:43:12.992774",
     "status": "completed"
    },
    "tags": []
   },
   "outputs": [
    {
     "data": {
      "text/html": [
       "<div>\n",
       "<style scoped>\n",
       "    .dataframe tbody tr th:only-of-type {\n",
       "        vertical-align: middle;\n",
       "    }\n",
       "\n",
       "    .dataframe tbody tr th {\n",
       "        vertical-align: top;\n",
       "    }\n",
       "\n",
       "    .dataframe thead th {\n",
       "        text-align: right;\n",
       "    }\n",
       "</style>\n",
       "<table border=\"1\" class=\"dataframe\">\n",
       "  <thead>\n",
       "    <tr style=\"text-align: right;\">\n",
       "      <th></th>\n",
       "      <th>PassengerId</th>\n",
       "      <th>Survived</th>\n",
       "      <th>Pclass</th>\n",
       "      <th>Name</th>\n",
       "      <th>Sex</th>\n",
       "      <th>Age</th>\n",
       "      <th>SibSp</th>\n",
       "      <th>Parch</th>\n",
       "      <th>Ticket</th>\n",
       "      <th>Fare</th>\n",
       "      <th>Cabin</th>\n",
       "      <th>Embarked</th>\n",
       "    </tr>\n",
       "  </thead>\n",
       "  <tbody>\n",
       "    <tr>\n",
       "      <th>5</th>\n",
       "      <td>6</td>\n",
       "      <td>0</td>\n",
       "      <td>3</td>\n",
       "      <td>Moran, Mr. James</td>\n",
       "      <td>male</td>\n",
       "      <td>NaN</td>\n",
       "      <td>0</td>\n",
       "      <td>0</td>\n",
       "      <td>330877</td>\n",
       "      <td>8.4583</td>\n",
       "      <td>NaN</td>\n",
       "      <td>Q</td>\n",
       "    </tr>\n",
       "    <tr>\n",
       "      <th>17</th>\n",
       "      <td>18</td>\n",
       "      <td>1</td>\n",
       "      <td>2</td>\n",
       "      <td>Williams, Mr. Charles Eugene</td>\n",
       "      <td>male</td>\n",
       "      <td>NaN</td>\n",
       "      <td>0</td>\n",
       "      <td>0</td>\n",
       "      <td>244373</td>\n",
       "      <td>13.0000</td>\n",
       "      <td>NaN</td>\n",
       "      <td>S</td>\n",
       "    </tr>\n",
       "    <tr>\n",
       "      <th>19</th>\n",
       "      <td>20</td>\n",
       "      <td>1</td>\n",
       "      <td>3</td>\n",
       "      <td>Masselmani, Mrs. Fatima</td>\n",
       "      <td>female</td>\n",
       "      <td>NaN</td>\n",
       "      <td>0</td>\n",
       "      <td>0</td>\n",
       "      <td>2649</td>\n",
       "      <td>7.2250</td>\n",
       "      <td>NaN</td>\n",
       "      <td>C</td>\n",
       "    </tr>\n",
       "    <tr>\n",
       "      <th>26</th>\n",
       "      <td>27</td>\n",
       "      <td>0</td>\n",
       "      <td>3</td>\n",
       "      <td>Emir, Mr. Farred Chehab</td>\n",
       "      <td>male</td>\n",
       "      <td>NaN</td>\n",
       "      <td>0</td>\n",
       "      <td>0</td>\n",
       "      <td>2631</td>\n",
       "      <td>7.2250</td>\n",
       "      <td>NaN</td>\n",
       "      <td>C</td>\n",
       "    </tr>\n",
       "    <tr>\n",
       "      <th>28</th>\n",
       "      <td>29</td>\n",
       "      <td>1</td>\n",
       "      <td>3</td>\n",
       "      <td>O'Dwyer, Miss. Ellen \"Nellie\"</td>\n",
       "      <td>female</td>\n",
       "      <td>NaN</td>\n",
       "      <td>0</td>\n",
       "      <td>0</td>\n",
       "      <td>330959</td>\n",
       "      <td>7.8792</td>\n",
       "      <td>NaN</td>\n",
       "      <td>Q</td>\n",
       "    </tr>\n",
       "    <tr>\n",
       "      <th>...</th>\n",
       "      <td>...</td>\n",
       "      <td>...</td>\n",
       "      <td>...</td>\n",
       "      <td>...</td>\n",
       "      <td>...</td>\n",
       "      <td>...</td>\n",
       "      <td>...</td>\n",
       "      <td>...</td>\n",
       "      <td>...</td>\n",
       "      <td>...</td>\n",
       "      <td>...</td>\n",
       "      <td>...</td>\n",
       "    </tr>\n",
       "    <tr>\n",
       "      <th>859</th>\n",
       "      <td>860</td>\n",
       "      <td>0</td>\n",
       "      <td>3</td>\n",
       "      <td>Razi, Mr. Raihed</td>\n",
       "      <td>male</td>\n",
       "      <td>NaN</td>\n",
       "      <td>0</td>\n",
       "      <td>0</td>\n",
       "      <td>2629</td>\n",
       "      <td>7.2292</td>\n",
       "      <td>NaN</td>\n",
       "      <td>C</td>\n",
       "    </tr>\n",
       "    <tr>\n",
       "      <th>863</th>\n",
       "      <td>864</td>\n",
       "      <td>0</td>\n",
       "      <td>3</td>\n",
       "      <td>Sage, Miss. Dorothy Edith \"Dolly\"</td>\n",
       "      <td>female</td>\n",
       "      <td>NaN</td>\n",
       "      <td>8</td>\n",
       "      <td>2</td>\n",
       "      <td>CA. 2343</td>\n",
       "      <td>69.5500</td>\n",
       "      <td>NaN</td>\n",
       "      <td>S</td>\n",
       "    </tr>\n",
       "    <tr>\n",
       "      <th>868</th>\n",
       "      <td>869</td>\n",
       "      <td>0</td>\n",
       "      <td>3</td>\n",
       "      <td>van Melkebeke, Mr. Philemon</td>\n",
       "      <td>male</td>\n",
       "      <td>NaN</td>\n",
       "      <td>0</td>\n",
       "      <td>0</td>\n",
       "      <td>345777</td>\n",
       "      <td>9.5000</td>\n",
       "      <td>NaN</td>\n",
       "      <td>S</td>\n",
       "    </tr>\n",
       "    <tr>\n",
       "      <th>878</th>\n",
       "      <td>879</td>\n",
       "      <td>0</td>\n",
       "      <td>3</td>\n",
       "      <td>Laleff, Mr. Kristo</td>\n",
       "      <td>male</td>\n",
       "      <td>NaN</td>\n",
       "      <td>0</td>\n",
       "      <td>0</td>\n",
       "      <td>349217</td>\n",
       "      <td>7.8958</td>\n",
       "      <td>NaN</td>\n",
       "      <td>S</td>\n",
       "    </tr>\n",
       "    <tr>\n",
       "      <th>888</th>\n",
       "      <td>889</td>\n",
       "      <td>0</td>\n",
       "      <td>3</td>\n",
       "      <td>Johnston, Miss. Catherine Helen \"Carrie\"</td>\n",
       "      <td>female</td>\n",
       "      <td>NaN</td>\n",
       "      <td>1</td>\n",
       "      <td>2</td>\n",
       "      <td>W./C. 6607</td>\n",
       "      <td>23.4500</td>\n",
       "      <td>NaN</td>\n",
       "      <td>S</td>\n",
       "    </tr>\n",
       "  </tbody>\n",
       "</table>\n",
       "<p>177 rows × 12 columns</p>\n",
       "</div>"
      ],
      "text/plain": [
       "     PassengerId  Survived  Pclass                                      Name  \\\n",
       "5              6         0       3                          Moran, Mr. James   \n",
       "17            18         1       2              Williams, Mr. Charles Eugene   \n",
       "19            20         1       3                   Masselmani, Mrs. Fatima   \n",
       "26            27         0       3                   Emir, Mr. Farred Chehab   \n",
       "28            29         1       3             O'Dwyer, Miss. Ellen \"Nellie\"   \n",
       "..           ...       ...     ...                                       ...   \n",
       "859          860         0       3                          Razi, Mr. Raihed   \n",
       "863          864         0       3         Sage, Miss. Dorothy Edith \"Dolly\"   \n",
       "868          869         0       3               van Melkebeke, Mr. Philemon   \n",
       "878          879         0       3                        Laleff, Mr. Kristo   \n",
       "888          889         0       3  Johnston, Miss. Catherine Helen \"Carrie\"   \n",
       "\n",
       "        Sex  Age  SibSp  Parch      Ticket     Fare Cabin Embarked  \n",
       "5      male  NaN      0      0      330877   8.4583   NaN        Q  \n",
       "17     male  NaN      0      0      244373  13.0000   NaN        S  \n",
       "19   female  NaN      0      0        2649   7.2250   NaN        C  \n",
       "26     male  NaN      0      0        2631   7.2250   NaN        C  \n",
       "28   female  NaN      0      0      330959   7.8792   NaN        Q  \n",
       "..      ...  ...    ...    ...         ...      ...   ...      ...  \n",
       "859    male  NaN      0      0        2629   7.2292   NaN        C  \n",
       "863  female  NaN      8      2    CA. 2343  69.5500   NaN        S  \n",
       "868    male  NaN      0      0      345777   9.5000   NaN        S  \n",
       "878    male  NaN      0      0      349217   7.8958   NaN        S  \n",
       "888  female  NaN      1      2  W./C. 6607  23.4500   NaN        S  \n",
       "\n",
       "[177 rows x 12 columns]"
      ]
     },
     "execution_count": 12,
     "metadata": {},
     "output_type": "execute_result"
    }
   ],
   "source": [
    "# check the missing values for age row-wise to validate\n",
    "df_missing = train_data[train_data['Age'] != train_data['Age']]\n",
    "df_missing"
   ]
  },
  {
   "cell_type": "code",
   "execution_count": 13,
   "id": "c7003b14",
   "metadata": {
    "execution": {
     "iopub.execute_input": "2023-01-14T04:43:13.037181Z",
     "iopub.status.busy": "2023-01-14T04:43:13.036923Z",
     "iopub.status.idle": "2023-01-14T04:43:13.047325Z",
     "shell.execute_reply": "2023-01-14T04:43:13.046389Z"
    },
    "papermill": {
     "duration": 0.021353,
     "end_time": "2023-01-14T04:43:13.050028",
     "exception": false,
     "start_time": "2023-01-14T04:43:13.028675",
     "status": "completed"
    },
    "tags": []
   },
   "outputs": [
    {
     "name": "stdout",
     "output_type": "stream",
     "text": [
      "<class 'pandas.core.frame.DataFrame'>\n",
      "RangeIndex: 418 entries, 0 to 417\n",
      "Data columns (total 11 columns):\n",
      " #   Column       Non-Null Count  Dtype  \n",
      "---  ------       --------------  -----  \n",
      " 0   PassengerId  418 non-null    int64  \n",
      " 1   Pclass       418 non-null    int64  \n",
      " 2   Name         418 non-null    object \n",
      " 3   Sex          418 non-null    object \n",
      " 4   Age          332 non-null    float64\n",
      " 5   SibSp        418 non-null    int64  \n",
      " 6   Parch        418 non-null    int64  \n",
      " 7   Ticket       418 non-null    object \n",
      " 8   Fare         417 non-null    float64\n",
      " 9   Cabin        91 non-null     object \n",
      " 10  Embarked     418 non-null    object \n",
      "dtypes: float64(2), int64(4), object(5)\n",
      "memory usage: 36.0+ KB\n"
     ]
    }
   ],
   "source": [
    "test_data.info()"
   ]
  },
  {
   "cell_type": "markdown",
   "id": "63b26b12",
   "metadata": {
    "papermill": {
     "duration": 0.007286,
     "end_time": "2023-01-14T04:43:13.065347",
     "exception": false,
     "start_time": "2023-01-14T04:43:13.058061",
     "status": "completed"
    },
    "tags": []
   },
   "source": [
    "## Feature Engineering\n",
    "### feature: titles\n",
    "- source: https://triangleinequality.wordpress.com/2013/09/08/basic-feature-engineering-with-the-titanic-data/"
   ]
  },
  {
   "cell_type": "code",
   "execution_count": 14,
   "id": "07f590b0",
   "metadata": {
    "execution": {
     "iopub.execute_input": "2023-01-14T04:43:13.082477Z",
     "iopub.status.busy": "2023-01-14T04:43:13.081586Z",
     "iopub.status.idle": "2023-01-14T04:43:13.100705Z",
     "shell.execute_reply": "2023-01-14T04:43:13.099814Z"
    },
    "papermill": {
     "duration": 0.029478,
     "end_time": "2023-01-14T04:43:13.102483",
     "exception": false,
     "start_time": "2023-01-14T04:43:13.073005",
     "status": "completed"
    },
    "tags": []
   },
   "outputs": [],
   "source": [
    "import regex as re\n",
    "def get_title(name):\n",
    "    \"\"\"\n",
    "    Use a regular expression to search for a title.  Titles always consist of\n",
    "    capital and lowercase letters, and end with a period.\n",
    "    Takes a name as input and returns the title string as output\n",
    "    \"\"\"\n",
    "    title_search = re.search('([A-Za-z]+)\\.', name)\n",
    "    # If the title exists, extract and return it.\n",
    "    if title_search:\n",
    "        return title_search.group(1)\n",
    "    return \"\""
   ]
  },
  {
   "cell_type": "code",
   "execution_count": 15,
   "id": "76b39d41",
   "metadata": {
    "execution": {
     "iopub.execute_input": "2023-01-14T04:43:13.119163Z",
     "iopub.status.busy": "2023-01-14T04:43:13.118300Z",
     "iopub.status.idle": "2023-01-14T04:43:13.140190Z",
     "shell.execute_reply": "2023-01-14T04:43:13.139212Z"
    },
    "papermill": {
     "duration": 0.032356,
     "end_time": "2023-01-14T04:43:13.142290",
     "exception": false,
     "start_time": "2023-01-14T04:43:13.109934",
     "status": "completed"
    },
    "tags": []
   },
   "outputs": [
    {
     "data": {
      "text/html": [
       "<div>\n",
       "<style scoped>\n",
       "    .dataframe tbody tr th:only-of-type {\n",
       "        vertical-align: middle;\n",
       "    }\n",
       "\n",
       "    .dataframe tbody tr th {\n",
       "        vertical-align: top;\n",
       "    }\n",
       "\n",
       "    .dataframe thead th {\n",
       "        text-align: right;\n",
       "    }\n",
       "</style>\n",
       "<table border=\"1\" class=\"dataframe\">\n",
       "  <thead>\n",
       "    <tr style=\"text-align: right;\">\n",
       "      <th></th>\n",
       "      <th>PassengerId</th>\n",
       "      <th>Survived</th>\n",
       "      <th>Pclass</th>\n",
       "      <th>Name</th>\n",
       "      <th>Sex</th>\n",
       "      <th>Age</th>\n",
       "      <th>SibSp</th>\n",
       "      <th>Parch</th>\n",
       "      <th>Ticket</th>\n",
       "      <th>Fare</th>\n",
       "      <th>Cabin</th>\n",
       "      <th>Embarked</th>\n",
       "      <th>Title</th>\n",
       "    </tr>\n",
       "  </thead>\n",
       "  <tbody>\n",
       "    <tr>\n",
       "      <th>0</th>\n",
       "      <td>1</td>\n",
       "      <td>0</td>\n",
       "      <td>3</td>\n",
       "      <td>Braund, Mr. Owen Harris</td>\n",
       "      <td>male</td>\n",
       "      <td>22.0</td>\n",
       "      <td>1</td>\n",
       "      <td>0</td>\n",
       "      <td>A/5 21171</td>\n",
       "      <td>7.2500</td>\n",
       "      <td>NaN</td>\n",
       "      <td>S</td>\n",
       "      <td>Mr</td>\n",
       "    </tr>\n",
       "    <tr>\n",
       "      <th>1</th>\n",
       "      <td>2</td>\n",
       "      <td>1</td>\n",
       "      <td>1</td>\n",
       "      <td>Cumings, Mrs. John Bradley (Florence Briggs Th...</td>\n",
       "      <td>female</td>\n",
       "      <td>38.0</td>\n",
       "      <td>1</td>\n",
       "      <td>0</td>\n",
       "      <td>PC 17599</td>\n",
       "      <td>71.2833</td>\n",
       "      <td>C85</td>\n",
       "      <td>C</td>\n",
       "      <td>Mrs</td>\n",
       "    </tr>\n",
       "    <tr>\n",
       "      <th>2</th>\n",
       "      <td>3</td>\n",
       "      <td>1</td>\n",
       "      <td>3</td>\n",
       "      <td>Heikkinen, Miss. Laina</td>\n",
       "      <td>female</td>\n",
       "      <td>26.0</td>\n",
       "      <td>0</td>\n",
       "      <td>0</td>\n",
       "      <td>STON/O2. 3101282</td>\n",
       "      <td>7.9250</td>\n",
       "      <td>NaN</td>\n",
       "      <td>S</td>\n",
       "      <td>Miss</td>\n",
       "    </tr>\n",
       "    <tr>\n",
       "      <th>3</th>\n",
       "      <td>4</td>\n",
       "      <td>1</td>\n",
       "      <td>1</td>\n",
       "      <td>Futrelle, Mrs. Jacques Heath (Lily May Peel)</td>\n",
       "      <td>female</td>\n",
       "      <td>35.0</td>\n",
       "      <td>1</td>\n",
       "      <td>0</td>\n",
       "      <td>113803</td>\n",
       "      <td>53.1000</td>\n",
       "      <td>C123</td>\n",
       "      <td>S</td>\n",
       "      <td>Mrs</td>\n",
       "    </tr>\n",
       "    <tr>\n",
       "      <th>4</th>\n",
       "      <td>5</td>\n",
       "      <td>0</td>\n",
       "      <td>3</td>\n",
       "      <td>Allen, Mr. William Henry</td>\n",
       "      <td>male</td>\n",
       "      <td>35.0</td>\n",
       "      <td>0</td>\n",
       "      <td>0</td>\n",
       "      <td>373450</td>\n",
       "      <td>8.0500</td>\n",
       "      <td>NaN</td>\n",
       "      <td>S</td>\n",
       "      <td>Mr</td>\n",
       "    </tr>\n",
       "  </tbody>\n",
       "</table>\n",
       "</div>"
      ],
      "text/plain": [
       "   PassengerId  Survived  Pclass  \\\n",
       "0            1         0       3   \n",
       "1            2         1       1   \n",
       "2            3         1       3   \n",
       "3            4         1       1   \n",
       "4            5         0       3   \n",
       "\n",
       "                                                Name     Sex   Age  SibSp  \\\n",
       "0                            Braund, Mr. Owen Harris    male  22.0      1   \n",
       "1  Cumings, Mrs. John Bradley (Florence Briggs Th...  female  38.0      1   \n",
       "2                             Heikkinen, Miss. Laina  female  26.0      0   \n",
       "3       Futrelle, Mrs. Jacques Heath (Lily May Peel)  female  35.0      1   \n",
       "4                           Allen, Mr. William Henry    male  35.0      0   \n",
       "\n",
       "   Parch            Ticket     Fare Cabin Embarked Title  \n",
       "0      0         A/5 21171   7.2500   NaN        S    Mr  \n",
       "1      0          PC 17599  71.2833   C85        C   Mrs  \n",
       "2      0  STON/O2. 3101282   7.9250   NaN        S  Miss  \n",
       "3      0            113803  53.1000  C123        S   Mrs  \n",
       "4      0            373450   8.0500   NaN        S    Mr  "
      ]
     },
     "execution_count": 15,
     "metadata": {},
     "output_type": "execute_result"
    }
   ],
   "source": [
    "train_data[\"Title\"] = train_data[\"Name\"].apply(get_title)  \n",
    "#We dropped \"Name\" earlier. So, we use original data.\n",
    "train_data.head()"
   ]
  },
  {
   "cell_type": "code",
   "execution_count": 16,
   "id": "e97be87d",
   "metadata": {
    "execution": {
     "iopub.execute_input": "2023-01-14T04:43:13.159523Z",
     "iopub.status.busy": "2023-01-14T04:43:13.159086Z",
     "iopub.status.idle": "2023-01-14T04:43:13.164006Z",
     "shell.execute_reply": "2023-01-14T04:43:13.163113Z"
    },
    "papermill": {
     "duration": 0.015724,
     "end_time": "2023-01-14T04:43:13.166134",
     "exception": false,
     "start_time": "2023-01-14T04:43:13.150410",
     "status": "completed"
    },
    "tags": []
   },
   "outputs": [
    {
     "name": "stdout",
     "output_type": "stream",
     "text": [
      "['Mr' 'Mrs' 'Miss' 'Master' 'Don' 'Rev' 'Dr' 'Mme' 'Ms' 'Major' 'Lady'\n",
      " 'Sir' 'Mlle' 'Col' 'Capt' 'Countess' 'Jonkheer']\n"
     ]
    }
   ],
   "source": [
    "# see all unique names in training data\n",
    "unique_titles = train_data[\"Title\"].unique()\n",
    "print(unique_titles)"
   ]
  },
  {
   "cell_type": "code",
   "execution_count": 17,
   "id": "2785764a",
   "metadata": {
    "execution": {
     "iopub.execute_input": "2023-01-14T04:43:13.183810Z",
     "iopub.status.busy": "2023-01-14T04:43:13.183530Z",
     "iopub.status.idle": "2023-01-14T04:43:13.191518Z",
     "shell.execute_reply": "2023-01-14T04:43:13.190559Z"
    },
    "papermill": {
     "duration": 0.018261,
     "end_time": "2023-01-14T04:43:13.193197",
     "exception": false,
     "start_time": "2023-01-14T04:43:13.174936",
     "status": "completed"
    },
    "tags": []
   },
   "outputs": [
    {
     "data": {
      "text/plain": [
       "Title\n",
       "Mr          517\n",
       "Miss        182\n",
       "Mrs         125\n",
       "Master       40\n",
       "Dr            7\n",
       "Rev           6\n",
       "Major         2\n",
       "Col           2\n",
       "Mlle          2\n",
       "Mme           1\n",
       "Ms            1\n",
       "Capt          1\n",
       "Lady          1\n",
       "Jonkheer      1\n",
       "Don           1\n",
       "Countess      1\n",
       "Sir           1\n",
       "Name: PassengerId, dtype: int64"
      ]
     },
     "execution_count": 17,
     "metadata": {},
     "output_type": "execute_result"
    }
   ],
   "source": [
    "# show the counts of the different titles extracted from the names\n",
    "# note: validate count to check if binning features could be useful \n",
    "train_data.groupby('Title')['PassengerId'].count().sort_values(ascending=False)"
   ]
  },
  {
   "cell_type": "code",
   "execution_count": null,
   "id": "3ff3d802",
   "metadata": {
    "papermill": {
     "duration": 0.007775,
     "end_time": "2023-01-14T04:43:13.208890",
     "exception": false,
     "start_time": "2023-01-14T04:43:13.201115",
     "status": "completed"
    },
    "tags": []
   },
   "outputs": [],
   "source": []
  },
  {
   "cell_type": "markdown",
   "id": "6948cb35",
   "metadata": {
    "papermill": {
     "duration": 0.007709,
     "end_time": "2023-01-14T04:43:13.224466",
     "exception": false,
     "start_time": "2023-01-14T04:43:13.216757",
     "status": "completed"
    },
    "tags": []
   },
   "source": [
    "## Model 1 - RandomForestClassifier\n",
    "- note: score 0.77511"
   ]
  },
  {
   "cell_type": "code",
   "execution_count": 18,
   "id": "55e6573c",
   "metadata": {
    "execution": {
     "iopub.execute_input": "2023-01-14T04:43:13.242120Z",
     "iopub.status.busy": "2023-01-14T04:43:13.241542Z",
     "iopub.status.idle": "2023-01-14T04:43:13.692438Z",
     "shell.execute_reply": "2023-01-14T04:43:13.691331Z"
    },
    "papermill": {
     "duration": 0.461969,
     "end_time": "2023-01-14T04:43:13.694362",
     "exception": false,
     "start_time": "2023-01-14T04:43:13.232393",
     "status": "completed"
    },
    "tags": []
   },
   "outputs": [
    {
     "name": "stdout",
     "output_type": "stream",
     "text": [
      "Your submission was successfully saved!\n"
     ]
    }
   ],
   "source": [
    "from sklearn.ensemble import RandomForestClassifier\n",
    "\n",
    "# define dependent variable\n",
    "y = train_data[\"Survived\"]\n",
    "\n",
    "# define list of features e.g. independent variables\n",
    "features = [\"Pclass\", \"Sex\", \"SibSp\", \"Parch\"]\n",
    "\n",
    "# create dummy variables from features of training set\n",
    "X = pd.get_dummies(train_data[features])\n",
    "\n",
    "# create dummy variables from features of test set\n",
    "X_test = pd.get_dummies(test_data[features])\n",
    "\n",
    "# define the model with the hyper-parameters\n",
    "model = RandomForestClassifier(n_estimators=100, max_depth=5, random_state=1)\n",
    "\n",
    "# fit the model\n",
    "model.fit(X, y)\n",
    "\n",
    "# make the predictions\n",
    "predictions = model.predict(X_test)\n",
    "\n",
    "# create a pandas dataframe with the output of the predictions\n",
    "output = pd.DataFrame({'PassengerId': test_data.PassengerId, 'Survived': predictions})\n",
    "\n",
    "# output to .csv file the prediction\n",
    "output.to_csv('submission.csv', index=False)\n",
    "\n",
    "# print user message that submission was succesfull \n",
    "print(\"Your submission was successfully saved!\")"
   ]
  },
  {
   "cell_type": "code",
   "execution_count": 19,
   "id": "82c65d35",
   "metadata": {
    "execution": {
     "iopub.execute_input": "2023-01-14T04:43:13.712074Z",
     "iopub.status.busy": "2023-01-14T04:43:13.711712Z",
     "iopub.status.idle": "2023-01-14T04:43:13.721661Z",
     "shell.execute_reply": "2023-01-14T04:43:13.720803Z"
    },
    "papermill": {
     "duration": 0.020569,
     "end_time": "2023-01-14T04:43:13.723197",
     "exception": false,
     "start_time": "2023-01-14T04:43:13.702628",
     "status": "completed"
    },
    "tags": []
   },
   "outputs": [
    {
     "data": {
      "text/html": [
       "<div>\n",
       "<style scoped>\n",
       "    .dataframe tbody tr th:only-of-type {\n",
       "        vertical-align: middle;\n",
       "    }\n",
       "\n",
       "    .dataframe tbody tr th {\n",
       "        vertical-align: top;\n",
       "    }\n",
       "\n",
       "    .dataframe thead th {\n",
       "        text-align: right;\n",
       "    }\n",
       "</style>\n",
       "<table border=\"1\" class=\"dataframe\">\n",
       "  <thead>\n",
       "    <tr style=\"text-align: right;\">\n",
       "      <th></th>\n",
       "      <th>PassengerId</th>\n",
       "      <th>Survived</th>\n",
       "    </tr>\n",
       "  </thead>\n",
       "  <tbody>\n",
       "    <tr>\n",
       "      <th>0</th>\n",
       "      <td>892</td>\n",
       "      <td>0</td>\n",
       "    </tr>\n",
       "    <tr>\n",
       "      <th>1</th>\n",
       "      <td>893</td>\n",
       "      <td>1</td>\n",
       "    </tr>\n",
       "    <tr>\n",
       "      <th>2</th>\n",
       "      <td>894</td>\n",
       "      <td>0</td>\n",
       "    </tr>\n",
       "    <tr>\n",
       "      <th>3</th>\n",
       "      <td>895</td>\n",
       "      <td>0</td>\n",
       "    </tr>\n",
       "    <tr>\n",
       "      <th>4</th>\n",
       "      <td>896</td>\n",
       "      <td>1</td>\n",
       "    </tr>\n",
       "    <tr>\n",
       "      <th>...</th>\n",
       "      <td>...</td>\n",
       "      <td>...</td>\n",
       "    </tr>\n",
       "    <tr>\n",
       "      <th>413</th>\n",
       "      <td>1305</td>\n",
       "      <td>0</td>\n",
       "    </tr>\n",
       "    <tr>\n",
       "      <th>414</th>\n",
       "      <td>1306</td>\n",
       "      <td>1</td>\n",
       "    </tr>\n",
       "    <tr>\n",
       "      <th>415</th>\n",
       "      <td>1307</td>\n",
       "      <td>0</td>\n",
       "    </tr>\n",
       "    <tr>\n",
       "      <th>416</th>\n",
       "      <td>1308</td>\n",
       "      <td>0</td>\n",
       "    </tr>\n",
       "    <tr>\n",
       "      <th>417</th>\n",
       "      <td>1309</td>\n",
       "      <td>0</td>\n",
       "    </tr>\n",
       "  </tbody>\n",
       "</table>\n",
       "<p>418 rows × 2 columns</p>\n",
       "</div>"
      ],
      "text/plain": [
       "     PassengerId  Survived\n",
       "0            892         0\n",
       "1            893         1\n",
       "2            894         0\n",
       "3            895         0\n",
       "4            896         1\n",
       "..           ...       ...\n",
       "413         1305         0\n",
       "414         1306         1\n",
       "415         1307         0\n",
       "416         1308         0\n",
       "417         1309         0\n",
       "\n",
       "[418 rows x 2 columns]"
      ]
     },
     "execution_count": 19,
     "metadata": {},
     "output_type": "execute_result"
    }
   ],
   "source": [
    "# show output prediction of test_data of passengerId survived or not\n",
    "output"
   ]
  }
 ],
 "metadata": {
  "kernelspec": {
   "display_name": "Python 3",
   "language": "python",
   "name": "python3"
  },
  "language_info": {
   "codemirror_mode": {
    "name": "ipython",
    "version": 3
   },
   "file_extension": ".py",
   "mimetype": "text/x-python",
   "name": "python",
   "nbconvert_exporter": "python",
   "pygments_lexer": "ipython3",
   "version": "3.7.12"
  },
  "papermill": {
   "default_parameters": {},
   "duration": 9.251324,
   "end_time": "2023-01-14T04:43:14.350277",
   "environment_variables": {},
   "exception": null,
   "input_path": "__notebook__.ipynb",
   "output_path": "__notebook__.ipynb",
   "parameters": {},
   "start_time": "2023-01-14T04:43:05.098953",
   "version": "2.3.4"
  }
 },
 "nbformat": 4,
 "nbformat_minor": 5
}
